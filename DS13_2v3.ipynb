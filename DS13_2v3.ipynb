{
  "nbformat": 4,
  "nbformat_minor": 0,
  "metadata": {
    "colab": {
      "provenance": [],
      "toc_visible": true,
      "include_colab_link": true
    },
    "kernelspec": {
      "name": "python3",
      "display_name": "Python 3"
    },
    "language_info": {
      "name": "python"
    }
  },
  "cells": [
    {
      "cell_type": "markdown",
      "metadata": {
        "id": "view-in-github",
        "colab_type": "text"
      },
      "source": [
        "<a href=\"https://colab.research.google.com/github/okana2ki/intro-to-DS/blob/main/DS13_2v3.ipynb\" target=\"_parent\"><img src=\"https://colab.research.google.com/assets/colab-badge.svg\" alt=\"Open In Colab\"/></a>"
      ]
    },
    {
      "cell_type": "markdown",
      "source": [
        "# `SSDSE-C-2024.csv`の読み込み"
      ],
      "metadata": {
        "id": "crOrAAvf7T4m"
      }
    },
    {
      "cell_type": "code",
      "source": [
        "import pandas as pd\n",
        "\n",
        "url = \"https://www.nstac.go.jp/sys/files/SSDSE-C-2024.csv\"\n",
        "df = pd.read_csv(url, header=1, encoding=\"shift_jis\")\n",
        "print(df)"
      ],
      "metadata": {
        "id": "AzLBNnlQ7smL"
      },
      "execution_count": null,
      "outputs": []
    },
    {
      "cell_type": "markdown",
      "source": [
        "## AIへのデータ解説\n",
        "\n",
        "**この後、AIにプログラム作成を依頼したときに、このデータを適切に解釈してもらえるように、↓下のセルで、コメント行の形で、このデータの形式と内容を（AIに対して）説明しておく。←これは重要です。これがあるのとないのとでは、適切なプログラムが生成される可能性が大きく変わるはず。**試しに、下記のセルよりも上のセルでAIに依頼して比べてみて下さい（AIは依頼したセルよりも下は読み込まないので）。（もちろん、プログラム作成を依頼するときに、このような情報を付けて依頼することもできる。）\n",
        "\n",
        "↓下のセル内の\n",
        "説明は、[サイト](https://www.nstac.go.jp/use/literacy/ssdse/) に掲載されている[データ解説PDFファイル](https://www.nstac.go.jp/sys/files/kaisetsu-C-2024.pdf) に基づいて書きました。（AIだけでなく）皆さんも、この解説PDFに目を通してからデータ分析するようにして下さい。\n",
        "\n",
        "`header=1`と指定したため、変数`df`は、元のCSVファイルから、1行目を削除した内容になっていることに注意して下さい。"
      ],
      "metadata": {
        "id": "aLG557fz75Q5"
      }
    },
    {
      "cell_type": "code",
      "source": [
        "# dfデータの解説\n",
        "# データのレイアウト\n",
        "# 1行目は項目名、それ以下の48行がデータ。データ行は、「全国」と「47都道府県庁所在市」に対応。\n",
        "# 列は、最初の3列が地域情報を示す。1行目から順に「地域コード」「都道府県」「市」を示す。\n",
        "# 4列目以降がデータで、4列目から順に「世帯人員」「食料（合計）」と続くが、5列目は、食品（合計）に対する1世帯当たり年間支出金額で、\n",
        "# 6列目以降は、食品の品目ごとの1世帯当たり年間支出金額のデータである。\n",
        "# なお、次の12個の列は、それぞれ、それ以降の列の小計になっている：「穀類」「魚介類」「肉類」「乳卵類」「野菜・海藻」「果物」「油脂・調味料」「菓子類」「調理食品」「飲料」「酒類」「外食」"
      ],
      "metadata": {
        "id": "NjRrXrFp8Clg"
      },
      "execution_count": null,
      "outputs": []
    },
    {
      "cell_type": "markdown",
      "source": [
        "## グラフ中の日本語表示を可能にする\n",
        "\n",
        "AIに依頼すると、グラフ中に日本語表示するプログラムを作成することがあるため、グラフ中に日本語が表示できるように、あらかじめ、下記の2つのコードセルを実行しておきましょう。"
      ],
      "metadata": {
        "id": "rXvgOzze8UB3"
      }
    },
    {
      "cell_type": "code",
      "source": [
        "!pip install japanize_matplotlib"
      ],
      "metadata": {
        "id": "AryJwpa-8Y7V"
      },
      "execution_count": null,
      "outputs": []
    },
    {
      "cell_type": "code",
      "source": [
        "import japanize_matplotlib"
      ],
      "metadata": {
        "id": "C_m1yaRz8aFU"
      },
      "execution_count": 3,
      "outputs": []
    },
    {
      "cell_type": "markdown",
      "source": [
        "# データのランキング\n",
        "\n",
        "ランキングとは、順位付けです。たとえば、宮崎は餃子への支出額が一位とか、そういうやつです。\n",
        "\n"
      ],
      "metadata": {
        "id": "76A1ji3IS28Q"
      }
    },
    {
      "cell_type": "code",
      "source": [
        "# 数値データ列だけを対象に(numeric_only=True)、列ごとに降順でランキング\n",
        "df_rank = df.rank(numeric_only=True, ascending=False)\n",
        "print(df_rank)"
      ],
      "metadata": {
        "id": "pbcqsTukl6Fp"
      },
      "execution_count": null,
      "outputs": []
    },
    {
      "cell_type": "code",
      "source": [
        "df_city = df[['市']]  # 上記のランキングには市の列が含まれないので、別途、市の列を抽出\n",
        "print(df_city)"
      ],
      "metadata": {
        "id": "bBg4a6phTGmI"
      },
      "execution_count": null,
      "outputs": []
    },
    {
      "cell_type": "code",
      "source": [
        "# 市のDataFrameとランキングのDataFrameを連結→市の列を含むランキングが完成\n",
        "df_city_rank = pd.concat([df_city, df_rank], axis=1)\n",
        "print(df_city_rank)"
      ],
      "metadata": {
        "id": "qQ5swEt0VKGm"
      },
      "execution_count": null,
      "outputs": []
    },
    {
      "cell_type": "code",
      "source": [
        "# prompt: df_city_rankから、宮崎市の行を抜き出して下さい。\n",
        "\n",
        "# 宮崎市の行を抽出\n",
        "df_miyazaki_rank = df_city_rank[df_city_rank['市'] == '宮崎市']\n",
        "\n",
        "# 結果を表示\n",
        "df_miyazaki_rank"
      ],
      "metadata": {
        "id": "sk1BBMnL-Sb4"
      },
      "execution_count": null,
      "outputs": []
    },
    {
      "cell_type": "code",
      "source": [
        "# prompt: 宮崎が上位１５位以内の品目名とランキングを抽出して下さい。\n",
        "\n",
        "# 列名を取得\n",
        "columns = df.columns[3:]  # dfの最初の3列は地域情報なので除外\n",
        "\n",
        "# 上位15位以内の品目名とランキングを抽出\n",
        "miyazaki_top15 = {}\n",
        "for col in columns:\n",
        "    rank = df_miyazaki_rank[col].iloc[0]\n",
        "    if rank <= 15:\n",
        "        miyazaki_top15[col] = rank\n",
        "\n",
        "# 結果を表示\n",
        "for item, rank in miyazaki_top15.items():\n",
        "    print(f\"品目名: {item}, ランキング: {rank}\")"
      ],
      "metadata": {
        "id": "I6XmEqgrJn6a"
      },
      "execution_count": null,
      "outputs": []
    },
    {
      "cell_type": "markdown",
      "source": [
        "## 演習問題\n",
        "\n",
        "同様に、宮崎が46位以降（少ない方から3位以内）の品目名とランキングを表示するプログラムを作って下さい。AIに頼んでもよいですが、自分でもできると思います。\n",
        "\n",
        "`if rank <= 15:`\n",
        "\n",
        "の代わりに、\n",
        "\n",
        "`if rank >= 46:`\n",
        "\n",
        "とすると良さそうですね。"
      ],
      "metadata": {
        "id": "J3EMnrH1QE1-"
      }
    },
    {
      "cell_type": "code",
      "source": [],
      "metadata": {
        "id": "3_wsPAksSPZx"
      },
      "execution_count": null,
      "outputs": []
    },
    {
      "cell_type": "code",
      "source": [
        "df_miyazaki_rank_t = df_miyazaki_rank.T\n",
        "# .Tによる転置（行と列の入れ替え）←後の処理の都合で転置しておいた方が便利そうなので\n",
        "print(df_miyazaki_rank_t)"
      ],
      "metadata": {
        "id": "u0ENL2ANirxE"
      },
      "execution_count": null,
      "outputs": []
    },
    {
      "cell_type": "code",
      "source": [
        "import matplotlib.pyplot as plt\n",
        "import japanize_matplotlib  # 日本語対応（グラフ中で日本語が表示できるようにする）\n",
        "\n",
        "df_miyazaki_rank_t.drop(df_miyazaki_rank_t.index[[0]]).plot.bar(figsize=(40,5))\n",
        "# 数値データでない0行目を削除(.drop)して棒グラフを表示(.plot.bar)"
      ],
      "metadata": {
        "id": "ofntbSjplgHv"
      },
      "execution_count": null,
      "outputs": []
    },
    {
      "cell_type": "markdown",
      "source": [
        "## 演習問題\n",
        "以上の結果から、宮崎は食料品消費額ランキング上位の品目は少なく、消費額ランキング下位の品目が多いことが分かりますね。この傾向は、食料（合計）のランキングが43位（下から6番目）であることにも表れています。\n",
        "\n",
        "宮崎は物価が安いから消費額が少ないのか、年収が少ない人が多いから少ないのか、それぞれがどれくらい効いて、このような結果になっているのでしょうか？\n",
        "[エンゲル係数](https://www.rakuten-card.co.jp/minna-money/topic/article_2103_00007/)の話は、これを考察する上で参考になりそうですね。\n",
        "いずれにせよ、このことをちゃんと分析・考察するには、物価のデータや、年収のデータを合わせて調べる必要があります。\n",
        "興味がある人は調べてみて下さい。"
      ],
      "metadata": {
        "id": "k-MP6IFQ6mXl"
      }
    },
    {
      "cell_type": "code",
      "source": [],
      "metadata": {
        "id": "NgiAn5AvsSzh"
      },
      "execution_count": null,
      "outputs": []
    },
    {
      "cell_type": "markdown",
      "source": [
        "## 演習問題\n",
        "\n",
        "**品目ごとの消費額を食料品全体の消費額（食料（合計））で割り算して、割合でランキング**すると、宮崎の特徴を表す別の傾向が見えそうです。ぜひ分析してみて下さい。地域ごとの物価の違いの影響をある程度抑えて、それぞれの市がどのような消費傾向を持っているかが見えるのではないかと思います。ただし、「宮崎ではピーマンが安い」のような個々の品目の価格の違いの影響は残ったままです。宮崎では全体として食品の物価が安いという傾向（があるとしたら、それ）は打ち消せるのですが。都市ごとの年収の違いの影響も抑えられるかな・・・"
      ],
      "metadata": {
        "id": "CdndarN5LAsa"
      }
    },
    {
      "cell_type": "code",
      "source": [],
      "metadata": {
        "id": "BO0zvt-1XQmK"
      },
      "execution_count": null,
      "outputs": []
    },
    {
      "cell_type": "code",
      "source": [],
      "metadata": {
        "id": "KMpNFDpuXAk-"
      },
      "execution_count": null,
      "outputs": []
    },
    {
      "cell_type": "markdown",
      "source": [],
      "metadata": {
        "id": "JDexDO7bXQ9l"
      }
    },
    {
      "cell_type": "markdown",
      "source": [
        "以下は、私がAIに依頼して作成した、割合でランキングするプログラムです。"
      ],
      "metadata": {
        "id": "cZnzM8G_XBUN"
      }
    },
    {
      "cell_type": "code",
      "source": [
        "# prompt: 品目ごとの消費額を食料品全体の消費額（食料（合計））で割り算して、割合でランキングするプログラムを書いて下さい。\n",
        "\n",
        "# 食料品全体の消費額（食料（合計））の列名を取得\n",
        "total_food_expenditure_column = '食料（合計）'\n",
        "\n",
        "# 各品目の消費額を食料品全体の消費額で割って割合を計算し、新しいDataFrameを作成\n",
        "df_ratio = df.copy()  # 元のDataFrameをコピー\n",
        "for col in df.columns[5:]:  # 6列目以降（品目ごとの消費額）をループ\n",
        "    df_ratio[col] = df_ratio[col] / df_ratio[total_food_expenditure_column]\n",
        "\n",
        "# 割合でランキング\n",
        "df_ratio_rank = df_ratio.rank(numeric_only=True, ascending=False)\n",
        "\n",
        "# 市の列を追加\n",
        "df_city_ratio_rank = pd.concat([df['市'], df_ratio_rank], axis=1)\n",
        "\n",
        "# 結果を表示\n",
        "print(df_city_ratio_rank)\n",
        "\n",
        "# 宮崎市の割合ランキングを表示\n",
        "df_miyazaki_ratio_rank = df_city_ratio_rank[df_city_ratio_rank['市'] == '宮崎市']\n",
        "print(df_miyazaki_ratio_rank)\n",
        "\n",
        "# 上位15位と下位3位の品目とランキングを抽出\n",
        "miyazaki_top15 = {}\n",
        "miyazaki_bottom3 = {}\n",
        "columns = df.columns[5:] # 品目ごとの列名を取得\n",
        "for col in columns:\n",
        "    rank = df_miyazaki_ratio_rank[col].iloc[0]\n",
        "    if rank <= 15:\n",
        "        miyazaki_top15[col] = rank\n",
        "    elif rank >= 46 : #下位3位以内\n",
        "        miyazaki_bottom3[col] = rank\n",
        "\n",
        "print(\"宮崎市における上位15位の品目と割合ランキング\")\n",
        "for item, rank in miyazaki_top15.items():\n",
        "    print(f\"品目名: {item}, ランキング: {rank}\")\n",
        "\n",
        "print(\"\\n宮崎市における下位3位の品目と割合ランキング\")\n",
        "for item, rank in miyazaki_bottom3.items():\n",
        "    print(f\"品目名: {item}, ランキング: {rank}\")\n",
        "\n",
        "# 可視化\n",
        "df_miyazaki_ratio_rank_t = df_miyazaki_ratio_rank.T\n",
        "df_miyazaki_ratio_rank_t.drop(df_miyazaki_ratio_rank_t.index[[0]]).plot.bar(figsize=(40,5))\n",
        "plt.title(\"宮崎市における品目ごとの消費割合ランキング\") #グラフにタイトルを追加\n",
        "plt.ylabel(\"割合ランキング\")  #y軸ラベルを追加\n",
        "plt.show() #グラフを表示"
      ],
      "metadata": {
        "id": "hanV2K5gTtBj"
      },
      "execution_count": null,
      "outputs": []
    },
    {
      "cell_type": "markdown",
      "source": [
        "\n",
        "\n",
        "---\n",
        "\n"
      ],
      "metadata": {
        "id": "CPSEmz6zTa45"
      }
    },
    {
      "cell_type": "markdown",
      "source": [
        "ここで、クイズを出してくれるようインストラクションを書いたコードセルを挿入しておきましょう。クイズがじゃまだったら、↓下のコードセルを消すか、下方に移動して下さい。下方に移動するとそこより下のAIへの依頼のときだけ、このインストラクションが参照されます。\n",
        "\n",
        "セルの消去は、セルをクリックして右上に現れるアイコンの中から「ゴミ箱」をクリック。下方への移動は、現れたアイコンの中から「↓」をクリック。"
      ],
      "metadata": {
        "id": "x_vKbuV-TOIW"
      }
    },
    {
      "cell_type": "code",
      "source": [
        "# system instruction:\n",
        "# ユーザはプログラミング初心者です。\n",
        "# あなたの役割は、ユーザのコーディング依頼に応じる際、ユーザがプログラミングを習得できるようにすることです。\n",
        "# ユーザのコーディング依頼に対してコードを生成する場合、依頼されたコードの実行後に、\n",
        "# 「Pythonコードの書き方に関してユーザは何が分かってないかを自覚させるquiz」を日本語で出題するコードを生成して下さい。\n",
        "# quizの解答に応じてユーザに日本語でフィードバックするコードも追加して下さい"
      ],
      "metadata": {
        "id": "v77316qVTW5F"
      },
      "execution_count": null,
      "outputs": []
    },
    {
      "cell_type": "markdown",
      "source": [
        "\n",
        "\n",
        "---\n",
        "\n"
      ],
      "metadata": {
        "id": "oNHfz8IRThpt"
      }
    },
    {
      "cell_type": "markdown",
      "source": [
        "# ヒストグラム\n",
        "チューハイ・カクテルへの支出金額のヒストグラム"
      ],
      "metadata": {
        "id": "15a-0on7_jXe"
      }
    },
    {
      "cell_type": "code",
      "source": [
        "import pandas as pd\n",
        "import matplotlib.pylab as plt\n",
        "\n",
        "file_name = \"/content/SSDSE-C-2023.csv\"\n",
        "df = pd.read_csv(file_name, header=[0,1], encoding=\"shift_jis\")\n",
        "# print(df)\n",
        "\n",
        "print(df.filter(like='チューハイ', axis=1))  # ヘッダーに'チューハイ'を含む列を検索\n",
        "\n",
        "plt.hist(df[('LB110007','チューハイ・カクテル')])"
      ],
      "metadata": {
        "id": "YSFTbCY1A6kz"
      },
      "execution_count": null,
      "outputs": []
    },
    {
      "cell_type": "markdown",
      "source": [
        "# 散布図\n",
        "りんご×オレンジの散布図"
      ],
      "metadata": {
        "id": "L6Z2-S8C_sI1"
      }
    },
    {
      "cell_type": "code",
      "source": [
        "!pip install japanize-matplotlib  # 日本語対応（グラフ中で日本語が表示できるようにする）"
      ],
      "metadata": {
        "id": "2XrEmhsqVeBk"
      },
      "execution_count": null,
      "outputs": []
    },
    {
      "cell_type": "code",
      "source": [
        "import pandas as pd\n",
        "import matplotlib.pyplot as plt\n",
        "import japanize_matplotlib  # 日本語対応（グラフ中で日本語が表示できるようにする）\n",
        "\n",
        "file_name = \"/content/SSDSE-C-2023.csv\"\n",
        "df = pd.read_csv(file_name, header=[0,1], encoding=\"shift_jis\")\n",
        "# print(df)\n",
        "\n",
        "# print(df.filter(like='りんご', axis=1))  # ヘッダーに'りんご'を含む列を検索\n",
        "# print(df.filter(like='オレンジ', axis=1))  # ヘッダーに'オレンジ'を含む列を検索\n",
        "\n",
        "x = df[('LB061001','りんご')]\n",
        "y = df[('LB061004','オレンジ')]\n",
        "city = df[('City','市')]\n",
        "# print(city)\n",
        "\n",
        "plt.figure(figsize=(15, 12))\n",
        "plt.scatter(x,y) # 散布図\n",
        "for i in range(len(x)): # 各点に市のラベルを付ける\n",
        "    # 文字が重なってしまう都道府県名の表示位置を調整\n",
        "    if city[i] in ['神戸市', '千葉市', '徳島市', '長崎市', '鹿児島市', '高松市', '宇都宮市', '名古屋市']:\n",
        "        plt.text(x[i], y[i], city[i], ha='left', va='bottom')\n",
        "    else:\n",
        "        plt.text(x[i], y[i], city[i], ha='right', va='bottom')\n",
        "\n",
        "plt.xlabel('りんごへの支出額')\n",
        "plt.ylabel('オレンジへの支出額')\n",
        "plt.show()\n",
        "\n",
        "# df_city_ringo_orange = df[[('City','市'),('LB061001','りんご'),('LB061004','オレンジ')]]  # 市の列とりんごの列とオレンジの列を抽出\n",
        "# print(df_city_ringo_orange)"
      ],
      "metadata": {
        "id": "kETaN2RbBFEv"
      },
      "execution_count": null,
      "outputs": []
    },
    {
      "cell_type": "markdown",
      "source": [
        "# 参考\n",
        "以下は、「データのランキング」のセクション後半で、支出額を割合で上書きするプログラムの作成時に、その動作を小さいDataFrameで確認したときのもの。参考までに掲載します。\n",
        "\n",
        "なお、本日の小テストはこの（下記の）プログラムに関する問題です。**わらかないときは、生成AIに尋ねると教えてくれるはずですが、答を尋ねるのでなく、プログラムの分からない点を質問したりする方をお勧めします。その方が力がつくので。答をすぐに教えることを避ける設定にしてあると、そのように対応してくれるかもしれません。**"
      ],
      "metadata": {
        "id": "I2QvBIKernKi"
      }
    },
    {
      "cell_type": "code",
      "source": [
        "import pandas as pd\n",
        "\n",
        "dfs = pd.DataFrame({'a': [1,2], 'b': [3,4], 'c': [5,6]})\n",
        "print(dfs)\n",
        "\n",
        "for column_name, item in dfs.iloc[:,1:3].items():\n",
        "  dfs[column_name] = dfs[column_name] / dfs['a']\n",
        "print(dfs)"
      ],
      "metadata": {
        "id": "FjPpXmN-cPTf"
      },
      "execution_count": null,
      "outputs": []
    }
  ]
}