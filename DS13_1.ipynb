{
  "nbformat": 4,
  "nbformat_minor": 0,
  "metadata": {
    "colab": {
      "provenance": [],
      "toc_visible": true
    },
    "kernelspec": {
      "name": "python3",
      "display_name": "Python 3"
    },
    "language_info": {
      "name": "python"
    }
  },
  "cells": [
    {
      "cell_type": "markdown",
      "source": [
        "#ファイルの読み込み\n",
        "CSVファイルをpandasのDataFrame形式で読み込む。\n",
        "\n"
      ],
      "metadata": {
        "id": "EmyXqMWgaWwr"
      }
    },
    {
      "cell_type": "markdown",
      "source": [
        "ヘッダー行を指定する必要がある。SSDSE-B-2022.csvの場合は、最初の2行がヘッダー（データは3行目から始まる）なので、\n",
        "```\n",
        "header=[0,1]\n",
        "```\n",
        "のように行番号のリストで指定する。"
      ],
      "metadata": {
        "id": "4YKQXcU5Vpdu"
      }
    },
    {
      "cell_type": "markdown",
      "source": [
        "日本語を含むファイルの場合は、encoding（文字コード）を適切に指定する必要がある。encodingを指定しないと、デフォルトのutf_8と見なされるが、それでエラーが出る場合は、shift_jisを指定する。\n",
        "```\n",
        "encoding=\"utf_8\"  # こちらがデフォルト（指定しないとこちらだと解釈される）\n",
        "encoding=\"shift_jis\"\n",
        "```\n",
        "\n"
      ],
      "metadata": {
        "id": "Y5dO8bgEb1JA"
      }
    },
    {
      "cell_type": "markdown",
      "source": [
        "##Webサイト上のファイルの読み込み"
      ],
      "metadata": {
        "id": "uekJz2h0ak7I"
      }
    },
    {
      "cell_type": "code",
      "source": [
        "import pandas as pd\n",
        "\n",
        "url = \"https://www.nstac.go.jp/sys/files//SSDSE-B-2022.csv\"\n",
        "df = pd.read_csv(url, header=[0,1], encoding=\"shift_jis\")\n",
        "print(df)"
      ],
      "metadata": {
        "id": "WbSXto6wbPsh"
      },
      "execution_count": null,
      "outputs": []
    },
    {
      "cell_type": "markdown",
      "source": [
        "##[Google Colabにアップロードしたファイルの読み込み](https://blog.kikagaku.co.jp/google-colab-file)\n",
        "\n",
        "（Google Drive中のファイルを読み込む方法もあるが、今回はこちらを紹介する。）\n",
        "\n",
        "1.   Colabの左サイドバーのファイルマークをクリック\n",
        "2.   表示されたサイドバーに、アップロードするファイルをドラッグ&ドロップ\n",
        "3.   アップロードされたファイルにマウスオーバー（マウスオン）する\n",
        "4.   表示されたメニューアイコン「︙」をクリック\n",
        "5.   プルダウンメニューから「パスをコピー」を選択\n",
        "6.   コピーされたパス(/content/SSDSE-B-2022.csv)をプログラム中の当該箇所に貼り付け"
      ],
      "metadata": {
        "id": "qCxrBvNyBlxG"
      }
    },
    {
      "cell_type": "code",
      "source": [
        "import pandas as pd\n",
        "\n",
        "file_name = \"/content/SSDSE-B-2022.csv\"\n",
        "df = pd.read_csv(file_name, header=[0,1], encoding=\"shift_jis\")\n",
        "print(df)"
      ],
      "metadata": {
        "id": "bnX3eoZFyeZm"
      },
      "execution_count": null,
      "outputs": []
    },
    {
      "cell_type": "markdown",
      "source": [
        "# フィルタリング（条件に合うデータを抜き出す）"
      ],
      "metadata": {
        "id": "UoGs_doAKcSI"
      }
    },
    {
      "cell_type": "code",
      "source": [
        "df2015 = df[df[('SSDSE-B-2022','Unnamed: 0_level_1')] == 2015]\n",
        "# 2015年のデータだけ抽出\n",
        "# SSDSE-B-2022は調査年が記載されているカラムのヘッダー第0行の記載内容、\n",
        "# そのカラムのヘッダー第1行は空欄なので'Unnamed: 0_level_1'と設定される。\n",
        "# この2つを組み合わせて調査年のカラムであることを指定。\n",
        "print(df2015)"
      ],
      "metadata": {
        "id": "NK70G2MFMKY8"
      },
      "execution_count": null,
      "outputs": []
    },
    {
      "cell_type": "markdown",
      "source": [
        "# 和、平均、中央値を求める\n"
      ],
      "metadata": {
        "id": "lKaf9x3YZnLA"
      }
    },
    {
      "cell_type": "markdown",
      "source": [
        "## 日本の総人口を求める"
      ],
      "metadata": {
        "id": "-6COku6cd9y9"
      }
    },
    {
      "cell_type": "code",
      "source": [
        "df2015popu = df2015[[('A1101','総人口')]]  # 総人口のカラムを抽出\n",
        "print(df2015popu)"
      ],
      "metadata": {
        "id": "v0cwcIaGgE0Q"
      },
      "execution_count": null,
      "outputs": []
    },
    {
      "cell_type": "code",
      "source": [
        "df2015popu.sum()  # 総和を求める"
      ],
      "metadata": {
        "id": "UKKZDLpueZ_1"
      },
      "execution_count": null,
      "outputs": []
    },
    {
      "cell_type": "markdown",
      "source": [
        "## 消費支出の全国平均を求める"
      ],
      "metadata": {
        "id": "woh7mie6jDSt"
      }
    },
    {
      "cell_type": "code",
      "source": [
        "print(df2015.filter(like='消費支出', axis=1))  # ヘッダーに'消費支出'を含む列を検索；axis=1は列を抽出することを指示\n",
        "# 2つの該当する列が抽出される"
      ],
      "metadata": {
        "id": "R96P9mUXqlq3"
      },
      "execution_count": null,
      "outputs": []
    },
    {
      "cell_type": "code",
      "source": [
        "df2015consum = df2015[[('L3221','消費支出（二人以上の世帯）')]]  # 見つけた列のうち今回目的とする列を抽出\n",
        "print(df2015consum)"
      ],
      "metadata": {
        "id": "i9ItoCiurlOA"
      },
      "execution_count": null,
      "outputs": []
    },
    {
      "cell_type": "code",
      "source": [
        "df2015consum.mean()  # 平均値を算出"
      ],
      "metadata": {
        "id": "JzMG4s3ZuCRN",
        "colab": {
          "base_uri": "https://localhost:8080/"
        },
        "outputId": "1279419e-c102-47e3-d4d0-ad12e93dac19"
      },
      "execution_count": null,
      "outputs": [
        {
          "output_type": "execute_result",
          "data": {
            "text/plain": [
              "L3221  消費支出（二人以上の世帯）    286153.085106\n",
              "dtype: float64"
            ]
          },
          "metadata": {},
          "execution_count": 34
        }
      ]
    },
    {
      "cell_type": "markdown",
      "source": [
        "##演習問題\n",
        "同様に、消費支出の中央値を求めて、教科書170ページで答え合わせをしよう。median()を使用するとよい。"
      ],
      "metadata": {
        "id": "FG31QrQgjyag"
      }
    },
    {
      "cell_type": "code",
      "source": [],
      "metadata": {
        "id": "iEce5YQexEvL"
      },
      "execution_count": null,
      "outputs": []
    },
    {
      "cell_type": "markdown",
      "source": [
        "# データの並べ替え（ソート）"
      ],
      "metadata": {
        "id": "RdAdjlWRxHVC"
      }
    },
    {
      "cell_type": "code",
      "source": [
        "import pandas as pd\n",
        "\n",
        "file_name = \"/content/SSDSE-C-2022.csv\"\n",
        "df = pd.read_csv(file_name, header=[0,1], encoding=\"shift_jis\")\n",
        "print(df)"
      ],
      "metadata": {
        "id": "gqzoPevZV7BD"
      },
      "execution_count": null,
      "outputs": []
    },
    {
      "cell_type": "code",
      "source": [
        "print(df.filter(like='ぎょうざ', axis=1))  # ヘッダーに'ぎょうざ'を含む列を検索"
      ],
      "metadata": {
        "id": "0ySPIe4eXAnB"
      },
      "execution_count": null,
      "outputs": []
    },
    {
      "cell_type": "code",
      "source": [
        "df_gyoza = df[[('City','市'),('LB092007','ぎょうざ')]]  # 市の列とぎょうざの列を抽出\n",
        "print(df_gyoza)"
      ],
      "metadata": {
        "id": "cVtP0BYDiRxb"
      },
      "execution_count": null,
      "outputs": []
    },
    {
      "cell_type": "code",
      "source": [
        "df_gyoza_s = df_gyoza.sort_values(('LB092007','ぎょうざ'), ascending=False)  # ぎょうざの降順(ascending=False)でソート\n",
        "print(df_gyoza_s)"
      ],
      "metadata": {
        "id": "BmHF4hPNk39R"
      },
      "execution_count": null,
      "outputs": []
    }
  ]
}