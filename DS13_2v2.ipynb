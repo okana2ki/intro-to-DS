{
  "nbformat": 4,
  "nbformat_minor": 0,
  "metadata": {
    "colab": {
      "provenance": [],
      "toc_visible": true,
      "include_colab_link": true
    },
    "kernelspec": {
      "name": "python3",
      "display_name": "Python 3"
    },
    "language_info": {
      "name": "python"
    }
  },
  "cells": [
    {
      "cell_type": "markdown",
      "metadata": {
        "id": "view-in-github",
        "colab_type": "text"
      },
      "source": [
        "<a href=\"https://colab.research.google.com/github/okana2ki/intro-to-DS/blob/main/DS13_2v2.ipynb\" target=\"_parent\"><img src=\"https://colab.research.google.com/assets/colab-badge.svg\" alt=\"Open In Colab\"/></a>"
      ]
    },
    {
      "cell_type": "markdown",
      "source": [
        "#データのランキング"
      ],
      "metadata": {
        "id": "76A1ji3IS28Q"
      }
    },
    {
      "cell_type": "markdown",
      "source": [
        "ランキングとは、順位付けです。たとえば、宮崎は餃子への支出額が一位とか、そういうやつです。"
      ],
      "metadata": {
        "id": "o2XK5C09lCzM"
      }
    },
    {
      "cell_type": "markdown",
      "source": [
        "★以下、何か所か、ネットからデータを読み込むように変更しておく予定"
      ],
      "metadata": {
        "id": "keRbwRgnUe8P"
      }
    },
    {
      "cell_type": "markdown",
      "source": [],
      "metadata": {
        "id": "WyLjsrWUUe58"
      }
    },
    {
      "cell_type": "code",
      "source": [
        "import pandas as pd\n",
        "\n",
        "file_name = \"/content/SSDSE-C-2023.csv\"\n",
        "df = pd.read_csv(file_name, header=[0,1], encoding=\"shift_jis\") # データの読み込み\n",
        "print(df)"
      ],
      "metadata": {
        "id": "xG4C5OzlHfBk"
      },
      "execution_count": null,
      "outputs": []
    },
    {
      "cell_type": "code",
      "source": [
        "# 数値データ列だけを対象に(numeric_only=True)、列ごとに降順でランキング\n",
        "df_rank = df.rank(numeric_only=True, ascending=False)\n",
        "print(df_rank)"
      ],
      "metadata": {
        "id": "pbcqsTukl6Fp"
      },
      "execution_count": null,
      "outputs": []
    },
    {
      "cell_type": "code",
      "source": [
        "df_city = df[[('City','市')]]  # 上記のランキングには市の列が含まれないので、別途、市の列を抽出\n",
        "print(df_city)"
      ],
      "metadata": {
        "id": "bBg4a6phTGmI"
      },
      "execution_count": null,
      "outputs": []
    },
    {
      "cell_type": "code",
      "source": [
        "# 市のDataFrameとランキングのDataFrameを連結→市の列を含むランキングが完成\n",
        "df_city_rank = pd.concat([df_city, df_rank], axis=1)\n",
        "print(df_city_rank)"
      ],
      "metadata": {
        "id": "qQ5swEt0VKGm"
      },
      "execution_count": null,
      "outputs": []
    },
    {
      "cell_type": "code",
      "source": [
        "df_miyazaki_rank = df_city_rank[45:46]  # 45行の宮崎市を抽出\n",
        "print(df_miyazaki_rank)"
      ],
      "metadata": {
        "id": "dySraxEaXipg"
      },
      "execution_count": null,
      "outputs": []
    },
    {
      "cell_type": "code",
      "source": [
        "# 省略されて全部の列が見れないので、全部表示されるようにする。\n",
        "print(pd.options.display.max_columns)\n",
        "# これで調べると、データ部分が20列まで省略されずに表示されるようになっていることが分かる。"
      ],
      "metadata": {
        "id": "dtExiYAGXqSH"
      },
      "execution_count": null,
      "outputs": []
    },
    {
      "cell_type": "code",
      "source": [
        "# そこで、227カラム全部表示されるように設定する。一度表示したら、元の20に戻しておく。\n",
        "pd.set_option('display.max_columns', 227)\n",
        "print(df_miyazaki_rank)\n",
        "pd.set_option('display.max_columns', 20)"
      ],
      "metadata": {
        "id": "5td16xl7YTYr"
      },
      "execution_count": null,
      "outputs": []
    },
    {
      "cell_type": "code",
      "source": [
        "df_miyazaki_rank_t = df_miyazaki_rank.T\n",
        "# .Tによる転置（行と列の入れ替え）←後の処理の都合で転置しておいた方が便利そうなので\n",
        "print(df_miyazaki_rank_t)"
      ],
      "metadata": {
        "id": "u0ENL2ANirxE"
      },
      "execution_count": null,
      "outputs": []
    },
    {
      "cell_type": "code",
      "source": [
        "df_miyazaki_rank_t[df_miyazaki_rank_t.iloc[1:,:] <= 15]\n",
        "# 15位以内を表示；interactive tableに変換すると全部の行が見える"
      ],
      "metadata": {
        "id": "qP1v8XYNjE9D"
      },
      "execution_count": null,
      "outputs": []
    },
    {
      "cell_type": "code",
      "source": [
        "df_miyazaki_rank_t[df_miyazaki_rank_t.iloc[1:,:] >= 46]\n",
        "# 46位以降（少ない方から3位以内）を表示；interactive tableに変換すると全部の行が見える"
      ],
      "metadata": {
        "id": "vcaO2iWT2pbT"
      },
      "execution_count": null,
      "outputs": []
    },
    {
      "cell_type": "code",
      "source": [
        "!pip install japanize-matplotlib  # 日本語対応（グラフ中で日本語が表示できるようにする）"
      ],
      "metadata": {
        "id": "cOIS8jeVSgvb"
      },
      "execution_count": null,
      "outputs": []
    },
    {
      "cell_type": "code",
      "source": [
        "import matplotlib.pyplot as plt\n",
        "import japanize_matplotlib  # 日本語対応（グラフ中で日本語が表示できるようにする）\n",
        "\n",
        "df_miyazaki_rank_t.drop(df_miyazaki_rank_t.index[[0]]).plot.bar(figsize=(40,5))\n",
        "# 数値データでない0行目を削除(.drop)して棒グラフを表示(.plot.bar)"
      ],
      "metadata": {
        "id": "ofntbSjplgHv"
      },
      "execution_count": null,
      "outputs": []
    },
    {
      "cell_type": "markdown",
      "source": [
        "## 演習問題\n",
        "以上の結果から、宮崎は食料品消費額ランキング上位の品目は少なく、消費額ランキング下位の品目が多いことが分かりますね。この傾向は、食料（合計）のランキングが43位（下から6番目）であることにも表れています。\n",
        "\n",
        "宮崎は物価が安いから消費額が少ないのか、年収が少ない人が多いから少ないのか、それぞれがどれくらい効いて、このような結果になっているのでしょうか？\n",
        "[エンゲル係数](https://www.rakuten-card.co.jp/minna-money/topic/article_2103_00007/)の話は、これを考察する上で参考になりそうですね。\n",
        "いずれにせよ、このことをちゃんと分析・考察するには、物価のデータや、年収のデータを合わせて調べる必要があります。\n",
        "興味がある人は調べてみて下さい。"
      ],
      "metadata": {
        "id": "k-MP6IFQ6mXl"
      }
    },
    {
      "cell_type": "code",
      "source": [],
      "metadata": {
        "id": "NgiAn5AvsSzh"
      },
      "execution_count": null,
      "outputs": []
    },
    {
      "cell_type": "markdown",
      "source": [
        "## 演習問題\n",
        "**品目ごとの消費額を食料品全体の消費額（食料（合計））で割り算して、割合でランキング**すると、宮崎の特徴を表す別の傾向が見えそうです。ぜひ分析してみて下さい。地域ごとの物価の違いの影響をある程度抑えて、それぞれの市がどのような消費傾向を持っているかが見えるのではないかと思います。ただし、「宮崎ではピーマンが安い」のような個々の品目の価格の違いの影響は残ったままです。宮崎では全体として食品の物価が安いという傾向（があるとしたら、それ）は打ち消せるのですが。都市ごとの年収の違いの影響も抑えられるかな・・・\n",
        "\n",
        "以下は、割合でランキングするプログラムです。"
      ],
      "metadata": {
        "id": "CdndarN5LAsa"
      }
    },
    {
      "cell_type": "code",
      "source": [
        "import pandas as pd\n",
        "\n",
        "file_name = \"/content/SSDSE-C-2023.csv\"\n",
        "df = pd.read_csv(file_name, header=[0,1], encoding=\"shift_jis\")\n",
        "print(df)"
      ],
      "metadata": {
        "id": "RsyP9z3qNkgY"
      },
      "execution_count": null,
      "outputs": []
    },
    {
      "cell_type": "code",
      "source": [
        "dfr = df  # 割合で置き換えたデータを格納するDataFrame dfrを用意\n",
        "for column_name, item in dfr.iloc[:,5:229].items():  # 5列目から228列目までを割合に書き換えるループ\n",
        "  dfr[column_name] = dfr[column_name] / dfr[('LB00','食料（合計）')]\n",
        "print(dfr)"
      ],
      "metadata": {
        "id": "m4Rex0M7kvVm"
      },
      "execution_count": null,
      "outputs": []
    },
    {
      "cell_type": "code",
      "source": [
        "# 数値データ列だけを対象に(numeric_only=True)、列ごとに降順でランキング\n",
        "dfr_rank = dfr.rank(numeric_only=True, ascending=False)\n",
        "print(dfr_rank)"
      ],
      "metadata": {
        "id": "ek7TnSl4lyT4"
      },
      "execution_count": null,
      "outputs": []
    },
    {
      "cell_type": "code",
      "source": [
        "dfr_miyazaki_rank = dfr_rank[45:46]  # 45行の宮崎市を抽出\n",
        "pd.set_option('display.max_columns', 227)  # 全部の列を表示\n",
        "print(dfr_miyazaki_rank)\n",
        "pd.set_option('display.max_columns', 20)"
      ],
      "metadata": {
        "id": "v1wOSGCum150"
      },
      "execution_count": null,
      "outputs": []
    },
    {
      "cell_type": "code",
      "source": [
        "dfr_miyazaki_rank_t = dfr_miyazaki_rank.T\n",
        "# .Tによる転置（行と列の入れ替え）←後の処理の都合で転置しておいた方が便利そうなので\n",
        "print(dfr_miyazaki_rank_t)"
      ],
      "metadata": {
        "id": "8OzPEAFlnkSl"
      },
      "execution_count": null,
      "outputs": []
    },
    {
      "cell_type": "code",
      "source": [
        "dfr_miyazaki_rank_t[dfr_miyazaki_rank_t.iloc[1:,:] <= 15]\n",
        "# 15位以内を表示；interactive tableに変換すると全部の行が見える"
      ],
      "metadata": {
        "id": "1yhYquGDnkAN"
      },
      "execution_count": null,
      "outputs": []
    },
    {
      "cell_type": "code",
      "source": [
        "dfr_miyazaki_rank_t[dfr_miyazaki_rank_t.iloc[1:,:] >= 46]\n",
        "# 46位以降（少ない方から3位以内）を表示；interactive tableに変換すると全部の行が見える"
      ],
      "metadata": {
        "id": "OvUzYWY9njVF"
      },
      "execution_count": null,
      "outputs": []
    },
    {
      "cell_type": "code",
      "source": [
        "!pip install japanize-matplotlib  # 日本語対応（グラフ中で日本語が表示できるようにする）"
      ],
      "metadata": {
        "id": "ZQw8DZ8_TtOZ"
      },
      "execution_count": null,
      "outputs": []
    },
    {
      "cell_type": "code",
      "source": [
        "import matplotlib.pyplot as plt\n",
        "import japanize_matplotlib  # 日本語対応（グラフ中で日本語が表示できるようにする）\n",
        "\n",
        "dfr_miyazaki_rank_t.plot.bar(figsize=(40,5))\n",
        "# 棒グラフを表示(.plot.bar)"
      ],
      "metadata": {
        "id": "MJYrjXi5nx6t"
      },
      "execution_count": null,
      "outputs": []
    },
    {
      "cell_type": "markdown",
      "source": [
        "# ヒストグラム\n",
        "チューハイ・カクテルへの支出金額のヒストグラム"
      ],
      "metadata": {
        "id": "15a-0on7_jXe"
      }
    },
    {
      "cell_type": "code",
      "source": [
        "import pandas as pd\n",
        "import matplotlib.pylab as plt\n",
        "\n",
        "file_name = \"/content/SSDSE-C-2023.csv\"\n",
        "df = pd.read_csv(file_name, header=[0,1], encoding=\"shift_jis\")\n",
        "# print(df)\n",
        "\n",
        "print(df.filter(like='チューハイ', axis=1))  # ヘッダーに'チューハイ'を含む列を検索\n",
        "\n",
        "plt.hist(df[('LB110007','チューハイ・カクテル')])"
      ],
      "metadata": {
        "id": "YSFTbCY1A6kz"
      },
      "execution_count": null,
      "outputs": []
    },
    {
      "cell_type": "markdown",
      "source": [
        "# 散布図\n",
        "りんご×オレンジの散布図"
      ],
      "metadata": {
        "id": "L6Z2-S8C_sI1"
      }
    },
    {
      "cell_type": "code",
      "source": [
        "!pip install japanize-matplotlib  # 日本語対応（グラフ中で日本語が表示できるようにする）"
      ],
      "metadata": {
        "id": "2XrEmhsqVeBk"
      },
      "execution_count": null,
      "outputs": []
    },
    {
      "cell_type": "code",
      "source": [
        "import pandas as pd\n",
        "import matplotlib.pyplot as plt\n",
        "import japanize_matplotlib  # 日本語対応（グラフ中で日本語が表示できるようにする）\n",
        "\n",
        "file_name = \"/content/SSDSE-C-2023.csv\"\n",
        "df = pd.read_csv(file_name, header=[0,1], encoding=\"shift_jis\")\n",
        "# print(df)\n",
        "\n",
        "# print(df.filter(like='りんご', axis=1))  # ヘッダーに'りんご'を含む列を検索\n",
        "# print(df.filter(like='オレンジ', axis=1))  # ヘッダーに'オレンジ'を含む列を検索\n",
        "\n",
        "x = df[('LB061001','りんご')]\n",
        "y = df[('LB061004','オレンジ')]\n",
        "city = df[('City','市')]\n",
        "# print(city)\n",
        "\n",
        "plt.figure(figsize=(15, 12))\n",
        "plt.scatter(x,y) # 散布図\n",
        "for i in range(len(x)): # 各点に市のラベルを付ける\n",
        "    # 文字が重なってしまう都道府県名の表示位置を調整\n",
        "    if city[i] in ['神戸市', '千葉市', '徳島市', '長崎市', '鹿児島市', '高松市', '宇都宮市', '名古屋市']:\n",
        "        plt.text(x[i], y[i], city[i], ha='left', va='bottom')\n",
        "    else:\n",
        "        plt.text(x[i], y[i], city[i], ha='right', va='bottom')\n",
        "\n",
        "plt.xlabel('りんごへの支出額')\n",
        "plt.ylabel('オレンジへの支出額')\n",
        "plt.show()\n",
        "\n",
        "# df_city_ringo_orange = df[[('City','市'),('LB061001','りんご'),('LB061004','オレンジ')]]  # 市の列とりんごの列とオレンジの列を抽出\n",
        "# print(df_city_ringo_orange)"
      ],
      "metadata": {
        "id": "kETaN2RbBFEv"
      },
      "execution_count": null,
      "outputs": []
    },
    {
      "cell_type": "markdown",
      "source": [
        "# 参考\n",
        "以下は、「データのランキング」のセクション後半で、支出額を割合で上書きするプログラムの作成時に、その動作を小さいDataFrameで確認したときのもの。参考までに掲載します。\n",
        "\n",
        "なお、本日の小テストはこの（下記の）プログラムに関する問題です。**わらかないときは、生成AIに尋ねると教えてくれるはずですが、答を尋ねるのでなく、プログラムの分からない点を質問したりする方をお勧めします。その方が力がつくので。答をすぐに教えることを避ける設定にしてあると、そのように対応してくれるかもしれません。**"
      ],
      "metadata": {
        "id": "I2QvBIKernKi"
      }
    },
    {
      "cell_type": "code",
      "source": [
        "import pandas as pd\n",
        "\n",
        "dfs = pd.DataFrame({'a': [1,2], 'b': [3,4], 'c': [5,6]})\n",
        "print(dfs)\n",
        "\n",
        "for column_name, item in dfs.iloc[:,1:3].items():\n",
        "  dfs[column_name] = dfs[column_name] / dfs['a']\n",
        "print(dfs)"
      ],
      "metadata": {
        "id": "FjPpXmN-cPTf"
      },
      "execution_count": null,
      "outputs": []
    }
  ]
}