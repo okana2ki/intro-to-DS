{
  "nbformat": 4,
  "nbformat_minor": 0,
  "metadata": {
    "colab": {
      "provenance": [],
      "toc_visible": true,
      "authorship_tag": "ABX9TyObowVJQX/X+zMTsBXuykOj",
      "include_colab_link": true
    },
    "kernelspec": {
      "name": "python3",
      "display_name": "Python 3"
    },
    "language_info": {
      "name": "python"
    }
  },
  "cells": [
    {
      "cell_type": "markdown",
      "metadata": {
        "id": "view-in-github",
        "colab_type": "text"
      },
      "source": [
        "<a href=\"https://colab.research.google.com/github/okana2ki/intro-to-DS/blob/main/bingo.ipynb\" target=\"_parent\"><img src=\"https://colab.research.google.com/assets/colab-badge.svg\" alt=\"Open In Colab\"/></a>"
      ]
    },
    {
      "cell_type": "markdown",
      "source": [
        "↑プログラムの実行結果や作成したプログラム、メモなどを自分のGoogleドライブに残しておきたい場合は、上部の「ドライブにコピー」をクリック；または、画面上部のメニューの中から「ファイル」をクリックしてプルダウンメニュー中の「ドライブにコピーを保存」をクリック"
      ],
      "metadata": {
        "id": "kttMv0j017M9"
      }
    },
    {
      "cell_type": "markdown",
      "source": [
        "# オープンキャンパス用ビンゴプログラム"
      ],
      "metadata": {
        "id": "7Sp5nwx73Tuv"
      }
    },
    {
      "cell_type": "markdown",
      "source": [
        "## 生成AIを使う準備"
      ],
      "metadata": {
        "id": "mg1x26qmIOxc"
      }
    },
    {
      "cell_type": "markdown",
      "source": [
        "* Googleアカウントでログインした状態で、PCでこのコラボ・ノートブックを開くとAIが手伝ってくれるよ\n",
        "* Googleアカウントについての説明やアカウントの作成の仕方は、[ここ](https://support.google.com/accounts/answer/27441?hl=ja)を参照\n",
        "* **スマホでAIに手伝ってもらうには**、PC版サイトを見る必要があるよ（Androidの場合は[ここ](https://atmarkit.itmedia.co.jp/ait/articles/1412/15/news098.html)を／iPhone, iPadの場合は[ここ](https://atmarkit.itmedia.co.jp/ait/articles/1411/10/news130.html)を見てPC版サイトへの切り替え方を調べてね）\n",
        "* 2024/8/1、**Geminiの利用は13歳以上に緩和**されたので**高校生の皆さんはAIに手伝ってもらえる**よ"
      ],
      "metadata": {
        "id": "AOAveXZkIZ1x"
      }
    },
    {
      "cell_type": "markdown",
      "source": [
        "## 生成AIにプログラムを書いてもらおう"
      ],
      "metadata": {
        "id": "_QPBi83CLEb_"
      }
    },
    {
      "cell_type": "markdown",
      "source": [
        "次のようにAIに頼んでみよう。頼む手順：\n",
        "1. コードセルを作ったときの表示![スクリーンショット 2024-08-15 165545.png](data:image/png;base64,iVBORw0KGgoAAAANSUhEUgAAAa0AAAAcCAYAAADSt+BTAAAAAXNSR0IArs4c6QAAAARnQU1BAACxjwv8YQUAAAAJcEhZcwAADsMAAA7DAcdvqGQAAAS/SURBVHhe7ZxRbh4xCITTHjdnyGPOkKvmsQ1qkSgFG2zsXW/mk6z8u4uHAXtjJan64/Pz89cLAAAAcAA//34FAAAAbg8OLQAAAMeAQwsAAMAx4NACAABwDDi0AAAAHAMOLQAAAMeAQwsAAMAx4NACAABwDDi0AAAAHIN7aL2+vv43RqjS+W68v7///fQsMnVd2YNI7ll/V6/x1fmfRnU/pd6Va1WZu0Kr+ZPWx8fHP2OECo3vBC/q29vbpRt1Bsv3jrpI1xoS6zmNU7C863EaPc93rG23l957c6ferAa/HtwIv3itITcnfV4F59vFTF3sNeKZtOWwiMTcFe1dDn7+NFbWpveWNe7CE9d2BPc/zKVf4634yWiVLhiDXsrKl2FUr/XNIarnacj5kRiiV0ekzlZNPaI1MxE/mtacEb1Ror2c8UPzLaQmx0S8jKB1R3UIS2umP8SIn5U1eTz20Mo2b3bBT6ZiwzO9vkfzjHiy5uh7vRj6bDGi22NkjsWojq61V+MKOEcv12ovGX0vNuuxsuZs7gyV2hVaj/31IDUmOp4IbY4o0R70NHlDeiPKzMamuXJYtGKkV883zdH36Vpr7cDy4sH18iC4Rsv/VTXthmq0emjV7sWCfeBvWg/kiherOifp8chAHvSQ9J5nyfocqcmDdDL+dc16Ll1rb9a9J2H1kOvVtVuxOzl1Hch3pXf8TesLbzNWbdKZBcvmr/KsaelGc0birBh5jz4zrbgMep53LXMzGQ/yGWt5sS0sH0xUz/Np3fdiK2DtXo5VHjzdkXzZORRvwRpar6U/4tfC82QRySd9sfasTxxaX/Q2wwjRhWnlzlKppfG0ozkjca0cTEtDzpdzPGSs1O1dt/BirfsZXYbmEN68qGbGJzHitYfWbOXYkX+WrJ4Vr+/J65Z+NneGUW1rXoVP/HqwAzV4ZOyGNsMqWhutqlZvg8v7mVwUK+dZ1ytYpUtwL1o56BnFtbB6DeLwvtSj92wG0sCa/QGH1uHwS7FqQ1doRzT0c56zqi4P7dXyTve84UEa8nkr1oLio73QuSqI5v4OUC+s0Xt2F6r3hgfVPbPnPXBoXUjmG5GE5vFY+VKM+ptlNq/sT+Ra03rGcN/l6EExrB2Jl2TjT4H70ev3Cng97gx73LX+cj0qesP+aVTVgEPrQGjxeaygcpNldbz4jAbF8ohca/gZealGanv5I9B8Hhlm81bBPvTI1gNytNbfWhNej5l1kVr0dRYcWhdRtYCVkCf2VeHtjjX20H7pmuq4E3KNLH+jfT9xvWax+rcD2Wv6zEP3n+/RV0Z+zmDp9+B49jCaewQv32MPLS44MnZDObObZwW6D+SpytdojfxyVDDqgZBzKz0RM74spL+Wtn42WtPovFFkbSvg/u2ui6H8PCTkR9/z4BosuLaeVkuDoOcc04qziOSXcLzlCf/k/YtsQ0fh5q/KtauOFlU16o2qsfRl/V4vrPv6njeXyWhL6DnRionCWpqsb6mT8dWr9VRG+0FketKKZQ/6Oc+JzJVEPTFaIztf4tXSQ9ao620eWpqRw6ZKB9yb0c1Zid7cPdgz4b0gFnKe5sr6d5Pt9+m01v0Knt577reu0z20AAAAgHvx8vIb4DEXJH/Z0w4AAAAASUVORK5CYII=)中の「生成」をクリックすると、入力窓![スクリーンショット 2024-08-15 170600.png](data:image/png;base64,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)が現れるので、そこに以下の依頼をコピー(Ctrl-C)・アンド・ペースト(Ctrl-V)しよう←このショートカットキーはWindowsの場合（Ctrl-CはCtrlキーを押しながら同時にCキーを押すことを示す）；MacではCtrlの代わりにcommandキー）\n",
        "2. 入力窓への入力が済んだら、Enterキーを押すか、入力窓の左側の「生成」ボタンを押す。\n",
        "\n",
        "依頼の書き方（一例）：\n",
        "> オープンキャンパスの模擬講義の受講者が楽しめるビンゴを実施します。受講者はサイズ3の空白のビンゴカードを配られて、各自が1から18までの好きな数字を記入しています。Enterキーを押すごとに当選番号をランダムに決めてアナウンスするプログラムを書いて下さい。\n",
        "\n",
        "---\n",
        "\n",
        "プログラムができたら、コードセルの左端の実行ボタンを押して、実行してみよう。"
      ],
      "metadata": {
        "id": "rgUybGWXHZGk"
      }
    },
    {
      "cell_type": "code",
      "source": [],
      "metadata": {
        "id": "dw1q8nH2RxXL"
      },
      "execution_count": null,
      "outputs": []
    },
    {
      "cell_type": "markdown",
      "source": [
        "## 易しく説明してもらおう"
      ],
      "metadata": {
        "id": "yG-EwD4oLUra"
      }
    },
    {
      "cell_type": "markdown",
      "source": [
        "プログラムを分かった上で実行したい、そう思ったあなたは、次のように依頼してみましょう：「小学6年生に分かるように詳しく易しいコメントを付けて下さい。」"
      ],
      "metadata": {
        "id": "ACEhzb9BIWXc"
      }
    },
    {
      "cell_type": "code",
      "source": [],
      "metadata": {
        "id": "6YxSX0K4I8VJ"
      },
      "execution_count": null,
      "outputs": []
    },
    {
      "cell_type": "markdown",
      "source": [
        "## もっと教えてもらおう"
      ],
      "metadata": {
        "id": "5edph3UwLsQv"
      }
    },
    {
      "cell_type": "markdown",
      "source": [
        "まだ分からないところがあるんだけど・・・AI相手だと遠慮はいりません。どんどん質問しましょう。あなたに合わせてとことん教えてくれるよ：「・・・についてもう少し詳しく教えて。」「・・・って何？」"
      ],
      "metadata": {
        "id": "SfDnn_fhJNO_"
      }
    },
    {
      "cell_type": "code",
      "source": [],
      "metadata": {
        "id": "-hD4Hc0xXq6G"
      },
      "execution_count": null,
      "outputs": []
    },
    {
      "cell_type": "markdown",
      "source": [
        "## エラーが出るとき；思っていた動きと違うとき"
      ],
      "metadata": {
        "id": "GcCXxtanPRL1"
      }
    },
    {
      "cell_type": "markdown",
      "source": [
        "エラーについて説明してくれたり、直してくれたりします。変更を頼むこともできます：「・・・のように変えて。」"
      ],
      "metadata": {
        "id": "i2d0weOFPnAb"
      }
    },
    {
      "cell_type": "code",
      "source": [],
      "metadata": {
        "id": "bZqWqFeYPl0U"
      },
      "execution_count": null,
      "outputs": []
    },
    {
      "cell_type": "markdown",
      "source": [
        "## メモを残しておきたいとき"
      ],
      "metadata": {
        "id": "YDX6Up8_QhlG"
      }
    },
    {
      "cell_type": "markdown",
      "source": [
        "「＋テキスト」をクリックしてテキストセルを新たに作るか、このテキストセルにカーソルを持ってきて、ダブルクリックするか Enter キーを押してください。"
      ],
      "metadata": {
        "id": "9eLUHoCePijI"
      }
    },
    {
      "cell_type": "code",
      "source": [],
      "metadata": {
        "id": "vT4ToljTKKZU"
      },
      "execution_count": null,
      "outputs": []
    },
    {
      "cell_type": "markdown",
      "source": [
        "# AIとのやりとりの例\n",
        "\n",
        "以下は、やりとりの一例です。同じ入力をしても、AIの応答は確率的に毎回変わります。"
      ],
      "metadata": {
        "id": "UjHAZY7PMAqR"
      }
    },
    {
      "cell_type": "code",
      "execution_count": null,
      "metadata": {
        "id": "usF0ljQ12qD9"
      },
      "outputs": [],
      "source": [
        "# prompt: オープンキャンパスの模擬講義の受講者が楽しめるビンゴを実施します。受講者はサイズ3の空白のビンゴカードを配られて、各自が1から18までの好きな数字を記入しています。Enterキーを押すごとに当選番号をランダムに決めてアナウンスするプログラムを書いて下さい。\n",
        "\n",
        "import random\n",
        "\n",
        "def bingo():\n",
        "  numbers = list(range(1, 19))  # 1から18までの数字のリスト\n",
        "  drawn_numbers = []  # 抽選済みの数字を格納するリスト\n",
        "\n",
        "  while True:\n",
        "    input(\"Enterキーを押して次の数字を決めます\")  # Enterキーの入力待ち\n",
        "    if numbers:\n",
        "      drawn_number = random.choice(numbers)  # 数字をランダムに選ぶ\n",
        "      drawn_numbers.append(drawn_number)\n",
        "      numbers.remove(drawn_number)  # 選んだ数字をリストから削除\n",
        "      print(\"当選番号は\", drawn_number, \"です！\")\n",
        "    else:\n",
        "      print(\"全ての数字が抽選されました！\")\n",
        "      break\n",
        "\n",
        "if __name__ == \"__main__\":\n",
        "  bingo()\n"
      ]
    },
    {
      "cell_type": "code",
      "source": [
        "# prompt: 小学6年生に分かるように詳しく易しいコメントを付けて下さい。\n",
        "\n",
        "import random  # ランダムな数字を選ぶための道具を持ってくる\n",
        "\n",
        "# # オープンキャンパス用ビンゴプログラム\n",
        "\n",
        "\n",
        "def bingo():\n",
        "  numbers = list(range(1, 19))  # 1から18までの数字が入った箱を作るよ！\n",
        "  drawn_numbers = []  # 選ばれた数字を入れるための空の箱を用意するよ！\n",
        "\n",
        "  while True:  # すべての数字が選ばれるまで繰り返すよ！\n",
        "    input(\"Enterキーを押して次の数字を決めます\")  # Enterキーを押すと次の数字が出てくるよ！\n",
        "    if numbers:  # まだ数字が残っているか確認するよ！\n",
        "      drawn_number = random.choice(numbers)  # 箱の中から数字をランダムに選ぶよ！\n",
        "      drawn_numbers.append(drawn_number)  # 選ばれた数字を選ばれた数字用の箱に入れるよ！\n",
        "      numbers.remove(drawn_number)  # 選ばれた数字はもう使わないから、元の箱から取り出すよ！\n",
        "      print(\"当選番号は\", drawn_number, \"です！\")  # 選ばれた数字を発表するよ！\n",
        "    else:  # 数字が全部なくなったら…\n",
        "      print(\"全ての数字が抽選されました！\")  # ビンゴゲーム終了！\n",
        "      break  # 繰り返しを終了するよ！\n",
        "\n",
        "if __name__ == \"__main__\":  # プログラムをここから始めるよ！\n",
        "  bingo()  # ビンゴゲーム開始！\n"
      ],
      "metadata": {
        "id": "lEBVWLwY-QW3"
      },
      "execution_count": null,
      "outputs": []
    },
    {
      "cell_type": "code",
      "source": [
        "\n",
        "# prompt: drawn_numbersは無くてもプログラムは動作するので無くして下さい。できるだけシンプルなプログラムにして高校生に分かりやすくしたいので。\n",
        "\n",
        "# 以下は解説：\n",
        "# 上掲のプログラムでは、当選した数字の一覧drawn_numbersが使われていなかったので、上のようにAIに依頼しました。\n",
        "# 実は、drawn_numbersは、それを参加者に案内すると、参加者が一度当選番号を聞き漏らしても大丈夫というメリットがあります。\n",
        "# そのため、drawn_numbersを含むプログラムが公開されており、それをAIが学習したので、drawn_numbersを更新するプログラムが生成されたと思われます。\n",
        "# drawn_numbersを更新するプログラムを生成したが、それを参加者に案内する部分を生成しなかった、ということになります。\n",
        "# これは、2024年8月時点の生成AIの実力を示した好例になっていると思います。\n",
        "# AIによる生成は確率的なので、drawn_numbersをちゃんと案内するプログラムを生成することもあるし、drawn_numbersを一切含まないプログラムを生成することもあります。\n",
        "\n",
        "import random\n",
        "\n",
        "def bingo():\n",
        "  numbers = list(range(1, 19))  # 1から18までの数字が入った箱を作るよ！\n",
        "\n",
        "  while numbers:  # 箱の中に数字が残っている間繰り返すよ！\n",
        "    input(\"Enterキーを押して次の数字を決めます\")  # Enterキーを押すと次の数字が出てくるよ！\n",
        "    drawn_number = random.choice(numbers)  # 箱の中から数字をランダムに選ぶよ！\n",
        "    numbers.remove(drawn_number)  # 選ばれた数字はもう使わないから、元の箱から取り出すよ！\n",
        "    print(\"当選番号は\", drawn_number, \"です！\")  # 選ばれた数字を発表するよ！\n",
        "\n",
        "  print(\"全ての数字が抽選されました！\")  # ビンゴゲーム終了！\n",
        "\n",
        "if __name__ == \"__main__\":  # プログラムをここから始めるよ！\n",
        "  bingo()  # ビンゴゲーム開始！\n"
      ],
      "metadata": {
        "id": "1E4Q9Dlua-ic"
      },
      "execution_count": null,
      "outputs": []
    },
    {
      "cell_type": "code",
      "source": [
        "# prompt: if __name__ == \"__main__\": をもう少し詳しく教えて。\n",
        "\n",
        "# Pythonのコードが実行される時、そのコードが直接実行されたのか、\n",
        "# それとも別のモジュールからインポートされて実行されたのかを区別するために\n",
        "# `if __name__ == \"__main__\":` という構文が使われます。\n",
        "\n",
        "# __name__ は、Pythonの特別な変数で、\n",
        "# コードの実行方法によって異なる値を持ちます。\n",
        "# - 直接実行された場合: __name__ には \"__main__\" という文字列が代入されます。\n",
        "# - 別のモジュールからインポートされた場合: __name__ には、そのモジュールの名前が代入されます。\n",
        "\n",
        "# つまり、`if __name__ == \"__main__\":` のブロック内のコードは、\n",
        "# そのファイルが直接実行された場合にのみ実行され、\n",
        "# 別のモジュールからインポートされた場合には実行されません。\n",
        "\n",
        "# この仕組みを利用することで、\n",
        "# モジュールとして利用されることを想定したコードの中に、\n",
        "# テスト用のコードや、直接実行された場合にのみ実行したい処理などを記述することができます。\n",
        "\n",
        "# 例えば、以下のようなコードがあったとします。\n",
        "\n",
        "def my_function():\n",
        "  print(\"関数 my_function が実行されました。\")\n",
        "\n",
        "if __name__ == \"__main__\":\n",
        "  print(\"このファイルが直接実行されました。\")\n",
        "  my_function()\n",
        "\n",
        "# このコードを直接実行すると、\n",
        "# \"このファイルが直接実行されました。\" と \"関数 my_function が実行されました。\" が出力されます。\n",
        "# しかし、別のモジュールから import して my_function() だけを実行した場合、\n",
        "# \"関数 my_function が実行されました。\" だけが出力され、\n",
        "# `if __name__ == \"__main__\":` のブロック内の print 文は実行されません。\n"
      ],
      "metadata": {
        "id": "sBcXCYbbFpxH"
      },
      "execution_count": null,
      "outputs": []
    }
  ]
}