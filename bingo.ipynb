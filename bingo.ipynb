{
  "nbformat": 4,
  "nbformat_minor": 0,
  "metadata": {
    "colab": {
      "provenance": [],
      "include_colab_link": true
    },
    "kernelspec": {
      "name": "python3",
      "display_name": "Python 3"
    },
    "language_info": {
      "name": "python"
    }
  },
  "cells": [
    {
      "cell_type": "markdown",
      "metadata": {
        "id": "view-in-github",
        "colab_type": "text"
      },
      "source": [
        "<a href=\"https://colab.research.google.com/github/okana2ki/intro-to-DS/blob/main/bingo.ipynb\" target=\"_parent\"><img src=\"https://colab.research.google.com/assets/colab-badge.svg\" alt=\"Open In Colab\"/></a>"
      ]
    },
    {
      "cell_type": "markdown",
      "source": [
        "- ↑プログラムの実行結果や作成したプログラム、メモなどを自分のGoogleドライブに残しておきたい場合は、上部の「**ドライブにコピー**」をクリック；または、画面上部のメニューの中から「ファイル」をクリックしてプルダウンメニュー中の「ドライブにコピーを保存」をクリック\n",
        "- ヘッダーが非表示になっていると、画面上部の「ドライブにコピー」ボタンや、メニューバー（左端が「ファイル」ボタン）が表示されません。その場合は、画面右上部の「ｖ」ボタン（ヘッダーの表示／非表示の切替ボタン）を押して**ヘッダーを表示**して下さい"
      ],
      "metadata": {
        "id": "kttMv0j017M9"
      }
    },
    {
      "cell_type": "markdown",
      "source": [
        "# オープンキャンパス用ビンゴプログラム"
      ],
      "metadata": {
        "id": "7Sp5nwx73Tuv"
      }
    },
    {
      "cell_type": "markdown",
      "source": [
        "## 生成AIを使う準備"
      ],
      "metadata": {
        "id": "mg1x26qmIOxc"
      }
    },
    {
      "cell_type": "markdown",
      "source": [
        "* Googleアカウントでログインした状態で、PCでこのコラボ・ノートブックを開くとAIが手伝ってくれるよ\n",
        "* Googleアカウントについての説明やアカウントの作成の仕方は、[ここ](https://support.google.com/accounts/answer/27441?hl=ja)を参照\n",
        "* **スマホでAIに手伝ってもらうには**、PC版サイトを見る必要があるよ（Androidの場合は[ここ](https://atmarkit.itmedia.co.jp/ait/articles/1412/15/news098.html)を／iPhone, iPadの場合は[ここ](https://atmarkit.itmedia.co.jp/ait/articles/1411/10/news130.html)を見てPC版サイトへの切り替え方を調べてね）\n",
        "* 2024/8/1、**Geminiの利用は13歳以上に緩和**されたので**高校生の皆さんはAIに手伝ってもらえる**よ"
      ],
      "metadata": {
        "id": "AOAveXZkIZ1x"
      }
    },
    {
      "cell_type": "markdown",
      "source": [
        "## 生成AIにプログラムを書いてもらおう"
      ],
      "metadata": {
        "id": "_QPBi83CLEb_"
      }
    },
    {
      "cell_type": "markdown",
      "source": [
        "次のようにAIに頼んでみよう。頼む手順：\n",
        "\n",
        "0. コードセルを新たに追加したい場合は、ノートブック画面上部の「+コード」をクリックする(現在カーソルがあるセルの下に追加される)か、または、セルの間あたりにカーソルをもってくると表示される「+コード」をクリックする(クリックした場所に追加される)。\n",
        "\n",
        "1. コードセルを作ったときの表示「コーディングを開始するか、AIで<u>生成</u>します。」中の「<u>生成</u>」をクリックすると、入力窓が現れるので、そこに以下の依頼をコピー(Ctrl-C)・アンド・ペースト(Ctrl-V)しよう←このショートカットキーはWindowsの場合（Ctrl-CはCtrlキーを押しながら同時にCキーを押すことを示す）；MacではCtrlの代わりにcommandキー）\n",
        "2. 入力窓への入力が済んだら、Enterキーを押すか、入力窓の左側の「生成」ボタンを押す。\n",
        "\n",
        "依頼の書き方（一例）：\n",
        "> オープンキャンパスの模擬講義の受講者が楽しめるビンゴを実施します。受講者はサイズ3の空白のビンゴカードを配られて、各自が1から18までの好きな数字を記入しています。Enterキーを押すごとに当選番号をランダムに決めてアナウンスするプログラムを書いて下さい。\n",
        "\n",
        "---\n",
        "\n",
        "プログラムができたら、コードセルの左端の実行ボタンを押して、実行してみよう。"
      ],
      "metadata": {
        "id": "rgUybGWXHZGk"
      }
    },
    {
      "cell_type": "code",
      "source": [],
      "metadata": {
        "id": "qYQGSUa5gw7X"
      },
      "execution_count": null,
      "outputs": []
    },
    {
      "cell_type": "markdown",
      "source": [
        "↑実行ボタンを押したら、「警告：このノートブックはGoogleが作成したものではありません・・・（以下略）・・・」のような警告メッセージが出た人は、メッセージの右下隅の「このまま実行」をクリックすると実行できます。このノートブックは岡が作成したものなので安全なコードを掲載しています。また、AIが生成したコードも（危険なコードは生成しないようにガードをかけているはずなので）安全であることが多いと思います。ただし、一般的には、悪意のあるノートブックも存在するし、AIが危険なコードを生成する可能性もゼロではないので、信用できるかどうか分からないときは、この警告メッセージに書いてあるように、ちゃんとソースコードを確認してから実行すべきです。\n",
        "\n",
        "もしくは、このノートブックの一番上に記載した指示にしたがって、「ドライブにコピー」する操作をして下さい。この操作をした後であれば、この警告は出ません。コピーした後は警告しない仕様になっているのは、コピーする時点で安全確認を行っているだろうという設計思想なのだと思います。"
      ],
      "metadata": {
        "id": "e81gNgW3im57"
      }
    },
    {
      "cell_type": "markdown",
      "source": [
        "## 易しく説明してもらおう"
      ],
      "metadata": {
        "id": "yG-EwD4oLUra"
      }
    },
    {
      "cell_type": "markdown",
      "source": [
        "プログラムを分かった上で実行したい、そう思ったあなたは、コードセル内の<u>生成</u>をクリックし、現れた入力窓で次のように依頼してみましょう：「小学6年生に分かるように詳しく易しいコメントを付けて下さい。」"
      ],
      "metadata": {
        "id": "ACEhzb9BIWXc"
      }
    },
    {
      "cell_type": "code",
      "source": [],
      "metadata": {
        "id": "-fXjWdTJ2mdF"
      },
      "execution_count": null,
      "outputs": []
    },
    {
      "cell_type": "markdown",
      "source": [
        "## もっと教えてもらおう"
      ],
      "metadata": {
        "id": "5edph3UwLsQv"
      }
    },
    {
      "cell_type": "markdown",
      "source": [
        "まだ分からないところがあるんだけど・・・AI相手だと遠慮はいりません。どんどん質問しましょう。あなたに合わせてとことん教えてくれるよ；コードセル内の<u>生成</u>をクリックし、現れた入力窓で次のように依頼しましょう：「・・・についてもう少し詳しく教えて。」「・・・って何？」  \n",
        "このような質問は、画面右上部の「Gemini」ボタンを押して現れたカラムの「ここにメッセージを入力」に入力して尋ねた方が適切な答が返ってくるかもしれません。"
      ],
      "metadata": {
        "id": "SfDnn_fhJNO_"
      }
    },
    {
      "cell_type": "code",
      "source": [],
      "metadata": {
        "id": "-hD4Hc0xXq6G"
      },
      "execution_count": null,
      "outputs": []
    },
    {
      "cell_type": "markdown",
      "source": [
        "## エラーが出るとき；思っていた動きと違うとき"
      ],
      "metadata": {
        "id": "GcCXxtanPRL1"
      }
    },
    {
      "cell_type": "markdown",
      "source": [
        "実行時にエラーが出た場合、「エラーの説明」ボタンが表示された場合は、それをクリックするとエラーについて説明してくれます。「エラーの修正」ボタンが表示された場合は、それをクリックすると修正案が提案されます。提案を受け入れる場合は「チェックマーク」をクリック、提案を拒否する場合は「×印」をクリックします。  \n",
        "画面右上部の「Gemini」ボタンを押して現れたカラムの「ここにメッセージを入力」に、エラーメッセージをコピペすると、エラーについて説明してくれます。  \n",
        "プログラムの変更を頼むこともできます：「・・・のように変えて。」"
      ],
      "metadata": {
        "id": "i2d0weOFPnAb"
      }
    },
    {
      "cell_type": "code",
      "source": [],
      "metadata": {
        "id": "bZqWqFeYPl0U"
      },
      "execution_count": null,
      "outputs": []
    },
    {
      "cell_type": "markdown",
      "source": [
        "## メモを残しておきたいとき"
      ],
      "metadata": {
        "id": "YDX6Up8_QhlG"
      }
    },
    {
      "cell_type": "markdown",
      "source": [
        "「＋テキスト」をクリックしてテキストセルを新たに作るか、このテキストセルにカーソルを持ってきて、ダブルクリックするか Enter キーを押してください。"
      ],
      "metadata": {
        "id": "9eLUHoCePijI"
      }
    },
    {
      "cell_type": "markdown",
      "source": [],
      "metadata": {
        "id": "o-d0tbVu2Eul"
      }
    },
    {
      "cell_type": "markdown",
      "source": [
        "# 発展編（これはColabでは動きません）\n",
        "\n",
        "[効果音（ドラム・ロール）付きビンゴ抽選プログラム](https://github.com/okana2ki/intro-to-DS/blob/main/bingo_drum.py)"
      ],
      "metadata": {
        "id": "NcJerAEDYma-"
      }
    },
    {
      "cell_type": "markdown",
      "source": [
        "# AIとのやりとりの例\n",
        "\n",
        "以下は、やりとりの一例です。同じ入力をしても、AIの応答は確率的に毎回変わります。"
      ],
      "metadata": {
        "id": "UjHAZY7PMAqR"
      }
    },
    {
      "cell_type": "code",
      "execution_count": null,
      "metadata": {
        "id": "usF0ljQ12qD9"
      },
      "outputs": [],
      "source": [
        "# prompt: オープンキャンパスの模擬講義の受講者が楽しめるビンゴを実施します。受講者はサイズ3の空白のビンゴカードを配られて、各自が1から18までの好きな数字を記入しています。Enterキーを押すごとに当選番号をランダムに決めてアナウンスするプログラムを書いて下さい。\n",
        "\n",
        "import random\n",
        "\n",
        "def bingo():\n",
        "  numbers = list(range(1, 19))  # 1から18までの数字のリスト\n",
        "  drawn_numbers = []  # 抽選済みの数字を格納するリスト\n",
        "\n",
        "  while True:\n",
        "    input(\"Enterキーを押して次の数字を決めます\")  # Enterキーの入力待ち\n",
        "    if numbers:\n",
        "      drawn_number = random.choice(numbers)  # 数字をランダムに選ぶ\n",
        "      drawn_numbers.append(drawn_number)\n",
        "      numbers.remove(drawn_number)  # 選んだ数字をリストから削除\n",
        "      print(\"当選番号は\", drawn_number, \"です！\")\n",
        "    else:\n",
        "      print(\"全ての数字が抽選されました！\")\n",
        "      break\n",
        "\n",
        "if __name__ == \"__main__\":\n",
        "  bingo()\n"
      ]
    },
    {
      "cell_type": "code",
      "source": [
        "# prompt: 小学6年生に分かるように詳しく易しいコメントを付けて下さい。\n",
        "\n",
        "import random  # ランダムな数字を選ぶための道具を持ってくる\n",
        "\n",
        "# # オープンキャンパス用ビンゴプログラム\n",
        "\n",
        "\n",
        "def bingo():\n",
        "  numbers = list(range(1, 19))  # 1から18までの数字が入った箱を作るよ！\n",
        "  drawn_numbers = []  # 選ばれた数字を入れるための空の箱を用意するよ！\n",
        "\n",
        "  while True:  # すべての数字が選ばれるまで繰り返すよ！\n",
        "    input(\"Enterキーを押して次の数字を決めます\")  # Enterキーを押すと次の数字が出てくるよ！\n",
        "    if numbers:  # まだ数字が残っているか確認するよ！\n",
        "      drawn_number = random.choice(numbers)  # 箱の中から数字をランダムに選ぶよ！\n",
        "      drawn_numbers.append(drawn_number)  # 選ばれた数字を選ばれた数字用の箱に入れるよ！\n",
        "      numbers.remove(drawn_number)  # 選ばれた数字はもう使わないから、元の箱から取り出すよ！\n",
        "      print(\"当選番号は\", drawn_number, \"です！\")  # 選ばれた数字を発表するよ！\n",
        "    else:  # 数字が全部なくなったら…\n",
        "      print(\"全ての数字が抽選されました！\")  # ビンゴゲーム終了！\n",
        "      break  # 繰り返しを終了するよ！\n",
        "\n",
        "if __name__ == \"__main__\":  # プログラムをここから始めるよ！\n",
        "  bingo()  # ビンゴゲーム開始！\n"
      ],
      "metadata": {
        "id": "lEBVWLwY-QW3"
      },
      "execution_count": null,
      "outputs": []
    },
    {
      "cell_type": "code",
      "source": [
        "\n",
        "# prompt: drawn_numbersは無くてもプログラムは動作するので無くして下さい。できるだけシンプルなプログラムにして高校生に分かりやすくしたいので。\n",
        "\n",
        "# 以下は解説：\n",
        "# 上掲のプログラムでは、当選した数字の一覧drawn_numbersが使われていなかったので、上のようにAIに依頼しました。\n",
        "# 実は、drawn_numbersは、それを参加者に案内すると、参加者が一度当選番号を聞き漏らしても大丈夫というメリットがあります。\n",
        "# そのため、drawn_numbersを含むプログラムが公開されており、それをAIが学習したので、drawn_numbersを更新するプログラムが生成されたと思われます。\n",
        "# drawn_numbersを更新するプログラムを生成したが、それを参加者に案内する部分を生成しなかった、ということになります。\n",
        "# これは、2024年8月時点の生成AIの実力を示した好例になっていると思います。\n",
        "# AIによる生成は確率的なので、drawn_numbersをちゃんと案内するプログラムを生成することもあるし、drawn_numbersを一切含まないプログラムを生成することもあります。\n",
        "\n",
        "import random\n",
        "\n",
        "def bingo():\n",
        "  numbers = list(range(1, 19))  # 1から18までの数字が入った箱を作るよ！\n",
        "\n",
        "  while numbers:  # 箱の中に数字が残っている間繰り返すよ！\n",
        "    input(\"Enterキーを押して次の数字を決めます\")  # Enterキーを押すと次の数字が出てくるよ！\n",
        "    drawn_number = random.choice(numbers)  # 箱の中から数字をランダムに選ぶよ！\n",
        "    numbers.remove(drawn_number)  # 選ばれた数字はもう使わないから、元の箱から取り出すよ！\n",
        "    print(\"当選番号は\", drawn_number, \"です！\")  # 選ばれた数字を発表するよ！\n",
        "\n",
        "  print(\"全ての数字が抽選されました！\")  # ビンゴゲーム終了！\n",
        "\n",
        "if __name__ == \"__main__\":  # プログラムをここから始めるよ！\n",
        "  bingo()  # ビンゴゲーム開始！\n"
      ],
      "metadata": {
        "id": "1E4Q9Dlua-ic"
      },
      "execution_count": null,
      "outputs": []
    },
    {
      "cell_type": "code",
      "source": [
        "# prompt: if __name__ == \"__main__\": をもう少し詳しく教えて。\n",
        "\n",
        "# Pythonのコードが実行される時、そのコードが直接実行されたのか、\n",
        "# それとも別のモジュールからインポートされて実行されたのかを区別するために\n",
        "# `if __name__ == \"__main__\":` という構文が使われます。\n",
        "\n",
        "# __name__ は、Pythonの特別な変数で、\n",
        "# コードの実行方法によって異なる値を持ちます。\n",
        "# - 直接実行された場合: __name__ には \"__main__\" という文字列が代入されます。\n",
        "# - 別のモジュールからインポートされた場合: __name__ には、そのモジュールの名前が代入されます。\n",
        "\n",
        "# つまり、`if __name__ == \"__main__\":` のブロック内のコードは、\n",
        "# そのファイルが直接実行された場合にのみ実行され、\n",
        "# 別のモジュールからインポートされた場合には実行されません。\n",
        "\n",
        "# この仕組みを利用することで、\n",
        "# モジュールとして利用されることを想定したコードの中に、\n",
        "# テスト用のコードや、直接実行された場合にのみ実行したい処理などを記述することができます。\n",
        "\n",
        "# 例えば、以下のようなコードがあったとします。\n",
        "\n",
        "def my_function():\n",
        "  print(\"関数 my_function が実行されました。\")\n",
        "\n",
        "if __name__ == \"__main__\":\n",
        "  print(\"このファイルが直接実行されました。\")\n",
        "  my_function()\n",
        "\n",
        "# このコードを直接実行すると、\n",
        "# \"このファイルが直接実行されました。\" と \"関数 my_function が実行されました。\" が出力されます。\n",
        "# しかし、別のモジュールから import して my_function() だけを実行した場合、\n",
        "# \"関数 my_function が実行されました。\" だけが出力され、\n",
        "# `if __name__ == \"__main__\":` のブロック内の print 文は実行されません。\n"
      ],
      "metadata": {
        "id": "sBcXCYbbFpxH"
      },
      "execution_count": null,
      "outputs": []
    }
  ]
}