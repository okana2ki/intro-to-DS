{
  "nbformat": 4,
  "nbformat_minor": 0,
  "metadata": {
    "colab": {
      "provenance": [],
      "toc_visible": true,
      "authorship_tag": "ABX9TyN1FGagexu+2F2cgOW7Y+xn",
      "include_colab_link": true
    },
    "kernelspec": {
      "name": "python3",
      "display_name": "Python 3"
    },
    "language_info": {
      "name": "python"
    }
  },
  "cells": [
    {
      "cell_type": "markdown",
      "metadata": {
        "id": "view-in-github",
        "colab_type": "text"
      },
      "source": [
        "<a href=\"https://colab.research.google.com/github/okana2ki/intro-to-DS/blob/main/bingo.ipynb\" target=\"_parent\"><img src=\"https://colab.research.google.com/assets/colab-badge.svg\" alt=\"Open In Colab\"/></a>"
      ]
    },
    {
      "cell_type": "markdown",
      "source": [
        "# オープンキャンパス用ビンゴプログラム"
      ],
      "metadata": {
        "id": "7Sp5nwx73Tuv"
      }
    },
    {
      "cell_type": "markdown",
      "source": [
        "## 生成AIにプログラムを書いてもらおう"
      ],
      "metadata": {
        "id": "_QPBi83CLEb_"
      }
    },
    {
      "cell_type": "markdown",
      "source": [
        "次のようにAIに頼んでみよう。頼む手順：\n",
        "1. コードセルを作ったときの表示「コーディングを開始するか、AIで生成します。」中の「生成」をクリックすると、入力窓が現れるので、そこに以下の依頼をコピー(Ctrl-C)・アンド・ペースト(Ctrl-V)しよう←このショートカットキーはWindowsの場合（Ctrl-CはCtrlキーを押しながら同時にCキーを押すことを示す）；MacではCtrlの代わりにcommandキー）\n",
        "2. 入力窓への入力が済んだら、Enterキーを押すか、左側の「生成」ボタンを押す。\n",
        "\n",
        "依頼の書き方（一例）：\n",
        "> オープンキャンパスの模擬講義の受講者が楽しめるビンゴを実施します。受講者はサイズ3の空白のビンゴカードを配られて、各自が1から18までの好きな数字を記入しています。Enterキーを押すごとに当選番号をランダムに決めてアナウンスするプログラムを書いて下さい。\n",
        "\n",
        "---\n",
        "\n",
        "プログラムができたら、コードセルの左端の実行ボタンを押して、実行してみよう。"
      ],
      "metadata": {
        "id": "rgUybGWXHZGk"
      }
    },
    {
      "cell_type": "code",
      "source": [],
      "metadata": {
        "id": "dw1q8nH2RxXL"
      },
      "execution_count": null,
      "outputs": []
    },
    {
      "cell_type": "markdown",
      "source": [
        "## 易しく説明してもらおう"
      ],
      "metadata": {
        "id": "yG-EwD4oLUra"
      }
    },
    {
      "cell_type": "markdown",
      "source": [
        "プログラムを分かった上で実行したい、そう思ったあなたは、次のように依頼してみましょう：「小学6年生に分かるように詳しく易しいコメントを付けて下さい。」"
      ],
      "metadata": {
        "id": "ACEhzb9BIWXc"
      }
    },
    {
      "cell_type": "code",
      "source": [],
      "metadata": {
        "id": "6YxSX0K4I8VJ"
      },
      "execution_count": null,
      "outputs": []
    },
    {
      "cell_type": "markdown",
      "source": [
        "## もっと教えてもらおう"
      ],
      "metadata": {
        "id": "5edph3UwLsQv"
      }
    },
    {
      "cell_type": "markdown",
      "source": [
        "まだ分からないところがあるんだけど・・・AI相手だと遠慮はいりません。どんどん質問しましょう。あなたに合わせてとことん教えてくれるよ：「・・・についてもう少し詳しく教えて。」「・・・って何？」"
      ],
      "metadata": {
        "id": "SfDnn_fhJNO_"
      }
    },
    {
      "cell_type": "code",
      "source": [],
      "metadata": {
        "id": "-hD4Hc0xXq6G"
      },
      "execution_count": null,
      "outputs": []
    },
    {
      "cell_type": "markdown",
      "source": [
        "## エラーが出るとき；思っていた動きと違うとき"
      ],
      "metadata": {
        "id": "GcCXxtanPRL1"
      }
    },
    {
      "cell_type": "markdown",
      "source": [
        "エラーについて説明してくれたり、直してくれたりします。変更を頼むこともできます：「・・・のように変えて。」"
      ],
      "metadata": {
        "id": "i2d0weOFPnAb"
      }
    },
    {
      "cell_type": "code",
      "source": [],
      "metadata": {
        "id": "bZqWqFeYPl0U"
      },
      "execution_count": null,
      "outputs": []
    },
    {
      "cell_type": "markdown",
      "source": [
        "## メモを残しておきたいとき"
      ],
      "metadata": {
        "id": "YDX6Up8_QhlG"
      }
    },
    {
      "cell_type": "markdown",
      "source": [
        "「＋テキスト」をクリックしてテキストセルを新たに作るか、このテキストセルにカーソルを持ってきて、ダブルクリックするか Enter キーを押してください。"
      ],
      "metadata": {
        "id": "9eLUHoCePijI"
      }
    },
    {
      "cell_type": "code",
      "source": [],
      "metadata": {
        "id": "vT4ToljTKKZU"
      },
      "execution_count": null,
      "outputs": []
    },
    {
      "cell_type": "markdown",
      "source": [
        "# AIとのやりとりの例\n",
        "\n",
        "以下は、やりとりの一例です。同じ入力をしても、AIの応答は確率的に毎回変わります。"
      ],
      "metadata": {
        "id": "UjHAZY7PMAqR"
      }
    },
    {
      "cell_type": "code",
      "execution_count": null,
      "metadata": {
        "id": "usF0ljQ12qD9"
      },
      "outputs": [],
      "source": [
        "# prompt: オープンキャンパスの模擬講義の受講者が楽しめるビンゴを実施します。受講者はサイズ3の空白のビンゴカードを配られて、各自が1から18までの好きな数字を記入しています。Enterキーを押すごとに当選番号をランダムに決めてアナウンスするプログラムを書いて下さい。\n",
        "\n",
        "import random\n",
        "\n",
        "def bingo():\n",
        "  numbers = list(range(1, 19))  # 1から18までの数字のリスト\n",
        "  drawn_numbers = []  # 抽選済みの数字を格納するリスト\n",
        "\n",
        "  while True:\n",
        "    input(\"Enterキーを押して次の数字を決めます\")  # Enterキーの入力待ち\n",
        "    if numbers:\n",
        "      drawn_number = random.choice(numbers)  # 数字をランダムに選ぶ\n",
        "      drawn_numbers.append(drawn_number)\n",
        "      numbers.remove(drawn_number)  # 選んだ数字をリストから削除\n",
        "      print(\"当選番号は\", drawn_number, \"です！\")\n",
        "    else:\n",
        "      print(\"全ての数字が抽選されました！\")\n",
        "      break\n",
        "\n",
        "if __name__ == \"__main__\":\n",
        "  bingo()\n"
      ]
    },
    {
      "cell_type": "code",
      "source": [
        "# prompt: 小学6年生に分かるように詳しく易しいコメントを付けて下さい。\n",
        "\n",
        "import random  # ランダムな数字を選ぶための道具を持ってくる\n",
        "\n",
        "# # オープンキャンパス用ビンゴプログラム\n",
        "\n",
        "\n",
        "def bingo():\n",
        "  numbers = list(range(1, 19))  # 1から18までの数字が入った箱を作るよ！\n",
        "  drawn_numbers = []  # 選ばれた数字を入れるための空の箱を用意するよ！\n",
        "\n",
        "  while True:  # すべての数字が選ばれるまで繰り返すよ！\n",
        "    input(\"Enterキーを押して次の数字を決めます\")  # Enterキーを押すと次の数字が出てくるよ！\n",
        "    if numbers:  # まだ数字が残っているか確認するよ！\n",
        "      drawn_number = random.choice(numbers)  # 箱の中から数字をランダムに選ぶよ！\n",
        "      drawn_numbers.append(drawn_number)  # 選ばれた数字を選ばれた数字用の箱に入れるよ！\n",
        "      numbers.remove(drawn_number)  # 選ばれた数字はもう使わないから、元の箱から取り出すよ！\n",
        "      print(\"当選番号は\", drawn_number, \"です！\")  # 選ばれた数字を発表するよ！\n",
        "    else:  # 数字が全部なくなったら…\n",
        "      print(\"全ての数字が抽選されました！\")  # ビンゴゲーム終了！\n",
        "      break  # 繰り返しを終了するよ！\n",
        "\n",
        "if __name__ == \"__main__\":  # プログラムをここから始めるよ！\n",
        "  bingo()  # ビンゴゲーム開始！\n"
      ],
      "metadata": {
        "id": "lEBVWLwY-QW3"
      },
      "execution_count": null,
      "outputs": []
    },
    {
      "cell_type": "code",
      "source": [
        "\n",
        "# prompt: drawn_numbersは無くてもプログラムは動作するので無くして下さい。できるだけシンプルなプログラムにして高校生に分かりやすくしたいので。\n",
        "\n",
        "import random\n",
        "\n",
        "def bingo():\n",
        "  numbers = list(range(1, 19))  # 1から18までの数字が入った箱を作るよ！\n",
        "\n",
        "  while numbers:  # 箱の中に数字が残っている間繰り返すよ！\n",
        "    input(\"Enterキーを押して次の数字を決めます\")  # Enterキーを押すと次の数字が出てくるよ！\n",
        "    drawn_number = random.choice(numbers)  # 箱の中から数字をランダムに選ぶよ！\n",
        "    numbers.remove(drawn_number)  # 選ばれた数字はもう使わないから、元の箱から取り出すよ！\n",
        "    print(\"当選番号は\", drawn_number, \"です！\")  # 選ばれた数字を発表するよ！\n",
        "\n",
        "  print(\"全ての数字が抽選されました！\")  # ビンゴゲーム終了！\n",
        "\n",
        "if __name__ == \"__main__\":  # プログラムをここから始めるよ！\n",
        "  bingo()  # ビンゴゲーム開始！\n"
      ],
      "metadata": {
        "colab": {
          "base_uri": "https://localhost:8080/"
        },
        "id": "1E4Q9Dlua-ic",
        "outputId": "768f1b90-4d57-49aa-deb0-b76e10f29ad8"
      },
      "execution_count": 4,
      "outputs": [
        {
          "output_type": "stream",
          "name": "stdout",
          "text": [
            "Enterキーを押して次の数字を決めます\n",
            "当選番号は 15 です！\n",
            "Enterキーを押して次の数字を決めます\n",
            "当選番号は 11 です！\n",
            "Enterキーを押して次の数字を決めます\n",
            "当選番号は 9 です！\n",
            "Enterキーを押して次の数字を決めます\n",
            "当選番号は 3 です！\n",
            "Enterキーを押して次の数字を決めます\n",
            "当選番号は 18 です！\n",
            "Enterキーを押して次の数字を決めます\n",
            "当選番号は 7 です！\n",
            "Enterキーを押して次の数字を決めます\n",
            "当選番号は 17 です！\n",
            "Enterキーを押して次の数字を決めます\n",
            "当選番号は 5 です！\n",
            "Enterキーを押して次の数字を決めます\n",
            "当選番号は 10 です！\n",
            "Enterキーを押して次の数字を決めます\n",
            "当選番号は 16 です！\n",
            "Enterキーを押して次の数字を決めます\n",
            "当選番号は 6 です！\n",
            "Enterキーを押して次の数字を決めます\n",
            "当選番号は 13 です！\n",
            "Enterキーを押して次の数字を決めます\n",
            "当選番号は 14 です！\n",
            "Enterキーを押して次の数字を決めます\n",
            "当選番号は 8 です！\n",
            "Enterキーを押して次の数字を決めます\n",
            "当選番号は 4 です！\n",
            "Enterキーを押して次の数字を決めます\n",
            "当選番号は 2 です！\n",
            "Enterキーを押して次の数字を決めます\n",
            "当選番号は 1 です！\n",
            "Enterキーを押して次の数字を決めます\n",
            "当選番号は 12 です！\n",
            "全ての数字が抽選されました！\n"
          ]
        }
      ]
    },
    {
      "cell_type": "code",
      "source": [
        "# prompt: if __name__ == \"__main__\": をもう少し詳しく教えて。\n",
        "\n",
        "# Pythonのコードが実行される時、そのコードが直接実行されたのか、\n",
        "# それとも別のモジュールからインポートされて実行されたのかを区別するために\n",
        "# `if __name__ == \"__main__\":` という構文が使われます。\n",
        "\n",
        "# __name__ は、Pythonの特別な変数で、\n",
        "# コードの実行方法によって異なる値を持ちます。\n",
        "# - 直接実行された場合: __name__ には \"__main__\" という文字列が代入されます。\n",
        "# - 別のモジュールからインポートされた場合: __name__ には、そのモジュールの名前が代入されます。\n",
        "\n",
        "# つまり、`if __name__ == \"__main__\":` のブロック内のコードは、\n",
        "# そのファイルが直接実行された場合にのみ実行され、\n",
        "# 別のモジュールからインポートされた場合には実行されません。\n",
        "\n",
        "# この仕組みを利用することで、\n",
        "# モジュールとして利用されることを想定したコードの中に、\n",
        "# テスト用のコードや、直接実行された場合にのみ実行したい処理などを記述することができます。\n",
        "\n",
        "# 例えば、以下のようなコードがあったとします。\n",
        "\n",
        "def my_function():\n",
        "  print(\"関数 my_function が実行されました。\")\n",
        "\n",
        "if __name__ == \"__main__\":\n",
        "  print(\"このファイルが直接実行されました。\")\n",
        "  my_function()\n",
        "\n",
        "# このコードを直接実行すると、\n",
        "# \"このファイルが直接実行されました。\" と \"関数 my_function が実行されました。\" が出力されます。\n",
        "# しかし、別のモジュールから import して my_function() だけを実行した場合、\n",
        "# \"関数 my_function が実行されました。\" だけが出力され、\n",
        "# `if __name__ == \"__main__\":` のブロック内の print 文は実行されません。\n"
      ],
      "metadata": {
        "id": "sBcXCYbbFpxH"
      },
      "execution_count": null,
      "outputs": []
    }
  ]
}