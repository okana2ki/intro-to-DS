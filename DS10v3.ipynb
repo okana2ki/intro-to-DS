{
  "nbformat": 4,
  "nbformat_minor": 0,
  "metadata": {
    "colab": {
      "provenance": [],
      "toc_visible": true,
      "include_colab_link": true
    },
    "kernelspec": {
      "name": "python3",
      "display_name": "Python 3"
    },
    "language_info": {
      "name": "python"
    }
  },
  "cells": [
    {
      "cell_type": "markdown",
      "metadata": {
        "id": "view-in-github",
        "colab_type": "text"
      },
      "source": [
        "<a href=\"https://colab.research.google.com/github/okana2ki/intro-to-DS/blob/main/DS10v3.ipynb\" target=\"_parent\"><img src=\"https://colab.research.google.com/assets/colab-badge.svg\" alt=\"Open In Colab\"/></a>"
      ]
    },
    {
      "cell_type": "markdown",
      "source": [
        "Colabで開いたら、まず、↑上部の**「ドライブにコピー」をクリック**して下さい。Googleドライブの [マイドライブ > Colab Notebooks] に保存され、その後加えた変更がそこに自動保存されるようになります。\n",
        "\n",
        "ヘッダーに表示されるはずの「ドライブにコピー」が表示されてない場合は、画面上部右端の「v」アイコンをクリックして、ヘッダーの表示／非表示を切り替えて下さい。\n",
        "\n",
        "スマホの場合は、左上の3本線を押して、「ファイル」-「ドライブにコピーを保存」のはず。"
      ],
      "metadata": {
        "id": "g-zWGo3F-zNj"
      }
    },
    {
      "cell_type": "markdown",
      "source": [
        "# Gemini (Colab AI) の使い方\n",
        "\n",
        "* Googleアカウントでログインした状態で、**PCで**このコラボ・ノートブックを開くとAIが手伝ってくれます。\n",
        "\n",
        "* **スマホ**はGemini (Colab AI)に対応していませんが、Androidの場合は、ブラウザ画面右上部の「縦に3つ点が並んだメニューアイコン」をタップし、「**PC版サイト**」をタップすると、PC版表示になるため見にくくはなりますが、Geminiが使えます。iPhone, iPadの場合は[ここ](https://atmarkit.itmedia.co.jp/ait/articles/1411/10/news130.html)を見てPC版サイトへの切り替え方を調べて下さい。"
      ],
      "metadata": {
        "id": "Kw7bU321MJIW"
      }
    },
    {
      "cell_type": "markdown",
      "source": [
        "# ライブラリーのインポート\n",
        "コラボノートを立ち上げたら、または、ランタイムに接続し直したら、下記のコードセルを実行する必要があります。「先週実行したから、今回は実行不要」ということはありません。"
      ],
      "metadata": {
        "id": "itPN5TwKG-FY"
      }
    },
    {
      "cell_type": "code",
      "source": [
        "import numpy as np\n",
        "import pandas as pd\n",
        "import matplotlib.pylab as plt"
      ],
      "metadata": {
        "id": "QOmFRvEwHJfB"
      },
      "execution_count": 1,
      "outputs": []
    },
    {
      "cell_type": "markdown",
      "source": [
        "# ヒストグラム：データ分析や機械学習の1ステップとして欠かせない可視化の一例として（再掲）"
      ],
      "metadata": {
        "id": "w7nis6BUDrBj"
      }
    },
    {
      "cell_type": "code",
      "source": [
        "# 乱数のシードをセット\n",
        "np.random.seed(1)\n",
        "# 平均 50, 標準偏差 10 の正規乱数を100個生成してpandasの1次元配列xに入れる\n",
        "x = pd.Series(np.random.normal(50, 10, 100))\n",
        "print(x)\n",
        "# ヒストグラムを描画；ビンの数20\n",
        "plt.hist(x, bins=20, range=(0, 100))"
      ],
      "metadata": {
        "id": "xwcy7-aqOFRb"
      },
      "execution_count": null,
      "outputs": []
    },
    {
      "cell_type": "markdown",
      "source": [
        "## 演習問題２（再掲）\n",
        "\n",
        "1.   乱数のシードを変えてみよう。どうなりましたか？ 気づいたことをメモしておこう。皆さんがメモしたファイルは、**Googleドライブの [マイドライブ > Colab Notebooks] に自動保存**されています。「乱数のシード」って何？と思ったら、Gemini (Colab AI)に尋ねましょう。乱数のシードを変えるためにプログラムのどこをどう変えたらいいか分からないときもAIに尋ねましょう。上手に聞けばたいてい何でも教えてくれるよ。**生成AIはすごくたくさんのことを知っているけど、知りたいことをうまく聞き出すにはコツがいる**ので、いろいろ試行錯誤してみてね。コツを知りたい人は、[ここ](https://okana2ki.wordpress.com/llm-chatbot/#%E3%83%97%E3%83%AD%E3%83%B3%E3%83%97%E3%83%88-%E8%A8%80%E8%AA%9E%E7%94%9F%E6%88%90%E5%9E%8Bai%E3%81%B8%E3%81%AE%E3%83%86%E3%82%AD%E3%82%B9%E3%83%88%E5%85%A5%E5%8A%9B-%E3%81%AE%E6%9B%B8%E3%81%8D%E6%96%B9)を見て。\n",
        "> メモ：ここをダブルクリックして記入\n",
        "\n",
        "2.   乱数の生成個数を多くしたり、少なくしたりしてみよう（やり方が分からないときはGemini (Colab AI)に聞いてね）。必要に応じてビンの数も変えて下さい。どうなりましたか？気づいたことをメモしておこう。\n",
        "> メモ："
      ],
      "metadata": {
        "id": "1xqfq8hTOezZ"
      }
    },
    {
      "cell_type": "markdown",
      "source": [
        "## 演習問題２（再掲：つづき）\n",
        "\n",
        "3.   上の1.と2.の問題をGeminiに尋ねて解答させてみよう。どのように質問するとよいか、いろいろ工夫して下さい。あなたの工夫をメモしておこう。\n",
        "> メモ：\n",
        "\n",
        "4.   あなたの答と、Geminiの答を比べて、気づいたことをメモしておこう。\n",
        "> メモ：\n",
        "\n",
        "以上の演習問題1.から4.を解いたあなた。あなたはもう**生成AIで勉強する方法**（答を尋ねて丸写しするのでなく、**本当の力をつける方法**）を身につけたはず。その調子でがんばれば必ず道は開けるよ。\n"
      ],
      "metadata": {
        "id": "cM3QzBghPA3j"
      }
    },
    {
      "cell_type": "markdown",
      "source": [
        "## 演習問題２の3.解説\n",
        "\n",
        "AIへの依頼の一例：「乱数のシードを変えて下さい。」\n",
        "\n",
        "↓下の２つ目のコードセルで依頼してみよう！！"
      ],
      "metadata": {
        "id": "kM3v3CJFQrRO"
      }
    },
    {
      "cell_type": "code",
      "source": [
        "# 乱数のシードをセット\n",
        "np.random.seed(1)\n",
        "# 平均 50, 標準偏差 10 の正規乱数を100個生成してpandasの1次元配列xに入れる\n",
        "x = pd.Series(np.random.normal(50, 10, 100))\n",
        "print(x)\n",
        "# ヒストグラムを描画；ビンの数20\n",
        "plt.hist(x, bins=20, range=(0, 100))"
      ],
      "metadata": {
        "id": "pHn9WhM-Pv4V"
      },
      "execution_count": null,
      "outputs": []
    },
    {
      "cell_type": "code",
      "source": [],
      "metadata": {
        "id": "La29F60Ghu7C"
      },
      "execution_count": null,
      "outputs": []
    },
    {
      "cell_type": "markdown",
      "source": [
        "## 解説つづき\n",
        "\n",
        "次に、シードによる変化をより分かりやすく可視化してみよう。どのように依頼したらいいでしょうか？\n",
        "\n",
        "↓下の２つ目のコードセルで依頼してみよう！！"
      ],
      "metadata": {
        "id": "elvv1Pr_RpNI"
      }
    },
    {
      "cell_type": "code",
      "source": [
        "# system instruction:\n",
        "# ユーザはプログラミング初心者です。\n",
        "# あなたの役割は、ユーザのコーディング依頼に応じる際、ユーザがプログラミングを習得できるようにすることです。\n",
        "# ユーザのコーディング依頼に対してコードを生成する場合、依頼されたコードの実行後に、\n",
        "# 「Pythonコードの書き方に関してユーザは何が分かってないかを自覚させるquiz」を出題するコードを生成して下さい。\n",
        "# quizの解答に応じてユーザにフィードバックするコードも追加して下さい。"
      ],
      "metadata": {
        "id": "PU_kV5vwTKJL"
      },
      "execution_count": null,
      "outputs": []
    },
    {
      "cell_type": "code",
      "source": [],
      "metadata": {
        "id": "Irdu3xajlRYl"
      },
      "execution_count": null,
      "outputs": []
    },
    {
      "cell_type": "markdown",
      "source": [
        "↓可視化の例を２つ示します。"
      ],
      "metadata": {
        "id": "IPEAKW_dlYtn"
      }
    },
    {
      "cell_type": "code",
      "source": [
        "# 乱数のシードをセット\n",
        "np.random.seed(1)\n",
        "# 平均 50, 標準偏差 10 の正規乱数を100個生成してpandasの1次元配列xに入れる\n",
        "x = pd.Series(np.random.normal(50, 10, 100))\n",
        "print(x)\n",
        "# ヒストグラムを描画；ビンの数20; 透明度0.5\n",
        "plt.hist(x, bins=20, range=(0, 100), alpha=0.5, label='x')\n",
        "np.random.seed(2) # 別のシードをセット\n",
        "y = pd.Series(np.random.normal(50, 10, 100))\n",
        "plt.hist(y, bins=20, range=(0, 100), alpha=0.5, label='y')\n",
        "plt.legend(loc='upper left')\n",
        "plt.show()"
      ],
      "metadata": {
        "id": "WuavF-bKD7XC"
      },
      "execution_count": null,
      "outputs": []
    },
    {
      "cell_type": "code",
      "source": [
        "np.random.seed(1)\n",
        "x = pd.Series(np.random.normal(50, 10, 100))\n",
        "y = pd.Series(np.random.normal(50, 10, 100)) # 続きで乱数を発生するので別の系列になる\n",
        "# ヒストグラムを描画；ビンの数20；並べて表示\n",
        "plt.hist([x,y], bins=20, range=(0, 100), label=['x','y'])\n",
        "plt.legend(loc='upper right')\n",
        "plt.show()"
      ],
      "metadata": {
        "id": "-_lF4H648t2h"
      },
      "execution_count": null,
      "outputs": []
    },
    {
      "cell_type": "markdown",
      "source": [
        "## 解説つづき\n",
        "\n",
        "次に、乱数の生成個数を多くしたり、少なくしたりしてみよう。\n",
        "\n",
        "↓自分でできる人は下のコードセルに自分でコードを書いて下さい。分からない人は下のコードセルで依頼してみよう！！"
      ],
      "metadata": {
        "id": "ZIfS8wvinLww"
      }
    },
    {
      "cell_type": "code",
      "source": [],
      "metadata": {
        "id": "YCZKPZy6oT88"
      },
      "execution_count": null,
      "outputs": []
    },
    {
      "cell_type": "markdown",
      "source": [
        "↓以下の４つは、乱数の生成個数を変えて変化を見た例です。ビンの数も調整しています。"
      ],
      "metadata": {
        "id": "w2QpSl4Dobc9"
      }
    },
    {
      "cell_type": "code",
      "source": [
        "np.random.seed(1)\n",
        "x = pd.Series(np.random.normal(50, 10, 20)) # 少なくしてみる\n",
        "y = pd.Series(np.random.normal(50, 10, 20))\n",
        "plt.hist(x, bins=20, range=(0, 100), alpha=0.5, label='x')\n",
        "plt.hist(y, bins=20, range=(0, 100), alpha=0.5, label='y')\n",
        "plt.legend(loc='upper left')\n",
        "plt.show()"
      ],
      "metadata": {
        "id": "TndzFoJx_Jx3"
      },
      "execution_count": null,
      "outputs": []
    },
    {
      "cell_type": "code",
      "source": [
        "np.random.seed(1)\n",
        "x = pd.Series(np.random.normal(50, 10, 10000)) # 多くしてみる\n",
        "y = pd.Series(np.random.normal(50, 10, 10000))\n",
        "plt.hist(x, bins=20, range=(0, 100), alpha=0.5, label='x')\n",
        "plt.hist(y, bins=20, range=(0, 100), alpha=0.5, label='y')\n",
        "plt.legend(loc='upper left')\n",
        "plt.show()"
      ],
      "metadata": {
        "id": "fn-rKw9FAGAv"
      },
      "execution_count": null,
      "outputs": []
    },
    {
      "cell_type": "code",
      "source": [
        "np.random.seed(1)\n",
        "x = pd.Series(np.random.normal(50, 10, 10000))\n",
        "y = pd.Series(np.random.normal(50, 10, 10000))\n",
        "plt.hist(x, bins=200, range=(0, 100), alpha=0.5, label='x') # ビンの数を増やしてみる\n",
        "plt.hist(y, bins=200, range=(0, 100), alpha=0.5, label='y')\n",
        "plt.legend(loc='upper left')\n",
        "plt.show()"
      ],
      "metadata": {
        "id": "TaYfwiwIBRfE"
      },
      "execution_count": null,
      "outputs": []
    },
    {
      "cell_type": "code",
      "source": [
        "np.random.seed(1)\n",
        "x = pd.Series(np.random.normal(50, 10, 1000000)) # もっと多くしてみる\n",
        "y = pd.Series(np.random.normal(50, 10, 1000000))\n",
        "plt.hist(x, bins=200, range=(0, 100), alpha=0.5, label='x')\n",
        "plt.hist(y, bins=200, range=(0, 100), alpha=0.5, label='y')\n",
        "plt.legend(loc='upper left')\n",
        "plt.show()"
      ],
      "metadata": {
        "id": "o8LKusjvBhnX"
      },
      "execution_count": null,
      "outputs": []
    },
    {
      "cell_type": "markdown",
      "source": [
        "#平均、中央値、最頻値；分散、標準偏差\n",
        "**平均、中央値（昇順に並べたとき中央にくる値；中央値は外れ値に対して頑健）、最頻値（最も出やすい値）は、代表値（１つの値でデータを代表させる）。分散と標準偏差は、ばらつきの指標。**\n",
        "\n",
        "母分散，標本分散，不偏分散，標準偏差については、[ここ](https://manabitimes.jp/math/1035)や[ここ](https://biolab.sakura.ne.jp/variance.html)を参照。要旨だけ記しておくと：\n",
        "\n",
        "\n",
        "*   母分散：全体の分布（母集団）の分散。未知数であることが多い。\n",
        "*   標本分散：標本（データ）の**分散（ばらつきの指標）**。「(平均からの偏差)の2乗」の平均。$\\dfrac{1}{n}\\displaystyle\\sum_{i=1}^n(x_i-\\overline{x})^2$\n",
        "*   不偏標本分散（不偏分散）：標本分散を$\\frac{n}{n-1}$倍したもの。$u^2=\\dfrac{1}{n-1}\\displaystyle\\sum_{i=1}^n(x_i-\\overline{x})^2$\n",
        "（ランダムサンプリングでは） 不偏分散の期待値は母分散と一致する。\n",
        "*   標本**標準偏差**：標本分散の平方根。$\\sqrt{\\dfrac{1}{n}\\displaystyle\\sum_{i=1}^n(x_i-\\overline{x})^2}$\n",
        "*   不偏分散の平方根（これは母標準偏差に対する不偏推定量ではない）：$\\sqrt{\\dfrac{1}{n-1}\\displaystyle\\sum_{i=1}^n(x_i-\\overline{x})^2}$\n",
        "\n"
      ],
      "metadata": {
        "id": "3Ne2iSHTOVMn"
      }
    },
    {
      "cell_type": "markdown",
      "source": [
        "##和を表す記号\n",
        "$\\displaystyle\\sum_{i=1}^n x_i = x_1+x_2+\\cdots+x_n$\n",
        "\n",
        "和の記号としてシグマを使うのは、和を表す英語sumの頭文字であるSと対応するギリシャ文字がΣだからです。\n",
        "\n",
        "同様に、英語で積を表す単語がproductですから、その頭文字Pに対応するギリシャ文字Π（パイ）を用いて、積を表します。ちなみに、パイの小文字πは円周率を表しますが、これはギリシア語で周囲を表す「περίμετρος（= perimeter）」に由来しているそうです。"
      ],
      "metadata": {
        "id": "wLppLj78788F"
      }
    },
    {
      "cell_type": "code",
      "source": [
        "np.random.seed(1)\n",
        "# 平均 50, 標準偏差 10 の正規乱数を1000個生成してpandasの1次元配列xに入れる\n",
        "x = pd.Series(np.random.normal(50, 10, 1000))\n",
        "\n",
        "print(x.mean(), x.median())  # mean:平均, median:中央値\n",
        "print(x.var(), x.var(ddof=0))  # var():不偏分散, var(ddof=0):標本分散\n",
        "# pandasの標準設定では分散は不偏分散(ddof=1)。標本分散は(ddof=0)とする。\n",
        "# （参考）numpyの標準設定では分散は標本分散。\n",
        "print(x.std(), x.std(ddof=0))  # std():不偏分散の平方根, std(ddof=0):標本標準偏差\n",
        "\n",
        "x.describe()  # 記述統計量をまとめて生成。いくつか説明しておくと、std:不偏分散の平方根, 50%:中央値"
      ],
      "metadata": {
        "id": "hkSWgDvC2kA3"
      },
      "execution_count": null,
      "outputs": []
    },
    {
      "cell_type": "code",
      "source": [
        "y = [1, 2, 2, 3, 3, 3, 4, 4, 4, 5, 6]\n",
        "pd.Series(y).mode()  # 最頻値を1次元配列で返す"
      ],
      "metadata": {
        "id": "JCTC7U88m87V"
      },
      "execution_count": null,
      "outputs": []
    },
    {
      "cell_type": "markdown",
      "source": [
        "## 演習問題３（再掲）\n",
        "以下のプログラムの実行結果はどのようになると思いますか？想像してから実行してみましょう。\n",
        "> あなたの予想をここに書きましょう。\n",
        "\n",
        "\n",
        "\n"
      ],
      "metadata": {
        "id": "4E9qkB4OsmOz"
      }
    },
    {
      "cell_type": "code",
      "source": [
        "x.mode()"
      ],
      "metadata": {
        "id": "HxXY9kG6psV9"
      },
      "execution_count": null,
      "outputs": []
    },
    {
      "cell_type": "code",
      "source": [
        "x.round().mode()"
      ],
      "metadata": {
        "id": "c-qnsQiCqyBt"
      },
      "execution_count": null,
      "outputs": []
    },
    {
      "cell_type": "code",
      "source": [
        "plt.hist(x.round(), bins=100, range=(0, 100))"
      ],
      "metadata": {
        "id": "SxFJM73Wr0eE"
      },
      "execution_count": null,
      "outputs": []
    },
    {
      "cell_type": "markdown",
      "source": [
        "予想通りでしたか？\n",
        "どうして、このような結果になったか分かりますか？\n",
        "\n",
        "\n",
        "> メモ：\n",
        "*   x.mode()は、全ての値がバラバラだったので、全てが最頻値（1回ずつ出現）となった。\n",
        "*   x.round().mode()は、四捨五入されたため、50の頻度が最大になった。\n"
      ],
      "metadata": {
        "id": "hIK2sAXts4uk"
      }
    },
    {
      "cell_type": "markdown",
      "source": [
        "# プログラムを読んだり書いたりするときのTips（コツや小技のこと）\n",
        "\n",
        "*  round()というメソッドが何かを知りたいときは、コード中のroundにマウス・オン（マウス・オーバー）する（マウスカーソルをそこに持っていってしばらくそこに保つ）と、説明が表示されます。→説明が英語なのでチンプンカンプン→[DeepL](https://www.deepl.com/ja/translator)にお任せ！→さらに、[アプリ](https://www.deepl.com/ja/app/)をインストールしておくと、Ctrl-C Ctrl-Cで翻訳できて便利。Google翻訳アプリを起動したスマホをかざすのも便利。\n",
        "\n",
        "*  あるいは、「pandas round」でGoogle検索する(round()はpandasライブラリで使われるデータ構造のメソッドなので、このように検索)と解説が見つかります。これはround()に限らずプログラム中で分からないことがあった場合に共通して使える方法です。\n",
        "\n",
        "*  他には、たとえば「Python 平均」で検索すると、平均を求めるプログラムが見つかる、という方法もプログラムを書くときに役立ちます。\n",
        "\n",
        "* 2022年11月末に[ChatGPT](https://chat.openai.com/auth/login?next=/chat)が使えるようになったので、生成AIによるプログラム自動生成がとても強力です。たとえば、「Pythonで配列中のデータのヒストグラムを表示するプログラムを書いて」とか。[ChatGPT等の生成AI](https://okana2ki.wordpress.com/llm-chatbot/#%E8%A8%80%E8%AA%9E%E7%94%9F%E6%88%90%E5%9E%8Bai-%E3%83%81%E3%83%A3%E3%83%83%E3%83%88%E3%83%9C%E3%83%83%E3%83%88-%E3%81%AE%E4%BE%8B)を参照。また、2024年4月時点では、**Gemini**がColabの無料版で使えるので、**Colab作業中はGemini (Colab AI)でチャットするのが手っ取り早い**です。Colab内Geminiについては、[ここ](https://okana2ki.wordpress.com/llm-chatbot/#google-colab%E5%86%85%E3%81%AEgemini-colab-ai)にも使い方をまとめてあるよ。\n",
        "\n",
        "* **ChatGPTやGeminiに**例えば**「Pythonで平均を求めるプログラムを書いて」と頼む**と書いてくれます。**Colab内でプログラム作成を頼むときは、新しいコードセルを作成し、表示された「コーディングを開始するか、AIで<u>生成</u>します。」中の「<u>生成</u>」をクリックすると、入力窓が現れるので、そこで依頼するのがお勧め**。**教わったプログラム中で分からないことがあれば、それについて質問すると答えてくれるので理解が深まります。\n",
        "\n",
        "* **答を丸写しするだけになってしまうのが心配な人は、（ChatGPTを使う必要がありますが）[Custom instructions (カスタム指示)をAIチュータモードに設定](https://okana2ki.wordpress.com/llm-chatbot/#chatgpt-custom-instructions-%E3%82%AB%E3%82%B9%E3%82%BF%E3%83%A0%E6%8C%87%E7%A4%BA-%E3%81%AE%E4%BD%BF%E3%81%84%E6%96%B9-ai%E3%83%81%E3%83%A5%E3%83%BC%E3%82%BF%E7%94%A8)して使ってみて下さい。自分で考えるように促してくれるはず。\n",
        "\n",
        "* Gemini (Colab AI)では、システム指示（カスタム指示）の設定ができないので、AIチュータモードにはできないと思っていたのですが、昨晩、**システム指示と同様の効果をコラボノート内で得る方法**を思いついたので、このノートブックで試してみました！かなり画期的だと思います(自画自賛:-)。コードセル中に書いた以下のコードがそれです：\n",
        "```\n",
        "# system instruction:\n",
        "# ユーザはプログラミング初心者です。\n",
        "# あなたの役割は、ユーザのコーディング依頼に応じる際、ユーザがプログラミングを習得できるようにすることです。\n",
        "# ユーザのコーディング依頼に対してコードを生成する場合、依頼されたコードの実行後に、\n",
        "# 「Pythonコードの書き方に関してユーザは何が分かってないかを自覚させるquiz」を出題するコードを生成して下さい。\n",
        "# quizの解答に応じてユーザにフィードバックするコードも追加して下さい。\n",
        "```\n",
        "このコードセルより下では、GeminiがAIチュータをやってくれるはず！\n",
        "\n",
        "* プログラム実行時にエラーメッセージが出てどうしたらいいか分からないときは、その**（プログラムと）エラーメッセージをコピペしてChatGPTやGeminiに尋ねる**と対処法を教えてくれます。\n",
        "\n",
        "* このノートブック中の（もちろんそれに限らず一般的に）分からないことや知りたいことがあれば、**ChatGPTやGeminiに尋ねる**と教えてくれます。たとえば、「np.random.seed(1) このプログラムについて初心者でも分かるように詳しく教えて。」その解説中に分からないことがあれば、さらに質問を繰り返して下さい。**あなた専用の優秀な家庭教師**として、どんな初歩的なことを聞き続けても親切に教えてくれます。"
      ],
      "metadata": {
        "id": "jDHffItsQJU1"
      }
    },
    {
      "cell_type": "markdown",
      "source": [
        "\n",
        "\n",
        "---\n",
        "\n"
      ],
      "metadata": {
        "id": "3t34dZ7JQJwK"
      }
    },
    {
      "cell_type": "markdown",
      "source": [
        "#本日の内容"
      ],
      "metadata": {
        "id": "elviT3PjQNJp"
      }
    },
    {
      "cell_type": "markdown",
      "source": [
        "#相関係数（と散布図）\n",
        "$相関係数 = \\dfrac{xとyの共分散}{xの標準偏差 \\times yの標準偏差}$\n",
        "\n",
        "$相関係数 = \\dfrac{\\dfrac{1}{n}\\displaystyle\\sum_{i=1}^n(x_i-\\overline{x})(y_i-\\overline{y})}{\\sqrt{\\dfrac{1}{n}\\displaystyle\\sum_{i=1}^n(x_i-\\overline{x})^2}\\sqrt{\\dfrac{1}{n}\\displaystyle\\sum_{i=1}^n(y_i-\\overline{y})^2}}$"
      ],
      "metadata": {
        "id": "x2uWiXrvQXny"
      }
    },
    {
      "cell_type": "code",
      "source": [
        "import pandas as pd\n",
        "import numpy as np\n",
        "import matplotlib.pyplot as plt\n",
        "\n",
        "x = pd.Series(np.random.uniform(0, 5, 10))  # 0以上5未満の一様乱数を10個\n",
        "y = pd.Series(np.random.uniform(0, 5, 10))\n",
        "plt.xlim(0,5)  # 表示範囲\n",
        "plt.ylim(0,5)\n",
        "plt.scatter(x,y)  # 散布図\n",
        "plt.show()\n",
        "res = x.corr(y)  # 相関係数\n",
        "print(res)"
      ],
      "metadata": {
        "id": "nMh5ZDo7a7Ml"
      },
      "execution_count": null,
      "outputs": []
    },
    {
      "cell_type": "markdown",
      "source": [
        "## 演習問題４\n",
        "1.   上のプログラムを何回か実行して、データの分布と相関係数の関係を体感しよう。\n",
        "2.   相関が強い（１かー１に近い）ケースの散布図と相関係数を記録して残したいと思ったら、どうすればよいと思いますか？　ヒント：**体力勝負でひたすら何回も試してもいいのですが、そのためのプログラムを書くと楽ちん**ですね。自分でプログラムが書ける人はぜひ書いてみて下さい。自分では書けない人も生成AIに相談すると簡単に書けますよ。"
      ],
      "metadata": {
        "id": "FG31QrQgjyag"
      }
    },
    {
      "cell_type": "markdown",
      "source": [
        "#おまけ：3次元散布図\n",
        "残念ながらColabで下記のプログラムを実行してもドラッグでグリグリ回せる3次元プロットは表示されません。\n",
        "\n",
        "回せる3次元プロットを表示するためには、Google Colabではなく、自分のパソコンにPythonをインストールして、Pythonインタプリタで下記のプログラムを実行する必要があります。\n",
        "\n",
        "まず、PythonとVisual Studio Codeをインストールして下さい。たとえば、[ここ](https://learn.microsoft.com/ja-jp/training/modules/python-install-vscode/)を参照。この他にも、「python vscode インストール」「python インストール」「vscode インストール」などと検索すると有用なサイトがいろいろあります。パソコン内にすでにPythonがインストールされていた人は、[ここ](https://www.wataichi-nikki.com/python-versionupgrade/)も参照して下さい。Pythonインストール時の注意：自動で環境変数にパスを追加するため、「Add Python x.x to PATH」にチェックを入れ、「Install Now」をクリックします。vscodeで下記のPythonプログラムを実行すると、ぐりぐり回せる3次元散布図が表示されます。\n",
        "\n",
        "別の方法としては、たとえば、[このサイト](https://www.javadrive.jp/python/install/index5.html)にしたがって、Anacondaをインストールして、Anaconda Prompt(Anaconda3)からPythonインタプリタを起動し、下記のプログラムを実行すると、ぐりぐり回せます。"
      ],
      "metadata": {
        "id": "noTtAQ8ys2vV"
      }
    },
    {
      "cell_type": "code",
      "source": [
        "import matplotlib.pyplot as plt\n",
        "from mpl_toolkits.mplot3d import Axes3D\n",
        "\n",
        "fig = plt.figure()\n",
        "ax = fig.add_subplot(111, projection='3d')\n",
        "\n",
        "x = [1, 2, 3, 4, 5]\n",
        "y = [1, 8, 3, 6, 5]\n",
        "z = [1, 5, 3, 8, 9]\n",
        "\n",
        "ax.scatter(x, y, z)\n",
        "plt.show()"
      ],
      "metadata": {
        "id": "A3EIAYfsXT9v"
      },
      "execution_count": null,
      "outputs": []
    }
  ]
}