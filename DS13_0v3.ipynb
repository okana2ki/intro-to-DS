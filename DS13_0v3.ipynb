{
  "nbformat": 4,
  "nbformat_minor": 0,
  "metadata": {
    "colab": {
      "provenance": [],
      "toc_visible": true,
      "include_colab_link": true
    },
    "kernelspec": {
      "name": "python3",
      "display_name": "Python 3"
    },
    "language_info": {
      "name": "python"
    }
  },
  "cells": [
    {
      "cell_type": "markdown",
      "metadata": {
        "id": "view-in-github",
        "colab_type": "text"
      },
      "source": [
        "<a href=\"https://colab.research.google.com/github/okana2ki/intro-to-DS/blob/main/DS13_0v3.ipynb\" target=\"_parent\"><img src=\"https://colab.research.google.com/assets/colab-badge.svg\" alt=\"Open In Colab\"/></a>"
      ]
    },
    {
      "cell_type": "markdown",
      "source": [
        "# ノートブックの保存／保存したものの再開\n",
        "\n",
        "## **保存のしかた**\n",
        "\n",
        "Colabで開いたら、まず、↑上部の**「ドライブにコピー」をクリック**して下さい。Googleドライブの [マイドライブ > Colab Notebooks] に保存され、その後加えた変更がそこに自動保存されるようになります。\n",
        "\n",
        "ヘッダーに表示されるはずの「ドライブにコピー」が表示されてない場合は、画面上部右端の「v」アイコンをクリックして、ヘッダーの表示／非表示を切り替えて下さい。\n",
        "\n",
        "スマホの場合は、左上の3本線を押して、「ファイル」-「ドライブにコピーを保存」のはず。\n",
        "\n",
        "## **再開のしかた**\n",
        "\n",
        "ヘッダー（上記参照）が表示されている状態で、左上の「ファイル」をクリック→「ノートブックを開く」をクリック→最近閲覧したノートブックの一覧が表示されるので、開きたいノートブック名をクリックするか、右端のいくつかのアイコンのうち目的に合ったものをクリック（または、左カラムの「Googleドライブ」をクリックするとドライブ中のノートブック一覧が表示されるのでそこから探す；一覧から探すときは、一覧上部の「↑」や「↓」をクリックすることでいろいろな条件で並べ替えできます）"
      ],
      "metadata": {
        "id": "1eiVNnCF5jK4"
      }
    },
    {
      "cell_type": "markdown",
      "source": [
        "# Gemini (Colab AI) の使い方\n",
        "\n",
        "* Googleアカウントでログインした状態で、**PCで**このコラボ・ノートブックを開くとAIが手伝ってくれます。\n",
        "\n",
        "次のようにAIに頼んでみよう。頼む手順：\n",
        "\n",
        "0. コードセルを新たに追加したい場合は、ノートブック画面上部の「+コード」をクリックする(現在カーソルがあるセルの下に追加される)か、または、セルの間あたりにカーソルをもってくると表示される「+コード」をクリックする(クリックした場所に追加される)。\n",
        "\n",
        "1. コードセルを作ったときの表示「コーディングを開始するか、AIで<u>生成</u>します。」中の**「<u>生成</u>」をクリック**すると、入力窓が現れるので、そこに以下の依頼を**コピー(Ctrl-C)・アンド・ペースト(Ctrl-V)**しよう←このショートカットキーはWindowsの場合（Ctrl-CはCtrlキーを押しながら同時にCキーを押すことを示す）；MacではCtrlの代わりにcommandキー）\n",
        "2. 入力窓への入力が済んだら、Enterキーを押すか、入力窓の左側の「生成」ボタンを押す。\n",
        "\n",
        "依頼の書き方の例：\n",
        "> (1, 2, 3) という3個のデータの（不偏分散ではなく）標本分散を求めて下さい。"
      ],
      "metadata": {
        "id": "uf87Y89w5mKt"
      }
    },
    {
      "cell_type": "code",
      "source": [],
      "metadata": {
        "id": "mcfF31Xj533q"
      },
      "execution_count": null,
      "outputs": []
    },
    {
      "cell_type": "markdown",
      "source": [
        "#ファイルの読み込み\n",
        "CSVファイルをpandasのDataFrame形式で読み込む。\n",
        "\n"
      ],
      "metadata": {
        "id": "EmyXqMWgaWwr"
      }
    },
    {
      "cell_type": "code",
      "source": [],
      "metadata": {
        "id": "lI7trmXIB62K"
      },
      "execution_count": null,
      "outputs": []
    },
    {
      "cell_type": "markdown",
      "source": [
        "**ヘッダー行を行番号で指定する**必要がある。SSDSE-C-2024.csvの場合は、最初の2行がヘッダー（データは3行目から始まる）であるが、1行目は「項目コード」であるためAIに頼むときやプログラムを見たとき分かりにくく、2行目の「項目名」の方が分かりやすいので、下記のように2行目をヘッダーとして指定する。上から0行、1行と数えるので、**行番号1は2行目を示す**ことに注意。\n",
        "```\n",
        "header=1\n",
        "```"
      ],
      "metadata": {
        "id": "4YKQXcU5Vpdu"
      }
    },
    {
      "cell_type": "markdown",
      "source": [
        "日本語を含むファイルの場合は、encoding（文字コード）を適切に指定する必要がある。encodingを指定しないと、デフォルトのutf_8と見なされるが、それでエラーが出る場合は、shift_jisを指定する。\n",
        "```\n",
        "encoding=\"utf_8\"  # こちらがデフォルト（指定しないとこちらだと解釈される）\n",
        "encoding=\"shift_jis\"\n",
        "```\n",
        "\n"
      ],
      "metadata": {
        "id": "Y5dO8bgEb1JA"
      }
    },
    {
      "cell_type": "markdown",
      "source": [
        "## Webサイト（SSDSEのサイト）上のファイルの読み込み"
      ],
      "metadata": {
        "id": "uekJz2h0ak7I"
      }
    },
    {
      "cell_type": "code",
      "source": [
        "import pandas as pd\n",
        "\n",
        "url = \"https://www.nstac.go.jp/sys/files/SSDSE-C-2024.csv\"\n",
        "df = pd.read_csv(url, header=1, encoding=\"shift_jis\")\n",
        "print(df)"
      ],
      "metadata": {
        "id": "WbSXto6wbPsh"
      },
      "execution_count": null,
      "outputs": []
    },
    {
      "cell_type": "markdown",
      "source": [
        "# AIにいろいろな分析をお願いしてみよう！\n",
        "\n",
        "エクセルで演習したような分析はもちろん、もっと面白い分析、もっと複雑な分析でも、言葉でお願いするだけで、手軽にできるよ。やりたい分析や欲しい結果と違う場合は、それを指摘して繰り返しお願いしてみよう。"
      ],
      "metadata": {
        "id": "UoGs_doAKcSI"
      }
    },
    {
      "cell_type": "markdown",
      "source": [
        "AIに依頼すると、グラフ中に日本語表示するプログラムを作成することがあるため、グラフ中に日本語が表示できるように、あらかじめ、下記の2つのコードセルを実行しておきましょう。"
      ],
      "metadata": {
        "id": "c0v4QZn-EzAj"
      }
    },
    {
      "cell_type": "code",
      "source": [
        "!pip install japanize_matplotlib"
      ],
      "metadata": {
        "id": "OOLVxOpFEeEJ"
      },
      "execution_count": null,
      "outputs": []
    },
    {
      "cell_type": "code",
      "source": [
        "import japanize_matplotlib"
      ],
      "metadata": {
        "id": "ce-4AxHHE37j"
      },
      "execution_count": 6,
      "outputs": []
    },
    {
      "cell_type": "code",
      "source": [
        "# prompt: ぎょうざの消費額が多い順にソートして下さい。\n",
        "\n",
        "import pandas as pd\n",
        "\n",
        "# URLからデータを読み込む\n",
        "url = \"https://www.nstac.go.jp/sys/files/SSDSE-C-2024.csv\"\n",
        "df = pd.read_csv(url, header=1, encoding=\"shift_jis\")\n",
        "\n",
        "# 'ぎょうざ'を含む列を特定し、消費額が多い順にソート\n",
        "# 列名が正確にわからない場合は、df.columnsで列名を確認してください。\n",
        "# 例えば、'世帯の1か月当たりの消費支出（円）'が'消費支出'という列名だと仮定します。\n",
        "# 実際の列名に合わせて修正してください。\n",
        "\n",
        "# 列名のリストを取得\n",
        "columns = df.columns.tolist()\n",
        "\n",
        "# 'ぎょうざ'を含む列名を探す\n",
        "target_columns = [col for col in columns if 'ぎょうざ' in col]\n",
        "\n",
        "# 見つかった列に基づいてソート\n",
        "if target_columns:\n",
        "  for col in target_columns:\n",
        "    print(f\"--- {col} ---\")\n",
        "    sorted_df = df.sort_values(by=col, ascending=False)\n",
        "    print(sorted_df[[col]])  # 消費額の列のみ表示\n",
        "else:\n",
        "  print(\"'ぎょうざ'を含む列名が見つかりませんでした。列名を確認してください。\")"
      ],
      "metadata": {
        "id": "3sbzBsjo-JZJ"
      },
      "execution_count": null,
      "outputs": []
    },
    {
      "cell_type": "code",
      "source": [
        "# prompt: ソート結果は、行番号に加えて、3列目の「市」の列に記載された都市名も示して下さい。\n",
        "\n",
        "import pandas as pd\n",
        "\n",
        "# URLからデータを読み込む\n",
        "url = \"https://www.nstac.go.jp/sys/files/SSDSE-C-2024.csv\"\n",
        "df = pd.read_csv(url, header=1, encoding=\"shift_jis\")\n",
        "\n",
        "# 'ぎょうざ'を含む列を特定し、消費額が多い順にソート\n",
        "# 列名が正確にわからない場合は、df.columnsで列名を確認してください。\n",
        "# 例えば、'世帯の1か月当たりの消費支出（円）'が'消費支出'という列名だと仮定します。\n",
        "# 実際の列名に合わせて修正してください。\n",
        "\n",
        "# 列名のリストを取得\n",
        "columns = df.columns.tolist()\n",
        "\n",
        "# 'ぎょうざ'を含む列名を探す\n",
        "target_columns = [col for col in columns if 'ぎょうざ' in col]\n",
        "\n",
        "# 見つかった列に基づいてソート\n",
        "if target_columns:\n",
        "    for col in target_columns:\n",
        "        print(f\"--- {col} ---\")\n",
        "        sorted_df = df.sort_values(by=col, ascending=False)\n",
        "        # 行番号と都市名を含めて表示\n",
        "        sorted_df = sorted_df.reset_index() # 行番号をリセット\n",
        "        print(sorted_df[['index', '市', col]])  # 行番号、市、消費額の列を表示\n",
        "else:\n",
        "    print(\"'ぎょうざ'を含む列名が見つかりませんでした。列名を確認してください。\")"
      ],
      "metadata": {
        "id": "obKqFMw-_9fL"
      },
      "execution_count": null,
      "outputs": []
    }
  ]
}