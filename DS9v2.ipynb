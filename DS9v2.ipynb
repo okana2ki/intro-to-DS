{
  "nbformat": 4,
  "nbformat_minor": 0,
  "metadata": {
    "colab": {
      "provenance": [],
      "toc_visible": true,
      "include_colab_link": true
    },
    "kernelspec": {
      "name": "python3",
      "display_name": "Python 3"
    },
    "language_info": {
      "name": "python"
    }
  },
  "cells": [
    {
      "cell_type": "markdown",
      "metadata": {
        "id": "view-in-github",
        "colab_type": "text"
      },
      "source": [
        "<a href=\"https://colab.research.google.com/github/okana2ki/intro-to-DS/blob/main/DS9v2.ipynb\" target=\"_parent\"><img src=\"https://colab.research.google.com/assets/colab-badge.svg\" alt=\"Open In Colab\"/></a>"
      ]
    },
    {
      "cell_type": "markdown",
      "source": [
        "#電卓代わり"
      ],
      "metadata": {
        "id": "qCxrBvNyBlxG"
      }
    },
    {
      "cell_type": "code",
      "execution_count": null,
      "metadata": {
        "id": "g9AwnBl3Bht5"
      },
      "outputs": [],
      "source": [
        "1/3"
      ]
    },
    {
      "cell_type": "code",
      "source": [
        "2*(7-3)"
      ],
      "metadata": {
        "id": "jAuYQJENDQTN"
      },
      "execution_count": null,
      "outputs": []
    },
    {
      "cell_type": "code",
      "source": [
        "2**4  #2の4乗"
      ],
      "metadata": {
        "id": "5RnUvJFZ6845"
      },
      "execution_count": null,
      "outputs": []
    },
    {
      "cell_type": "code",
      "source": [
        "a = 24\n",
        "b = 8\n",
        "print(a+b, a/b)"
      ],
      "metadata": {
        "id": "lJzpUxlA7evS"
      },
      "execution_count": null,
      "outputs": []
    },
    {
      "cell_type": "code",
      "source": [
        "a = 2.4\n",
        "b = 0.8\n",
        "print(a+b, a/b)"
      ],
      "metadata": {
        "id": "s0GSHf8e-684"
      },
      "execution_count": null,
      "outputs": []
    },
    {
      "cell_type": "markdown",
      "source": [
        "↑小数点以下を含む数を計算機で表現する（有限桁の2進数で表現する）と多くの場合、誤差（丸め誤差）を含むため、計算結果が上記のように誤差を含むことがあります。"
      ],
      "metadata": {
        "id": "EAqt5nJb_HN9"
      }
    },
    {
      "cell_type": "markdown",
      "source": [
        "###演習問題\n",
        "以下のプログラムを実行して、エラーメッセージが出ることを確認しましょう。"
      ],
      "metadata": {
        "id": "1lgo3DppoSiL"
      }
    },
    {
      "cell_type": "code",
      "source": [
        "5/0"
      ],
      "metadata": {
        "id": "XpljvNLBnwqb"
      },
      "execution_count": null,
      "outputs": []
    },
    {
      "cell_type": "code",
      "source": [
        "３＋６"
      ],
      "metadata": {
        "id": "yfYCWaB_4ypF"
      },
      "execution_count": null,
      "outputs": []
    },
    {
      "cell_type": "code",
      "source": [
        "4x8"
      ],
      "metadata": {
        "id": "Fx3FfHWh6bxD"
      },
      "execution_count": null,
      "outputs": []
    },
    {
      "cell_type": "markdown",
      "source": [
        "→メッセージが英語なのでチンプンカンプン→[DeepL](https://www.deepl.com/ja/translator)にお任せ！→さらに、[アプリ](https://www.deepl.com/ja/app/)をインストールしておくと、Ctrl-C Ctrl-Cで翻訳できて便利"
      ],
      "metadata": {
        "id": "bHB6D6iiyDmL"
      }
    },
    {
      "cell_type": "markdown",
      "source": [
        "#ライブラリーのインポート"
      ],
      "metadata": {
        "id": "itPN5TwKG-FY"
      }
    },
    {
      "cell_type": "code",
      "source": [
        "import numpy as np\n",
        "import pandas as pd\n",
        "import matplotlib.pylab as plt"
      ],
      "metadata": {
        "id": "QOmFRvEwHJfB"
      },
      "execution_count": 10,
      "outputs": []
    },
    {
      "cell_type": "markdown",
      "source": [
        "#ヒストグラム"
      ],
      "metadata": {
        "id": "w7nis6BUDrBj"
      }
    },
    {
      "cell_type": "code",
      "source": [
        "# 乱数のシードをセット\n",
        "np.random.seed(1)\n",
        "# 平均 50, 標準偏差 10 の正規乱数を100個生成してpandasの1次元配列xに入れる\n",
        "x = pd.Series(np.random.normal(50, 10, 100))\n",
        "print(x)\n",
        "# ヒストグラムを描画；ビンの数20\n",
        "plt.hist(x, bins=20, range=(0, 100))"
      ],
      "metadata": {
        "id": "WuavF-bKD7XC"
      },
      "execution_count": null,
      "outputs": []
    },
    {
      "cell_type": "markdown",
      "source": [
        "##演習問題\n",
        "\n",
        "\n",
        "1.   乱数のシードを変えてみよう。どうなりましたか？ 気づいたことをメモしておこう。皆さんがメモしたファイルは、**Googleドライブの [マイドライブ > Colab Notebooks] に自動保存**されています\n",
        "> メモ：ここをダブルクリックして記入\n",
        "\n",
        "2.   乱数の生成個数を多くしたり、少なくしたりしてみよう。どうなりましたか？気づいたことをメモしておこう。\n",
        "> メモ：\n",
        "\n",
        "\n"
      ],
      "metadata": {
        "id": "me6vpWBymPln"
      }
    },
    {
      "cell_type": "markdown",
      "source": [
        "#平均、中央値、最頻値、分散、標準偏差\n",
        "母分散，標本分散，不偏分散，標準偏差については、[ここ](https://manabitimes.jp/math/1035)や[ここ](https://biolab.sakura.ne.jp/variance.html)や[ここ](https://oku.edu.mie-u.ac.jp/~okumura/stat/basics.html)や[ここ](https://bellcurve.jp/statistics/blog/13645.html)を参照。要旨だけ記しておくと：\n",
        "\n",
        "\n",
        "*   母分散：全体の分布（母集団）の分散。未知数であることが多い。\n",
        "*   標本分散：標本（データ）の分散。$\\dfrac{1}{n}\\displaystyle\\sum_{i=1}^n(x_i-\\overline{x})^2$\n",
        "*   不偏標本分散（不偏分散）：標本分散を$\\frac{n}{n-1}$倍したもの。$u^2=\\dfrac{1}{n-1}\\displaystyle\\sum_{i=1}^n(x_i-\\overline{x})^2$\n",
        "（ランダムサンプリングでは） 不偏分散の期待値は母分散と一致する。\n",
        "*   標本標準偏差：標本分散の平方根。$\\sqrt{\\dfrac{1}{n}\\displaystyle\\sum_{i=1}^n(x_i-\\overline{x})^2}$\n",
        "*   不偏分散の平方根（これは母標準偏差に対する不偏推定量ではない）：$\\sqrt{\\dfrac{1}{n-1}\\displaystyle\\sum_{i=1}^n(x_i-\\overline{x})^2}$\n",
        "\n"
      ],
      "metadata": {
        "id": "3Ne2iSHTOVMn"
      }
    },
    {
      "cell_type": "markdown",
      "source": [
        "##和を表す記号\n",
        "$\\displaystyle\\sum_{i=1}^n x_i = x_1+x_2+\\cdots+x_n$\n",
        "\n",
        "和の記号としてシグマを使うのは、和を表す英語sumの頭文字であるSと対応するギリシャ文字がΣだからです。\n",
        "\n",
        "同様に、英語で積を表す単語がproductですから、その頭文字Pに対応するギリシャ文字Π（パイ）を用いて、積を表します。ちなみに、パイの小文字πは円周率を表しますが、これはギリシア語で周囲を表す「περίμετρος（= perimeter）」に由来しているそうです。"
      ],
      "metadata": {
        "id": "wLppLj78788F"
      }
    },
    {
      "cell_type": "code",
      "source": [
        "print(x.mean(), x.median()) # mean:平均, median:中央値\n",
        "print(x.var(), x.var(ddof=0)) # var():不偏分散, var(ddof=0):標本分散\n",
        "# pandasの標準設定では分散は不偏分散(ddof=1)。標本分散は(ddof=0)とする。\n",
        "# （参考）numpyの標準設定では分散は標本分散。\n",
        "print(x.std(), x.std(ddof=0)) # std():不偏分散の平方根, std(ddof=0):標本標準偏差\n",
        "\n",
        "x.describe() # 記述統計量をまとめて生成。いくつか説明しておくと、std:不偏分散の平方根, 50%:中央値"
      ],
      "metadata": {
        "id": "hkSWgDvC2kA3"
      },
      "execution_count": null,
      "outputs": []
    },
    {
      "cell_type": "code",
      "source": [
        "y = [1, 2, 2, 3, 3, 3, 4, 4, 4, 5, 6]\n",
        "pd.Series(y).mode() #最頻値を1次元配列で返す"
      ],
      "metadata": {
        "id": "JCTC7U88m87V"
      },
      "execution_count": null,
      "outputs": []
    },
    {
      "cell_type": "markdown",
      "source": [
        "##演習問題\n",
        "以下のプログラムの実行結果はどのようになると思いますか？想像してから実行してみましょう。\n",
        "> あなたの予想をここに書きましょう。\n",
        "\n",
        "\n",
        "\n"
      ],
      "metadata": {
        "id": "4E9qkB4OsmOz"
      }
    },
    {
      "cell_type": "code",
      "source": [
        "x.mode()"
      ],
      "metadata": {
        "id": "HxXY9kG6psV9"
      },
      "execution_count": null,
      "outputs": []
    },
    {
      "cell_type": "code",
      "source": [
        "x.round().mode()"
      ],
      "metadata": {
        "id": "c-qnsQiCqyBt"
      },
      "execution_count": null,
      "outputs": []
    },
    {
      "cell_type": "code",
      "source": [
        "plt.hist(x.round(), bins=100, range=(0, 100))"
      ],
      "metadata": {
        "id": "SxFJM73Wr0eE"
      },
      "execution_count": null,
      "outputs": []
    },
    {
      "cell_type": "markdown",
      "source": [
        "予想通りでしたか？\n",
        "どうして、このような結果になったか分かりますか？\n",
        "\n",
        "\n",
        "> 分かったこと、気づいたことをここにメモしておきましょう。\n",
        "\n"
      ],
      "metadata": {
        "id": "hIK2sAXts4uk"
      }
    },
    {
      "cell_type": "markdown",
      "source": [
        "#プログラムを読んだり書いたりするときのTips（コツや小技のこと）\n",
        "\n",
        "*  round()というメソッドが何かを知りたいときは、コード中のroundにマウス・オン（マウス・オーバー）する（マウスカーソルをそこに持っていってしばらくそこに保つ）と、説明が表示されます。→説明が英語なのでチンプンカンプン→[DeepL](https://www.deepl.com/ja/translator)にお任せ！→さらに、[アプリ](https://www.deepl.com/ja/app/)をインストールしておくと、Ctrl-C Ctrl-Cで翻訳できて便利。\n",
        "\n",
        "*  あるいは、「pandas round」でGoogle検索すると解説が見つかります。これはround()に限らずプログラム中で分からないことがあった場合に共通して使える方法です。\n",
        "\n",
        "*  他には、たとえば「Python 平均」で検索すると、平均を求めるプログラムが見つかる、という方法もプログラムを書くときに役立ちます。\n",
        "\n",
        "* AIによるプログラム自動生成（たとえば、[このサイト](https://aiprogrammer.hashlab.jp/)）も役立つかもしれません:-) たとえば、Pythonを選んで「配列中のデータのヒストグラムを表示する」とか・・・と、2022年11月には書いたのですが、2022年11月末に[ChatGPT](https://chat.openai.com/auth/login?next=/chat)が使えるようになったので、[ChatGPT等の生成AI](https://okana2ki.wordpress.com/llm-chatbot/#%E8%A8%80%E8%AA%9E%E7%94%9F%E6%88%90%E5%9E%8Bai-%E3%83%81%E3%83%A3%E3%83%83%E3%83%88%E3%83%9C%E3%83%83%E3%83%88-%E3%81%AE%E4%BE%8B)がお勧めです。\n",
        "\n",
        "* **ChatGPTに**例えば**「Pythonで平均を求めるプログラムを書いて」と頼む**と書いてくれます。**教わったプログラム中で分からないことがあれば、それについて質問すると答えてくれるので理解が深まります。**答を丸写しするだけになってしまうのが心配な人は、[Custom instructionsをAIチュータモードに設定](https://okana2ki.wordpress.com/llm-chatbot/#chatgpt-custom-instructions%E3%81%AE%E4%BD%BF%E3%81%84%E6%96%B9-ai%E3%83%81%E3%83%A5%E3%83%BC%E3%82%BF%E7%94%A8)して使ってみて下さい。自分で考えるように促してくれるはず。\n",
        "\n",
        "* プログラム実行時にエラーメッセージが出てどうしていいか分からないときは、その**プログラムとエラーメッセージをコピペしてChatGPTに尋ねる**と対処法を教えてくれます。\n",
        "\n",
        "* このノートブック中の（もちろんそれに限らず一般的に）**プログラムで分からないことがあればChatGPTに尋ねる**と教えてくれます。たとえば、「np.random.seed(1) このプログラムについて初心者でも分かるように詳しく教えて。」その解説中に分からないことがあれば、さらに質問を繰り返して下さい。**あなた専用の優秀な家庭教師**として、どんな初歩的なことを聞き続けても親切に教えてくれます。"
      ],
      "metadata": {
        "id": "jDHffItsQJU1"
      }
    }
  ]
}