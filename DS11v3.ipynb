{
  "nbformat": 4,
  "nbformat_minor": 0,
  "metadata": {
    "colab": {
      "provenance": [],
      "toc_visible": true,
      "include_colab_link": true
    },
    "kernelspec": {
      "name": "python3",
      "display_name": "Python 3"
    },
    "language_info": {
      "name": "python"
    }
  },
  "cells": [
    {
      "cell_type": "markdown",
      "metadata": {
        "id": "view-in-github",
        "colab_type": "text"
      },
      "source": [
        "<a href=\"https://colab.research.google.com/github/okana2ki/intro-to-DS/blob/main/DS11v3.ipynb\" target=\"_parent\"><img src=\"https://colab.research.google.com/assets/colab-badge.svg\" alt=\"Open In Colab\"/></a>"
      ]
    },
    {
      "cell_type": "markdown",
      "source": [
        "# ノートブックの保存／保存したものの再開\n",
        "\n",
        "## **保存のしかた**\n",
        "\n",
        "Colabで開いたら、まず、↑上部の**「ドライブにコピー」をクリック**して下さい。Googleドライブの [マイドライブ > Colab Notebooks] に保存され、その後加えた変更がそこに自動保存されるようになります。\n",
        "\n",
        "ヘッダーに表示されるはずの「ドライブにコピー」が表示されてない場合は、画面上部右端の「v」アイコンをクリックして、ヘッダーの表示／非表示を切り替えて下さい。\n",
        "\n",
        "スマホの場合は、左上の3本線を押して、「ファイル」-「ドライブにコピーを保存」のはず。\n",
        "\n",
        "## **再開のしかた**\n",
        "\n",
        "ヘッダー（上記参照）が表示されている状態で、左上の「ファイル」をクリック→「ノートブックを開く」をクリック→最近閲覧したノートブックの一覧が表示されるので、開きたいノートブック名をクリックするか、右端のいくつかのアイコンのうち目的に合ったものをクリック（または、左カラムの「Googleドライブ」をクリックするとドライブ中のノートブック一覧が表示されるのでそこから探す；一覧から探すときは、一覧上部の「↑」や「↓」をクリックすることでいろいろな条件で並べ替えできます）"
      ],
      "metadata": {
        "id": "5kfHHfpjNjcf"
      }
    },
    {
      "cell_type": "markdown",
      "source": [
        "# Gemini (Colab AI) の使い方\n",
        "\n",
        "* Googleアカウントでログインした状態で、**PCで**このコラボ・ノートブックを開くとAIが手伝ってくれます。\n",
        "\n",
        "次のようにAIに頼んでみよう。頼む手順：\n",
        "\n",
        "0. コードセルを新たに追加したい場合は、ノートブック画面上部の「+コード」をクリックする(現在カーソルがあるセルの下に追加される)か、または、セルの間あたりにカーソルをもってくると表示される「+コード」をクリックする(クリックした場所に追加される)。\n",
        "\n",
        "1. コードセルを作ったときの表示「コーディングを開始するか、AIで<u>生成</u>します。」中の**「<u>生成</u>」をクリック**すると、入力窓が現れるので、そこに以下の依頼を**コピー(Ctrl-C)・アンド・ペースト(Ctrl-V)**しよう←このショートカットキーはWindowsの場合（Ctrl-CはCtrlキーを押しながら同時にCキーを押すことを示す）；MacではCtrlの代わりにcommandキー）\n",
        "2. 入力窓への入力が済んだら、Enterキーを押すか、入力窓の左側の「生成」ボタンを押す。\n",
        "\n",
        "依頼の書き方（先週の小テストの例）：\n",
        "> (1, 2, 3) という3個のデータの（不偏分散ではなく）標本分散を求めて下さい。"
      ],
      "metadata": {
        "id": "nIVvOtuYsqsP"
      }
    },
    {
      "cell_type": "code",
      "source": [],
      "metadata": {
        "id": "K82fa1e0uQXt"
      },
      "execution_count": null,
      "outputs": []
    },
    {
      "cell_type": "markdown",
      "source": [
        "## 演習１\n",
        "**↑上のコードセルで依頼してみましょう【ここで質問しやすいように適宜机間巡視】**\n",
        "\n",
        "参考までに下のセルに依頼例（`# prompt: `の行）と回答例を載せておきます。\n",
        "\n",
        "下記の回答例は、`numpy`を使っているため、分散のデフォルトが標本分散なので特に標本分散であることを指定していないことに注意して下さい。`pandas`を使う場合はデフォルトが不偏分散であるため、標本分散は`x.var(ddof=0)`のように`ddof`を指定する必要があります。"
      ],
      "metadata": {
        "id": "AuJaoCSKuVLU"
      }
    },
    {
      "cell_type": "code",
      "source": [
        "# prompt: (1, 2, 3) という3個のデータの（不偏分散ではなく）標本分散を求めて下さい。\n",
        "\n",
        "import numpy as np\n",
        "\n",
        "data = np.array([1, 2, 3])\n",
        "variance = np.var(data)\n",
        "\n",
        "variance"
      ],
      "metadata": {
        "colab": {
          "base_uri": "https://localhost:8080/"
        },
        "id": "-3xt8U6ctuX9",
        "outputId": "d22295f0-17ba-43ee-ab14-7f3ac5f919d2"
      },
      "execution_count": null,
      "outputs": [
        {
          "output_type": "execute_result",
          "data": {
            "text/plain": [
              "0.6666666666666666"
            ]
          },
          "metadata": {},
          "execution_count": 1
        }
      ]
    },
    {
      "cell_type": "markdown",
      "source": [
        "# ライブラリーのインポート\n",
        "コラボノートを立ち上げたら、または、ランタイムに接続し直したら、下記のコードセルを実行する必要があります。「先週実行したから、今回は実行不要」ということはありません。"
      ],
      "metadata": {
        "id": "hkojI8P-xUd9"
      }
    },
    {
      "cell_type": "code",
      "source": [
        "import numpy as np\n",
        "import pandas as pd\n",
        "import matplotlib.pylab as plt"
      ],
      "metadata": {
        "id": "a6w0jFe4xYDw"
      },
      "execution_count": null,
      "outputs": []
    },
    {
      "cell_type": "markdown",
      "source": [
        "# 【先週の残り】"
      ],
      "metadata": {
        "id": "qCxrBvNyBlxG"
      }
    },
    {
      "cell_type": "markdown",
      "source": [
        "# 平均、中央値、最頻値；分散、標準偏差\n",
        "\n",
        "**平均、中央値（昇順に並べたとき中央にくる値；中央値は外れ値に対して頑健）、最頻値（最も出やすい値）は、代表値（１つの値でデータを代表させる）。分散と標準偏差は、ばらつきの指標。**\n",
        "\n",
        "母分散，標本分散，不偏分散，標準偏差については、[ここ](https://manabitimes.jp/math/1035)や[ここ](https://biolab.sakura.ne.jp/variance.html)を参照。要旨だけ記しておくと：\n",
        "\n",
        "\n",
        "*   母分散：全体の分布（母集団）の分散。未知数であることが多い。\n",
        "*   標本分散：標本（データ）の**分散（ばらつきの指標）**。「(平均からの偏差)の2乗」の平均。$\\dfrac{1}{n}\\displaystyle\\sum_{i=1}^n(x_i-\\overline{x})^2$\n",
        "*   不偏標本分散（不偏分散）：標本分散を$\\frac{n}{n-1}$倍したもの。$u^2=\\dfrac{1}{n-1}\\displaystyle\\sum_{i=1}^n(x_i-\\overline{x})^2$\n",
        "（ランダムサンプリングでは） 不偏分散の期待値は母分散と一致する。\n",
        "*   標本**標準偏差**：標本分散の平方根。$\\sqrt{\\dfrac{1}{n}\\displaystyle\\sum_{i=1}^n(x_i-\\overline{x})^2}$\n",
        "*   不偏分散の平方根（これは母標準偏差に対する不偏推定量ではない）：$\\sqrt{\\dfrac{1}{n-1}\\displaystyle\\sum_{i=1}^n(x_i-\\overline{x})^2}$\n"
      ],
      "metadata": {
        "id": "HZTK4bm2x7og"
      }
    },
    {
      "cell_type": "markdown",
      "source": [
        "## 和を表す記号\n",
        "\n",
        "$\\displaystyle\\sum_{i=1}^n x_i = x_1+x_2+\\cdots+x_n$\n",
        "\n",
        "和の記号としてシグマを使うのは、和を表す英語sumの頭文字であるSと対応するギリシャ文字がΣだからです。\n",
        "\n",
        "同様に、英語で積を表す単語がproductですから、その頭文字Pに対応するギリシャ文字Π（パイ）を用いて、積を表します。ちなみに、パイの小文字πは円周率を表しますが、これはギリシア語で周囲を表す「περίμετρος（= perimeter）」に由来しているそうです。"
      ],
      "metadata": {
        "id": "WR31gVAayUD7"
      }
    },
    {
      "cell_type": "code",
      "source": [
        "np.random.seed(1)\n",
        "# 平均 50, 標準偏差 10 の正規乱数を1000個生成してpandasの1次元配列xに入れる\n",
        "x = pd.Series(np.random.normal(50, 10, 1000))\n",
        "\n",
        "print(x.mean(), x.median())  # mean:平均, median:中央値\n",
        "print(x.var(), x.var(ddof=0))  # var():不偏分散, var(ddof=0):標本分散\n",
        "# pandasの標準設定では分散は不偏分散(ddof=1)。標本分散は(ddof=0)とする。\n",
        "# （参考）numpyの標準設定では分散は標本分散。\n",
        "print(x.std(), x.std(ddof=0))  # std():不偏分散の平方根, std(ddof=0):標本標準偏差\n",
        "\n",
        "x.describe()  # 記述統計量をまとめて生成。いくつか説明しておくと、std:不偏分散の平方根, 50%:中央値"
      ],
      "metadata": {
        "id": "m-XZu2SaynP2"
      },
      "execution_count": null,
      "outputs": []
    },
    {
      "cell_type": "code",
      "source": [
        "y = [1, 2, 2, 3, 3, 3, 4, 4, 4, 5, 6]\n",
        "pd.Series(y).mode()  # 最頻値を1次元配列で返す"
      ],
      "metadata": {
        "id": "eSRHmbVlyvfE"
      },
      "execution_count": null,
      "outputs": []
    },
    {
      "cell_type": "markdown",
      "source": [
        "先週のノートブックには「演習問題３」が掲載されていますが、今週は時間の関係で省略します。"
      ],
      "metadata": {
        "id": "9hNymHcK1Ca0"
      }
    },
    {
      "cell_type": "markdown",
      "source": [
        "#相関係数（と散布図）\n",
        "$相関係数 = \\dfrac{xとyの共分散}{xの標準偏差 \\times yの標準偏差}$\n",
        "\n",
        "$相関係数 = \\dfrac{\\dfrac{1}{n}\\displaystyle\\sum_{i=1}^n(x_i-\\overline{x})(y_i-\\overline{y})}{\\sqrt{\\dfrac{1}{n}\\displaystyle\\sum_{i=1}^n(x_i-\\overline{x})^2}\\sqrt{\\dfrac{1}{n}\\displaystyle\\sum_{i=1}^n(y_i-\\overline{y})^2}}$"
      ],
      "metadata": {
        "id": "x2uWiXrvQXny"
      }
    },
    {
      "cell_type": "code",
      "source": [
        "import pandas as pd\n",
        "import numpy as np\n",
        "import matplotlib.pyplot as plt\n",
        "\n",
        "x = pd.Series(np.random.uniform(0, 5, 10))  # 0以上5未満の一様乱数を10個\n",
        "y = pd.Series(np.random.uniform(0, 5, 10))\n",
        "plt.xlim(0,5)  # 表示範囲\n",
        "plt.ylim(0,5)\n",
        "plt.scatter(x,y)  # 散布図\n",
        "plt.show()\n",
        "res = x.corr(y)  # 相関係数\n",
        "print(res)"
      ],
      "metadata": {
        "id": "nMh5ZDo7a7Ml"
      },
      "execution_count": null,
      "outputs": []
    },
    {
      "cell_type": "markdown",
      "source": [
        "## 演習２\n",
        "1.   上のプログラムを何回か実行して、データの分布と相関係数の関係を体感しよう。\n",
        "2.   相関が強い（１かー１に近い）ケースの散布図と相関係数を記録して残したいと思ったら、どうすればよいと思いますか？　ヒント：**体力勝負でひたすら何回も試してもいいのですが、そのためのプログラムを書くと楽ちん**ですね。自分でプログラムが書ける人はぜひ書いてみて下さい。自分では書けない人も生成AIに相談すると簡単に書けますよ。"
      ],
      "metadata": {
        "id": "FG31QrQgjyag"
      }
    },
    {
      "cell_type": "code",
      "source": [],
      "metadata": {
        "id": "UaHdm4Wx3oXg"
      },
      "execution_count": null,
      "outputs": []
    },
    {
      "cell_type": "markdown",
      "source": [
        "**↑上のコードセルでAIに依頼してみて下さい。**\n",
        "\n",
        "参考までに、下記は、AIへの依頼例（`# prompt: `の行）と回答例です。繰り返しが100回だけなので、強い相関が出現しない場合もあります。その場合は、何回か実行してみて下さい。\n",
        "\n",
        "**保存されたファイル（強い相関の記録）は、一番左のカラムの「ファイル」アイコン（フォルダの形のアイコン）をクリックすると表示**されます。表示されたファイル名にマウスオンする（マウスカーソルをファイル名の上に持って来る）と、右側にメニューアイコン（縦に点が3つ並んだアイコン）が現れるので、それをクリックするとダウンロードできます。**【ここで質問しやすいように適宜机間巡視】**"
      ],
      "metadata": {
        "id": "wBctUXvK5kMw"
      }
    },
    {
      "cell_type": "code",
      "source": [
        "# prompt: 相関が強い（１かー１に近い）ケースの散布図と相関係数を記録して残して下さい。\n",
        "\n",
        "import numpy as np\n",
        "import pandas as pd\n",
        "import matplotlib.pylab as plt\n",
        "import matplotlib.pyplot as plt\n",
        "\n",
        "# 相関係数の絶対値が閾値以上のものを記録するためのリスト\n",
        "strong_correlations = []\n",
        "\n",
        "# 繰り返し回数\n",
        "num_iterations = 100\n",
        "\n",
        "for _ in range(num_iterations):\n",
        "    x = pd.Series(np.random.uniform(0, 5, 10))\n",
        "    y = pd.Series(np.random.uniform(0, 5, 10))\n",
        "    correlation = x.corr(y)\n",
        "\n",
        "    # 相関係数の絶対値が0.8以上の場合\n",
        "    if abs(correlation) >= 0.8:\n",
        "        # 散布図をファイルに保存\n",
        "        plt.figure()  # 新しい図を作成\n",
        "        plt.xlim(0, 5)\n",
        "        plt.ylim(0, 5)\n",
        "        plt.scatter(x, y)\n",
        "        plt.title(f\"Correlation: {correlation:.2f}\")\n",
        "        plt.savefig(f\"strong_correlation_{_}.png\")  # ファイル名に繰り返し回数を付与\n",
        "        plt.close()  # メモリ解放\n",
        "\n",
        "        strong_correlations.append((correlation, f\"strong_correlation_{_}.png\"))\n",
        "\n",
        "# 結果の出力\n",
        "print(\"相関が強いケース（相関係数の絶対値が0.8以上）\")\n",
        "for correlation, filename in strong_correlations:\n",
        "    print(f\"相関係数: {correlation:.2f}, 散布図ファイル名: {filename}\")"
      ],
      "metadata": {
        "id": "77lghWTD3XGZ"
      },
      "execution_count": null,
      "outputs": []
    },
    {
      "cell_type": "markdown",
      "source": [
        "演習２で作成したその他のプログラム例"
      ],
      "metadata": {
        "id": "vAgc8l_DWXov"
      }
    },
    {
      "cell_type": "markdown",
      "source": [
        "その１：基本のプログラム"
      ],
      "metadata": {
        "id": "Y9wnvBJaKTU_"
      }
    },
    {
      "cell_type": "code",
      "source": [
        "import pandas as pd\n",
        "import numpy as np\n",
        "import matplotlib.pyplot as plt\n",
        "\n",
        "while True:  # インデントされた範囲を無限ループ\n",
        "  x = pd.Series(np.random.uniform(0, 5, 10))  # 0以上5未満の一様乱数を10個\n",
        "  y = pd.Series(np.random.uniform(0, 5, 10))\n",
        "  res = x.corr(y)  # 相関係数\n",
        "  if abs(res) > 0.9:  # 相関係数の絶対値が0.9を超えたらループから出る\n",
        "    break\n",
        "print(res)  # 以下はループから出た時の処理\n",
        "plt.xlim(0,5)  # 表示範囲\n",
        "plt.ylim(0,5)\n",
        "plt.scatter(x,y) # 散布図\n",
        "plt.show()"
      ],
      "metadata": {
        "id": "B6zSrZihJfxw"
      },
      "execution_count": null,
      "outputs": []
    },
    {
      "cell_type": "markdown",
      "source": [
        "その２：何回目に見つかったかも表示"
      ],
      "metadata": {
        "id": "5zqOJV9FKdrn"
      }
    },
    {
      "cell_type": "code",
      "source": [
        "import pandas as pd\n",
        "import numpy as np\n",
        "import matplotlib.pyplot as plt\n",
        "\n",
        "i = 0  # 何回目に見つかったかを数える変数\n",
        "while True:  # インデントされた範囲を無限ループ\n",
        "  i += 1  # iを1増やす\n",
        "  x = pd.Series(np.random.uniform(0, 5, 10))  # 0以上5未満の一様乱数を10個\n",
        "  y = pd.Series(np.random.uniform(0, 5, 10))\n",
        "  res = x.corr(y)  # 相関係数\n",
        "  if abs(res) > 0.9:  # 相関係数の絶対値が0.9を超えたらループから出る\n",
        "    break\n",
        "print(i, res)  # 以下はループから出た時の処理\n",
        "plt.xlim(0,5)  # 表示範囲\n",
        "plt.ylim(0,5)\n",
        "plt.scatter(x,y)  # 散布図\n",
        "plt.show()"
      ],
      "metadata": {
        "id": "zkUcag19SJCz"
      },
      "execution_count": null,
      "outputs": []
    },
    {
      "cell_type": "markdown",
      "source": [
        "その３：おまけ：相関係数の度数分布を調べる"
      ],
      "metadata": {
        "id": "97ul9aa8KsBf"
      }
    },
    {
      "cell_type": "code",
      "source": [
        "import pandas as pd\n",
        "import numpy as np\n",
        "import matplotlib.pyplot as plt\n",
        "\n",
        "distri = []  # 空のリストを用意\n",
        "for n in range(5000):  # 5000回ループ\n",
        "  x = pd.Series(np.random.uniform(0, 5, 10))  # 0以上5未満の一様乱数を10個\n",
        "  y = pd.Series(np.random.uniform(0, 5, 10))\n",
        "  res = x.corr(y)  # 相関係数\n",
        "  distri.append(res)  # リストに相関係数を追加\n",
        "\n",
        "plt.hist(distri, bins=400, range=(-1, 1))  # ループが完了したらヒストグラムを表示\n",
        "#plt.xticks(np.arange(-1.0, 1.1, step=0.1))\n",
        "plt.xticks([-1,-0.9, -0.5, 0, 0.5, 0.9, 1])  # x軸の刻みを設定\n",
        "plt.grid()  # グリッドを表示\n",
        "plt.show()"
      ],
      "metadata": {
        "id": "CnYVs_o7J5xo"
      },
      "execution_count": null,
      "outputs": []
    },
    {
      "cell_type": "markdown",
      "source": [
        "\n",
        "\n",
        "---\n",
        "\n"
      ],
      "metadata": {
        "id": "e9FKtYUdRgK0"
      }
    },
    {
      "cell_type": "markdown",
      "source": [
        "# 【本日の内容】"
      ],
      "metadata": {
        "id": "elviT3PjQNJp"
      }
    },
    {
      "cell_type": "markdown",
      "source": [
        "ここで、クイズを出してくれるようインストラクションを書いたコードセルを挿入しておきましょう。**クイズがじゃまだったら**、↓下のコードセルを消すか、下方に移動して下さい。下方に移動するとそこより下のAIへの依頼のときだけ、このインストラクションが参照されます。\n",
        "\n",
        "セルの消去は、セルをクリックして右上に現れるアイコンの中から「ゴミ箱」をクリック。下方への移動は、現れたアイコンの中から「↓」をクリック。"
      ],
      "metadata": {
        "id": "GnHMKknYCQMj"
      }
    },
    {
      "cell_type": "code",
      "source": [
        "# system instruction:\n",
        "# ユーザはプログラミング初心者です。\n",
        "# あなたの役割は、ユーザのコーディング依頼に応じる際、ユーザがプログラミングを習得できるようにすることです。\n",
        "# ユーザのコーディング依頼に対してコードを生成する場合、依頼されたコードの実行後に、\n",
        "# 「Pythonコードの書き方に関してユーザは何が分かってないかを自覚させるquiz」を日本語で出題するコードを生成して下さい。\n",
        "# quizの解答に応じてユーザに日本語でフィードバックするコードも追加して下さい。"
      ],
      "metadata": {
        "id": "FnRVxr3V_pnB"
      },
      "execution_count": null,
      "outputs": []
    },
    {
      "cell_type": "markdown",
      "source": [
        "AIに依頼すると、グラフ中に日本語表示するプログラムを作成することがあるため、**グラフ中に日本語が表示できるように**、あらかじめ、下記の2つのコードセルを実行しておきましょう。"
      ],
      "metadata": {
        "id": "dY249zTgB_KF"
      }
    },
    {
      "source": [
        "!pip install japanize_matplotlib"
      ],
      "cell_type": "code",
      "metadata": {
        "id": "9wxCyHreB6ET"
      },
      "execution_count": null,
      "outputs": []
    },
    {
      "cell_type": "code",
      "source": [
        "import japanize_matplotlib"
      ],
      "metadata": {
        "id": "_wK3TZNuBdFC"
      },
      "execution_count": null,
      "outputs": []
    },
    {
      "cell_type": "markdown",
      "source": [
        "#棒グラフ"
      ],
      "metadata": {
        "id": "lZnLkB7r_txp"
      }
    },
    {
      "cell_type": "code",
      "source": [],
      "metadata": {
        "id": "WP5DTkRnDVDl"
      },
      "execution_count": null,
      "outputs": []
    },
    {
      "cell_type": "markdown",
      "source": [
        "## 演習３\n",
        "\n",
        "**↑上のコードセルで、AIに棒グラフのサンプル作成を依頼してみて下さい。【質問しやすいように適宜机間巡視】**\n",
        "\n",
        "参考までに、下記は、AIへの依頼例（`# prompt: `の行）と回答例（クイズ付き）です。"
      ],
      "metadata": {
        "id": "tvbpLUXE-7vD"
      }
    },
    {
      "cell_type": "code",
      "source": [
        "# prompt: 棒グラフのサンプルを作って。\n",
        "\n",
        "import matplotlib.pyplot as plt\n",
        "\n",
        "# データの準備\n",
        "categories = ['A', 'B', 'C', 'D', 'E']\n",
        "values = [25, 40, 15, 30, 20]\n",
        "\n",
        "# 棒グラフの作成\n",
        "plt.bar(categories, values)\n",
        "\n",
        "# グラフのタイトルと軸ラベルの設定\n",
        "plt.title('棒グラフのサンプル')\n",
        "plt.xlabel('カテゴリー')\n",
        "plt.ylabel('値')\n",
        "\n",
        "# グラフの表示\n",
        "plt.show()\n",
        "\n",
        "# --- ここからクイズ ---\n",
        "print(\"\\nPythonコードの書き方に関するクイズです。\")\n",
        "\n",
        "question1 = \"このコードで、棒グラフのx軸のラベルは何を表していますか？\"\n",
        "options1 = {\n",
        "    \"a\": \"棒グラフの高さ\",\n",
        "    \"b\": \"棒グラフのカテゴリー\",\n",
        "    \"c\": \"棒グラフの色\",\n",
        "    \"d\": \"棒グラフの幅\",\n",
        "}\n",
        "answer1 = \"b\"\n",
        "\n",
        "print(question1)\n",
        "for option, description in options1.items():\n",
        "  print(f\"{option}: {description}\")\n",
        "\n",
        "user_answer1 = input(\"あなたの答え（a, b, c, d）: \")\n",
        "\n",
        "if user_answer1.lower() == answer1:\n",
        "    print(\"正解です！ x軸ラベルは、棒グラフのカテゴリーを表しています。\")\n",
        "else:\n",
        "    print(f\"不正解です。正解は{answer1}です。 x軸ラベルは、棒グラフのカテゴリーを表しています。plt.xlabel() 関数を使って、x軸のラベルを設定しています。\")\n",
        "\n",
        "\n",
        "question2 = \"棒グラフのデータ（値）はどこで定義されていますか？\"\n",
        "options2 = {\n",
        "    \"a\": \"plt.title() 関数\",\n",
        "    \"b\": \"plt.xlabel() 関数\",\n",
        "    \"c\": \"values 変数\",\n",
        "    \"d\": \"categories 変数\",\n",
        "}\n",
        "answer2 = \"c\"\n",
        "\n",
        "print(question2)\n",
        "for option, description in options2.items():\n",
        "  print(f\"{option}: {description}\")\n",
        "\n",
        "user_answer2 = input(\"あなたの答え（a, b, c, d）: \")\n",
        "\n",
        "if user_answer2.lower() == answer2:\n",
        "    print(\"正解です！ values変数に棒グラフのデータがリストとして格納されています。\")\n",
        "else:\n",
        "    print(f\"不正解です。正解は{answer2}です。values変数に棒グラフのデータがリストとして格納されています。\")\n",
        "\n",
        "print(\"お疲れ様でした！\")"
      ],
      "metadata": {
        "id": "QtMXdVeS-4L8"
      },
      "execution_count": null,
      "outputs": []
    },
    {
      "cell_type": "markdown",
      "source": [
        "クイズ無しの例も載せておきます。"
      ],
      "metadata": {
        "id": "Bz2XxNxah7QM"
      }
    },
    {
      "cell_type": "code",
      "source": [
        "# prompt: 棒グラフを描くサンプルプログラムを作って。\n",
        "\n",
        "import matplotlib.pyplot as plt\n",
        "\n",
        "# データ\n",
        "label = [\"A\", \"B\", \"C\", \"D\", \"E\"]\n",
        "height = [20, 35, 15, 28, 12]\n",
        "\n",
        "# 棒グラフを作成\n",
        "plt.bar(label, height)\n",
        "\n",
        "# タイトルとラベルを設定\n",
        "plt.title(\"Bar Graph Example\")\n",
        "plt.xlabel(\"Category\")\n",
        "plt.ylabel(\"Value\")\n",
        "\n",
        "# グラフを表示\n",
        "plt.show()"
      ],
      "metadata": {
        "id": "Leznf4VhYgK9"
      },
      "execution_count": null,
      "outputs": []
    },
    {
      "cell_type": "markdown",
      "source": [
        "#円グラフ"
      ],
      "metadata": {
        "id": "vbnhdYxOHOgF"
      }
    },
    {
      "cell_type": "markdown",
      "source": [
        "## 演習４\n",
        "**円グラフのサンプルもAIに頼んでみましょう↓**"
      ],
      "metadata": {
        "id": "t2HBWPmrD54C"
      }
    },
    {
      "cell_type": "code",
      "source": [],
      "metadata": {
        "id": "-XbZweVPD3Wb"
      },
      "execution_count": null,
      "outputs": []
    },
    {
      "cell_type": "markdown",
      "source": [
        "以下は、頼んでみた例です。"
      ],
      "metadata": {
        "id": "nF6prZ0sECRY"
      }
    },
    {
      "cell_type": "code",
      "source": [
        "# prompt: 円グラフの描き方を示すサンプルプログラムを作って。\n",
        "\n",
        "# 円グラフ\n",
        "import matplotlib.pyplot as plt\n",
        "\n",
        "label = ['a', 'b', 'c', 'd', 'e']\n",
        "rate = [48.5, 73.2, 13.0, 34.5, 8.5]\n",
        "\n",
        "plt.pie(rate, labels=label, autopct=\"%1.1f%%\", startangle=90)\n",
        "plt.show()"
      ],
      "metadata": {
        "id": "TFW_-CjNXC0T"
      },
      "execution_count": null,
      "outputs": []
    },
    {
      "cell_type": "code",
      "source": [
        "# prompt: 時計回りにできますか？\n",
        "\n",
        "# 円グラフ\n",
        "\n",
        "label = ['a', 'b', 'c', 'd', 'e']\n",
        "rate = [48.5, 73.2, 13.0, 34.5, 8.5]\n",
        "\n",
        "plt.pie(rate, labels=label, autopct=\"%1.1f%%\", startangle=90, counterclock=False)  # counterclockをFalseに\n",
        "plt.show()"
      ],
      "metadata": {
        "id": "05ACqNQFabVH"
      },
      "execution_count": null,
      "outputs": []
    },
    {
      "cell_type": "markdown",
      "source": [
        "色を変えたりとか、いろいろ試してみて下さい。\n",
        "\n",
        "円グラフのデフォルト（何も指定しないときの振る舞い）は下のように3時の位置から始めて半時計回りです。"
      ],
      "metadata": {
        "id": "vWsjS1Tcf3Jk"
      }
    },
    {
      "cell_type": "code",
      "source": [
        "import matplotlib.pyplot as plt\n",
        "\n",
        "x = [10, 20, 20, 40]\n",
        "label = ['apple', 'banana', 'cherry', 'daikon']\n",
        "plt.pie(x, labels=label)"
      ],
      "metadata": {
        "id": "ULBtM-1pHSSU"
      },
      "execution_count": null,
      "outputs": []
    },
    {
      "cell_type": "markdown",
      "source": [
        "AIへの質問（たとえば、`autopct=\"%1.1f%%\"`とは何か）は、画面右上の「Gemini」アイコンをクリックして尋ねて下さい。プログラムの説明して欲しい部分をコピペして入力欄に貼り付けるだけでも教えてくれます。\n",
        "\n",
        "なお、コードセル中のAIへの指示で、コード作成を頼まずに質問をすると、コメント行の形式で（つまり、プログラムの形式で）答えてくれることが多いはず。"
      ],
      "metadata": {
        "id": "4dxU86WafG36"
      }
    },
    {
      "cell_type": "markdown",
      "source": [
        "# 散布図（対数軸の指定のしかた）"
      ],
      "metadata": {
        "id": "wO2OdEFpKWwo"
      }
    },
    {
      "cell_type": "code",
      "source": [
        "import matplotlib.pyplot as plt\n",
        "\n",
        "x = [32, 8, 300, 168, 1210]\n",
        "y = [15, 22, 3, 43, 10]\n",
        "plt.scatter(x, y)\n",
        "plt.grid()\n",
        "plt.show()\n",
        "plt.xscale('log')  # x軸を対数軸に\n",
        "plt.scatter(x, y)\n",
        "plt.grid()\n",
        "plt.show()"
      ],
      "metadata": {
        "id": "cSNiR7ZKKagf"
      },
      "execution_count": null,
      "outputs": []
    },
    {
      "cell_type": "markdown",
      "source": [
        "# 折れ線グラフ（小技つき）"
      ],
      "metadata": {
        "id": "DuEkvqxDL7IE"
      }
    },
    {
      "cell_type": "code",
      "source": [
        "import matplotlib.pyplot as plt\n",
        "\n",
        "x = [1, 2, 3, 4, 5]\n",
        "y = [5, 20, 30, 40, 10]\n",
        "plt.plot(x, y)\n",
        "plt.show()\n",
        "plt.plot(x, y, 'o--r')  # データ点にoを付けて、破線--にして、赤色rに）"
      ],
      "metadata": {
        "id": "G78gKGK7MC0C"
      },
      "execution_count": null,
      "outputs": []
    },
    {
      "cell_type": "markdown",
      "source": [
        "#ヒートマップ"
      ],
      "metadata": {
        "id": "GCOv1JvgSI_x"
      }
    },
    {
      "cell_type": "code",
      "source": [
        "import numpy as np\n",
        "import seaborn as sns\n",
        "import pandas as pd\n",
        "import matplotlib.pyplot as plt\n",
        "\n",
        "data = pd.DataFrame(np.random.uniform(size = (4, 4)),\n",
        "  index=['r0', 'r1', 'r2', 'r3'], columns=['c0', 'c1', 'c2', 'c3'])\n",
        "  # 一様乱数を4x4個生成、DataFrameに格納し、行と列に名前をつける\n",
        "print(data)\n",
        "sns.heatmap(data)\n",
        "plt.show()"
      ],
      "metadata": {
        "id": "SITQGa01SLxx"
      },
      "execution_count": null,
      "outputs": []
    },
    {
      "cell_type": "markdown",
      "source": [
        "#箱ひげ図"
      ],
      "metadata": {
        "id": "QTaKVaTQp40V"
      }
    },
    {
      "cell_type": "code",
      "source": [
        "import matplotlib.pyplot as plt\n",
        "\n",
        "list1 = [1,2,3,4,5,6,7,8,9]\n",
        "list2 = [1,2,3,4,5,6,7,8,15]\n",
        "list3 = [1,3,5,7,9,11,13,15,17]\n",
        "\n",
        "plt.boxplot([list1, list2, list3], labels = ['list1', 'list2', 'list3'])\n",
        "plt.grid()  # グリッドを表示；下記の演習問題で数値を確認しやすいように\n",
        "plt.show()"
      ],
      "metadata": {
        "id": "INZKQQAbp8Od"
      },
      "execution_count": null,
      "outputs": []
    },
    {
      "cell_type": "markdown",
      "source": [
        "## plt.boxplot()の外れ値の判断基準、ひげの上限・下限の決め方\n",
        "\n",
        "第1四分位数 (Q1)、第3四分位数 (Q3) 、IQR (四分位範囲) 、とすると、\n",
        "\n",
        "`IQR = Q3 - Q1`\n",
        "\n",
        "- `外れ値の判断基準：Q3 + 1.5 x IQR より大きいか、Q1 - 1.5 x IQRより小さい `\n",
        "\n",
        "- `ひげの上限 = min(Q3 + 1.5 * IQR, 外れ値を除く最大値)`\n",
        "\n",
        "- `ひげの下限 = max(Q1 - 1.5 * IQR, 外れ値を除く最小値)`\n",
        "\n",
        "より詳しくは、Geminiに尋ねて下さい。"
      ],
      "metadata": {
        "id": "VlsD-EOBqo8K"
      }
    },
    {
      "cell_type": "markdown",
      "source": [
        "## 演習５\n",
        "以下のプログラムを実行して四分位数（しぶんいすう）を表示させ、箱ひげ図との対応を確認しておこう。"
      ],
      "metadata": {
        "id": "Z96qi-t9-2rT"
      }
    },
    {
      "cell_type": "code",
      "source": [
        "import pandas as pd\n",
        "\n",
        "list1 = [1,2,3,4,5,6,7,8,9]\n",
        "list2 = [1,2,3,4,5,6,7,8,15]\n",
        "list3 = [1,3,5,7,9,11,13,15,17]\n",
        "\n",
        "s1 = pd.Series(list1) # pandasのSeriesに変換\n",
        "s2 = pd.Series(list2)\n",
        "s3 = pd.Series(list3)\n",
        "\n",
        "print(s1.describe()) # 四分位数を含む記述統計量（要約統計量）を表示\n",
        "print(s2.describe())\n",
        "print(s3.describe())"
      ],
      "metadata": {
        "id": "MNFx1lXKqjtc"
      },
      "execution_count": null,
      "outputs": []
    },
    {
      "cell_type": "markdown",
      "source": [
        "#ヒストグラム"
      ],
      "metadata": {
        "id": "hxAbpu3jETzP"
      }
    },
    {
      "cell_type": "code",
      "source": [
        "import numpy as np\n",
        "import pandas as pd\n",
        "import matplotlib.pylab as plt\n",
        "\n",
        "x = pd.Series(np.random.normal(50, 10, 20)) # 正規乱数を生成、データ数＝20\n",
        "plt.hist(x, bins=20, range=(0, 100)) # ビン数をいろいろ変えてみよう\n",
        "plt.show()\n",
        "\n",
        "x = pd.Series(np.random.normal(50, 10, 10000)) # データ数＝10000\n",
        "plt.hist(x, bins=20, range=(0, 100)) # ビン数をいろいろ変えてみよう\n",
        "plt.show()\n",
        "\n",
        "x = pd.Series(np.random.normal(50, 10, 1000000)) # データ数＝1000000\n",
        "plt.hist(x, bins=20, range=(0, 100)) # ビン数をいろいろ変えてみよう\n",
        "plt.show()"
      ],
      "metadata": {
        "id": "nIGyxyMxEZru"
      },
      "execution_count": null,
      "outputs": []
    },
    {
      "cell_type": "markdown",
      "source": [
        "## 演習６\n",
        "データ数20個、10000個、1000000個のそれぞれについて、適切なビン数は、どれくらいだろうか？教科書の160, 161ページを参考に、いろいろなビン数を試してみよう。\n",
        "\n",
        "適切なビン数は、何を伝えたいかにより変わることに注意：正規分布に従って乱数が生成されていることを伝えたいのか、乱数なので滑らかな分布でなく細かくみると凸凹していることを伝えたいのか、など。"
      ],
      "metadata": {
        "id": "nwmlBsmUIEcj"
      }
    }
  ]
}