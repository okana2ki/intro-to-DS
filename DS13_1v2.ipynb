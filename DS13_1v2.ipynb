{
  "nbformat": 4,
  "nbformat_minor": 0,
  "metadata": {
    "colab": {
      "provenance": [],
      "include_colab_link": true
    },
    "kernelspec": {
      "name": "python3",
      "display_name": "Python 3"
    },
    "language_info": {
      "name": "python"
    }
  },
  "cells": [
    {
      "cell_type": "markdown",
      "metadata": {
        "id": "view-in-github",
        "colab_type": "text"
      },
      "source": [
        "<a href=\"https://colab.research.google.com/github/okana2ki/intro-to-DS/blob/main/DS13_1v2.ipynb\" target=\"_parent\"><img src=\"https://colab.research.google.com/assets/colab-badge.svg\" alt=\"Open In Colab\"/></a>"
      ]
    },
    {
      "cell_type": "markdown",
      "source": [
        "#ファイルの読み込み\n",
        "CSVファイルをpandasのDataFrame形式で読み込む。\n",
        "\n"
      ],
      "metadata": {
        "id": "EmyXqMWgaWwr"
      }
    },
    {
      "cell_type": "markdown",
      "source": [
        "ヘッダー行を指定する必要がある。SSDSE-B-2023.csvの場合は、最初の2行がヘッダー（データは3行目から始まる）なので、\n",
        "```\n",
        "header=[0,1]\n",
        "```\n",
        "のように行番号のリストで指定する。"
      ],
      "metadata": {
        "id": "4YKQXcU5Vpdu"
      }
    },
    {
      "cell_type": "markdown",
      "source": [
        "日本語を含むファイルの場合は、encoding（文字コード）を適切に指定する必要がある。encodingを指定しないと、デフォルトのutf_8と見なされるが、それでエラーが出る場合は、shift_jisを指定する。\n",
        "```\n",
        "encoding=\"utf_8\"  # こちらがデフォルト（指定しないとこちらだと解釈される）\n",
        "encoding=\"shift_jis\"\n",
        "```\n",
        "\n"
      ],
      "metadata": {
        "id": "Y5dO8bgEb1JA"
      }
    },
    {
      "cell_type": "markdown",
      "source": [
        "##Webサイト上のファイルの読み込み"
      ],
      "metadata": {
        "id": "uekJz2h0ak7I"
      }
    },
    {
      "cell_type": "code",
      "source": [
        "import pandas as pd\n",
        "\n",
        "url = \"https://www.nstac.go.jp/sys/files/SSDSE-B-2023.csv\"\n",
        "df = pd.read_csv(url, header=[0,1], encoding=\"shift_jis\")\n",
        "print(df)"
      ],
      "metadata": {
        "id": "WbSXto6wbPsh"
      },
      "execution_count": null,
      "outputs": []
    },
    {
      "cell_type": "markdown",
      "source": [
        "##[Google Colabにアップロードしたファイルの読み込み](https://blog.kikagaku.co.jp/google-colab-file)\n",
        "\n",
        "1.   Colabの左サイドバーの「ファイル」アイコン（フォルダの形）をクリック\n",
        "2.   表示されたサイドバーに、アップロードするファイルをドラッグ&ドロップ（ここに存在するファイルはセッション終了時に削除され、保存されないので注意）\n",
        "3.   アップロードされたファイルにマウスオーバー（マウスオン）する\n",
        "4.   表示されたメニューアイコン「︙」をクリック\n",
        "5.   プルダウンメニューから「パスをコピー」を選択\n",
        "6.   コピーされたパス(/content/SSDSE-B-2023.csv)をプログラム中の当該箇所に貼り付け"
      ],
      "metadata": {
        "id": "qCxrBvNyBlxG"
      }
    },
    {
      "cell_type": "code",
      "source": [
        "き"
      ],
      "metadata": {
        "id": "-i-Qzz5ltpMM"
      },
      "execution_count": null,
      "outputs": []
    },
    {
      "cell_type": "code",
      "source": [
        "import pandas as pd\n",
        "\n",
        "file_name = \"/content/SSDSE-B-2023.csv\"\n",
        "df = pd.read_csv(file_name, header=[0,1], encoding=\"shift_jis\")\n",
        "print(df)"
      ],
      "metadata": {
        "id": "bnX3eoZFyeZm"
      },
      "execution_count": null,
      "outputs": []
    },
    {
      "cell_type": "markdown",
      "source": [
        "## Google Drive中のファイルの読み込み\n",
        "\n",
        "1. Colabの左サイドバーの「ファイル」アイコン（フォルダの形）をクリック\n",
        "2. 表示された左サイドバーの上方の「ドライブをマウント」アイコン（黒いフォルダ上に白いGoogle Driveのマーク）をクリック\n",
        "3. 「Googleドライブをマウントするにはこのセルを実行して下さい」と表示されるので、その表示とともに現れた2行のセルを実行（「セルを実行」アイコン（セルの左上の再生ボタンの形）をクリック）\n",
        "4. マウントを許可するか尋ねられるので、アクセスをリクエストし、下方の「許可」ボタンをクリック\n",
        "5. マイドライブ下に、たとえばColab_filesというフォルダがあり、その下にSSDSE-B-2023.csvが置いてあるとすると、下記のプログラムのようにアクセスできる。このファイルへのパスは、左サイドバーのMyDriveをクリックしてフォルダを展開して現れたファイルにマウスオンし、上記と同様、プルダウンメニューから「パスをコピー」をクリックするとコピーできる。\n"
      ],
      "metadata": {
        "id": "TJbF3xXnjtAt"
      }
    },
    {
      "cell_type": "markdown",
      "source": [
        "Googleドライブをマウントするために実行するセル↓"
      ],
      "metadata": {
        "id": "1FeqW-ZCtUJZ"
      }
    },
    {
      "cell_type": "code",
      "source": [
        "from google.colab import drive\n",
        "drive.mount('/content/drive')"
      ],
      "metadata": {
        "id": "pHmEcFufpmJT"
      },
      "execution_count": null,
      "outputs": []
    },
    {
      "cell_type": "markdown",
      "source": [
        "Googleドライブ中のファイルの読み込み"
      ],
      "metadata": {
        "id": "JbxJLK--twUY"
      }
    },
    {
      "cell_type": "code",
      "source": [
        "file_name = \"/content/drive/MyDrive/Colab_files/SSDSE-B-2023.csv\"\n",
        "df = pd.read_csv(file_name, header=[0,1], encoding=\"shift_jis\")\n",
        "print(df)"
      ],
      "metadata": {
        "id": "iH4YMEPQt5C_"
      },
      "execution_count": null,
      "outputs": []
    },
    {
      "cell_type": "markdown",
      "source": [
        "# フィルタリング（条件に合うデータを抜き出す）"
      ],
      "metadata": {
        "id": "UoGs_doAKcSI"
      }
    },
    {
      "cell_type": "code",
      "source": [
        "df2015 = df[df[('SSDSE-B-2023','年度')] == 2015]\n",
        "# 2015年のデータだけ抽出\n",
        "# 'SSDSE-B-2023'は調査年が記載されているカラムのヘッダー第0行の記載内容、\n",
        "# '年度'は、そのカラムのヘッダー第1行の記載内容。\n",
        "# この2つを組み合わせたタプルで調査年のカラムであることを指定。\n",
        "# なお、下記のセルのように、header=1 と指定して読み込んでおいて、df[df['年度'] == 2015] のようにフィルタリングすることもできる。\n",
        "print(df2015)"
      ],
      "metadata": {
        "id": "NK70G2MFMKY8"
      },
      "execution_count": null,
      "outputs": []
    },
    {
      "cell_type": "code",
      "source": [
        "import pandas as pd\n",
        "\n",
        "url = \"https://www.nstac.go.jp/sys/files/SSDSE-B-2023.csv\"\n",
        "df1 = pd.read_csv(url, header=1, encoding=\"shift_jis\")\n",
        "df1_2015 = df1[df1['年度'] == 2015]\n",
        "df1_2015.head()"
      ],
      "metadata": {
        "id": "t-qy-yru4ztF"
      },
      "execution_count": null,
      "outputs": []
    },
    {
      "cell_type": "markdown",
      "source": [
        "この演習は、プログラムの詳しい理解を目的とはしていないので、以下は読み飛ばしてもらってよいのですが、このフィルタリングプログラム（上の方）について詳しく理解したい人がいたら、以下を読んで下さい。ChatGPTに尋ねて解説してもらいました。\n",
        "\n",
        "---\n",
        "\n",
        "以下のプログラムを初心者向けに詳しく解説して下さい。\n",
        "\n",
        "`df2015 = df[df[('SSDSE-B-2023','年度')] == 2015]`\n",
        "\n",
        "ChatGPT\n",
        "\n",
        "もちろんです。このプログラム行 `df2015 = df[df[('SSDSE-B-2023','年度')] == 2015]` は、PandasというPythonライブラリを使用して、特定の条件を満たすデータを含む新しいDataFrameを作成しています。ここでの目的は、元のDataFrame df から2015年のデータのみを抽出することです。\n",
        "\n",
        "以下、各部分について詳しく説明します。\n",
        "\n",
        "`df`:\n",
        "\n",
        "df はDataFrameオブジェクトです。DataFrameは、表形式のデータを格納し、操作するためのPandasの基本的なデータ構造です。この例では、df はある種のデータセット（例えば、都道府県別の統計データ）を含んでいます。\n",
        "\n",
        "`df[('SSDSE-B-2023','年度')]`:\n",
        "\n",
        "ここでは、df DataFrameから特定のカラムを選択しています。このカラムは、マルチレベルのカラムヘッダー（('SSDSE-B-2023','年度')）を持っています。\n",
        "`('SSDSE-B-2023','年度')` は、2つのレベルからなるタプルです。最初のレベルは 'SSDSE-B-2023' で、2番目のレベルは '年度' です。これは、DataFrameが複数レベルのヘッダーを持っていることを示しています。\n",
        "\n",
        "`df[('SSDSE-B-2023','年度')] == 2015`:\n",
        "\n",
        "この式は、選択したカラム（'年度'）の各行が2015年に相当するかどうかを確認しています。結果は、真（True）または偽（False）の値を持つブール型シリーズ（Series）になります。\n",
        "\n",
        "`df[df[('SSDSE-B-2023','年度')] == 2015]`:\n",
        "\n",
        "ここで、元のDataFrame df から、上記のブール型シリーズを使って行をフィルタリングしています。このシリーズが真（True）を持つ行のみが新しいDataFrameに含まれます。つまり、この操作によって2015年のデータのみを含む新しいDataFrameが作成されます。\n",
        "\n",
        "`df2015 = ...`:\n",
        "\n",
        "最後に、この新しいDataFrameは変数 df2015 に代入されます。これにより、2015年のデータのみを含むDataFrameを後で参照することができます。\n",
        "要するに、このプログラム行は df DataFrameから2015年のデータのみを選択し、それを新しいDataFrame df2015 に代入しています。"
      ],
      "metadata": {
        "id": "_BBM0ODx7GGO"
      }
    },
    {
      "cell_type": "markdown",
      "source": [
        "# 和、平均、中央値を求める\n"
      ],
      "metadata": {
        "id": "lKaf9x3YZnLA"
      }
    },
    {
      "cell_type": "markdown",
      "source": [
        "## 日本の総人口を求める"
      ],
      "metadata": {
        "id": "-6COku6cd9y9"
      }
    },
    {
      "cell_type": "code",
      "source": [
        "df2015popu = df2015[[('A1101','総人口')]]  # 総人口のカラムを抽出\n",
        "print(df2015popu)"
      ],
      "metadata": {
        "id": "v0cwcIaGgE0Q"
      },
      "execution_count": null,
      "outputs": []
    },
    {
      "cell_type": "code",
      "source": [
        "df2015popu.sum()  # 総和を求める"
      ],
      "metadata": {
        "id": "UKKZDLpueZ_1"
      },
      "execution_count": null,
      "outputs": []
    },
    {
      "cell_type": "markdown",
      "source": [
        "## 消費支出の全国平均を求める"
      ],
      "metadata": {
        "id": "woh7mie6jDSt"
      }
    },
    {
      "cell_type": "code",
      "source": [
        "print(df2015.filter(like='消費支出', axis=1))  # ヘッダーに'消費支出'を含む列を検索；axis=1は列を抽出することを指示\n",
        "# 2つの該当する列が抽出される"
      ],
      "metadata": {
        "id": "R96P9mUXqlq3"
      },
      "execution_count": null,
      "outputs": []
    },
    {
      "cell_type": "code",
      "source": [
        "df2015consum = df2015[[('L3221','消費支出（二人以上の世帯）')]]  # 見つけた列のうち今回目的とする列を抽出\n",
        "print(df2015consum)"
      ],
      "metadata": {
        "id": "i9ItoCiurlOA"
      },
      "execution_count": null,
      "outputs": []
    },
    {
      "cell_type": "code",
      "source": [
        "df2015consum.mean()  # 平均値を算出"
      ],
      "metadata": {
        "id": "JzMG4s3ZuCRN"
      },
      "execution_count": null,
      "outputs": []
    },
    {
      "cell_type": "markdown",
      "source": [
        "この演習は、プログラムの詳しい理解を目的とはしていないので、以下は読み飛ばしてもらってよいのですが、このフィルタリングの仕方について詳しく理解したい人がいたら、以下を読んで下さい。ChatGPTに尋ねて解説してもらいました。\n",
        "\n",
        "---\n",
        "\n",
        "`print(df2015.filter(like='消費支出', axis=1))`  について詳しく解説して下さい。\n",
        "\n",
        "ChatGPT\n",
        "\n",
        "もちろんです。`print(df2015.filter(like='消費支出', axis=1))` この行は、Pandasの filter メソッドを使用して df2015 DataFrameから特定の文字列を含むカラムを選択し、その結果を出力するために使われています。\n",
        "\n",
        "以下の各部分について詳しく説明します。\n",
        "\n",
        "`df2015`:\n",
        "\n",
        "df2015 はDataFrameオブジェクトで、以前のステップで作成されたものです。このDataFrameには2015年のデータが含まれています。\n",
        "\n",
        "`df2015.filter(like='消費支出', axis=1)`:\n",
        "\n",
        "filter メソッドは、特定の条件に基づいてカラムや行を選択するために使用されます。\n",
        "\n",
        "`like='消費支出'` この引数は、カラム名に「消費支出」という文字列が含まれているカラムを選択することを指示しています。この機能は、特定のパターンやキーワードに基づいてカラムをフィルタリングする際に便利です。\n",
        "\n",
        "`axis=1` この引数は、フィルタリングがカラムに対して行われることを指示しています（axis=0 は行に対するフィルタリングを意味します）。Pandasでは、axis=0 が行を、axis=1 がカラムを指します。\n",
        "\n",
        "`print(...)`:\n",
        "\n",
        "print 関数は、指定されたオブジェクトの文字列表現を出力します。この場合、`df2015.filter(like='消費支出', axis=1)` によって返されるDataFrame（またはその部分）が出力されます。\n",
        "\n",
        "要するに、このプログラム行は df2015 DataFrameからカラム名に「消費支出」という文字列が含まれるカラムを選択し、その結果を表示しています。これは、DataFrame内の特定のデータに注目したい場合に特に便利です。たとえば、複数のカラムが「消費支出」と関連している場合、このコードはそれらすべてのカラムを選択し、表示します。\n",
        "\n",
        "\n",
        "\n",
        "\n",
        "\n"
      ],
      "metadata": {
        "id": "qZP86RiO_cXQ"
      }
    },
    {
      "cell_type": "markdown",
      "source": [
        "##演習問題\n",
        "同様に、消費支出の中央値を求めて、教科書170ページで答え合わせをしよう。median()を使用するとよい。"
      ],
      "metadata": {
        "id": "FG31QrQgjyag"
      }
    },
    {
      "cell_type": "code",
      "source": [],
      "metadata": {
        "id": "iEce5YQexEvL"
      },
      "execution_count": null,
      "outputs": []
    },
    {
      "cell_type": "markdown",
      "source": [
        "# データの並べ替え（ソート）"
      ],
      "metadata": {
        "id": "RdAdjlWRxHVC"
      }
    },
    {
      "cell_type": "code",
      "source": [
        "import pandas as pd\n",
        "\n",
        "file_name = \"/content/SSDSE-C-2023.csv\"\n",
        "df = pd.read_csv(file_name, header=[0,1], encoding=\"shift_jis\")\n",
        "print(df)"
      ],
      "metadata": {
        "id": "gqzoPevZV7BD"
      },
      "execution_count": null,
      "outputs": []
    },
    {
      "cell_type": "code",
      "source": [
        "print(df.filter(like='ぎょうざ', axis=1))  # ヘッダーに'ぎょうざ'を含む列を検索"
      ],
      "metadata": {
        "id": "0ySPIe4eXAnB"
      },
      "execution_count": null,
      "outputs": []
    },
    {
      "cell_type": "code",
      "source": [
        "df_gyoza = df[[('City','市'),('LB092007','ぎょうざ')]]  # 市の列とぎょうざの列を抽出\n",
        "print(df_gyoza)"
      ],
      "metadata": {
        "id": "cVtP0BYDiRxb"
      },
      "execution_count": null,
      "outputs": []
    },
    {
      "cell_type": "code",
      "source": [
        "df_gyoza_s = df_gyoza.sort_values(('LB092007','ぎょうざ'), ascending=False)  # ぎょうざの降順(ascending=False)でソート\n",
        "print(df_gyoza_s)"
      ],
      "metadata": {
        "id": "BmHF4hPNk39R"
      },
      "execution_count": null,
      "outputs": []
    }
  ]
}