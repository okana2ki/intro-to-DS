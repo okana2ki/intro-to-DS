{
  "nbformat": 4,
  "nbformat_minor": 0,
  "metadata": {
    "colab": {
      "provenance": [],
      "toc_visible": true,
      "include_colab_link": true
    },
    "kernelspec": {
      "name": "python3",
      "display_name": "Python 3"
    },
    "language_info": {
      "name": "python"
    }
  },
  "cells": [
    {
      "cell_type": "markdown",
      "metadata": {
        "id": "view-in-github",
        "colab_type": "text"
      },
      "source": [
        "<a href=\"https://colab.research.google.com/github/okana2ki/intro-to-DS/blob/main/DS11v2.ipynb\" target=\"_parent\"><img src=\"https://colab.research.google.com/assets/colab-badge.svg\" alt=\"Open In Colab\"/></a>"
      ]
    },
    {
      "cell_type": "markdown",
      "source": [
        "Colabで開いたら、まず、↑上部の「ドライブにコピー」をクリックして下さい。Googleドライブの [マイドライブ > Colab Notebooks] に保存され、その後加えた変更がそこに自動保存されるようになります。"
      ],
      "metadata": {
        "id": "5kfHHfpjNjcf"
      }
    },
    {
      "cell_type": "markdown",
      "source": [
        "#復習"
      ],
      "metadata": {
        "id": "qCxrBvNyBlxG"
      }
    },
    {
      "cell_type": "markdown",
      "source": [
        "#相関係数（と散布図）\n",
        "$相関係数 = \\dfrac{xとyの共分散}{xの標準偏差 \\times yの標準偏差}$\n",
        "\n",
        "$相関係数 = \\dfrac{\\dfrac{1}{n}\\displaystyle\\sum_{i=1}^n(x_i-\\overline{x})(y_i-\\overline{y})}{\\sqrt{\\dfrac{1}{n}\\displaystyle\\sum_{i=1}^n(x_i-\\overline{x})^2}\\sqrt{\\dfrac{1}{n}\\displaystyle\\sum_{i=1}^n(y_i-\\overline{y})^2}}$"
      ],
      "metadata": {
        "id": "x2uWiXrvQXny"
      }
    },
    {
      "cell_type": "code",
      "source": [
        "import pandas as pd\n",
        "import numpy as np\n",
        "import matplotlib.pyplot as plt\n",
        "\n",
        "x = pd.Series(np.random.uniform(0, 5, 10)) # 0以上5未満の一様乱数を10個\n",
        "y = pd.Series(np.random.uniform(0, 5, 10))\n",
        "plt.xlim(0,5) # 表示範囲\n",
        "plt.ylim(0,5)\n",
        "plt.scatter(x,y) # 散布図\n",
        "plt.show()\n",
        "res = x.corr(y) # 相関係数\n",
        "print(res)"
      ],
      "metadata": {
        "id": "nMh5ZDo7a7Ml"
      },
      "execution_count": null,
      "outputs": []
    },
    {
      "cell_type": "markdown",
      "source": [
        "##演習問題\n",
        "1.   上のプログラムを何回か実行して、データの分布と相関係数の関係を体感しよう。\n",
        "2.   相関が強い（１かー１に近い）ケースの散布図と相関係数を記録して残したいと思ったら、どうすればよいと思いますか？　ヒント：体力勝負でひたすら何回も試してもいいのですが、そのためのプログラムを書くと楽ちんですね。自分でプログラムが書ける人はぜひ書いてみて下さい。自分では書けない人も生成AIに相談すると簡単に書けますよ。"
      ],
      "metadata": {
        "id": "FG31QrQgjyag"
      }
    },
    {
      "cell_type": "markdown",
      "source": [
        "演習問題2.の解答例"
      ],
      "metadata": {
        "id": "vAgc8l_DWXov"
      }
    },
    {
      "cell_type": "markdown",
      "source": [
        "その１：基本のプログラム"
      ],
      "metadata": {
        "id": "Y9wnvBJaKTU_"
      }
    },
    {
      "cell_type": "code",
      "source": [
        "import pandas as pd\n",
        "import numpy as np\n",
        "import matplotlib.pyplot as plt\n",
        "\n",
        "while True: # インデントされた範囲を無限ループ\n",
        "  x = pd.Series(np.random.uniform(0, 5, 10)) # 0以上5未満の一様乱数を10個\n",
        "  y = pd.Series(np.random.uniform(0, 5, 10))\n",
        "  res = x.corr(y) # 相関係数\n",
        "  if abs(res) > 0.9: # 相関係数の絶対値が0.9を超えたらループから出る\n",
        "    break\n",
        "print(res) # 以下はループから出た時の処理\n",
        "plt.xlim(0,5) # 表示範囲\n",
        "plt.ylim(0,5)\n",
        "plt.scatter(x,y) # 散布図\n",
        "plt.show()"
      ],
      "metadata": {
        "id": "B6zSrZihJfxw"
      },
      "execution_count": null,
      "outputs": []
    },
    {
      "cell_type": "markdown",
      "source": [
        "その２：何回目に見つかったかも表示"
      ],
      "metadata": {
        "id": "5zqOJV9FKdrn"
      }
    },
    {
      "cell_type": "code",
      "source": [
        "import pandas as pd\n",
        "import numpy as np\n",
        "import matplotlib.pyplot as plt\n",
        "\n",
        "i = 0 # 何回目に見つかったかを数える変数\n",
        "while True: # インデントされた範囲を無限ループ\n",
        "  i += 1 # iを1増やす\n",
        "  x = pd.Series(np.random.uniform(0, 5, 10)) # 0以上5未満の一様乱数を10個\n",
        "  y = pd.Series(np.random.uniform(0, 5, 10))\n",
        "  res = x.corr(y) # 相関係数\n",
        "  if abs(res) > 0.9: # 相関係数の絶対値が0.9を超えたらループから出る\n",
        "    break\n",
        "print(i, res) # 以下はループから出た時の処理\n",
        "plt.xlim(0,5) # 表示範囲\n",
        "plt.ylim(0,5)\n",
        "plt.scatter(x,y) # 散布図\n",
        "plt.show()"
      ],
      "metadata": {
        "id": "zkUcag19SJCz"
      },
      "execution_count": null,
      "outputs": []
    },
    {
      "cell_type": "markdown",
      "source": [
        "その３：おまけ：相関係数の度数分布を調べる"
      ],
      "metadata": {
        "id": "97ul9aa8KsBf"
      }
    },
    {
      "cell_type": "code",
      "source": [
        "import pandas as pd\n",
        "import numpy as np\n",
        "import matplotlib.pyplot as plt\n",
        "\n",
        "distri = [] # 空のリストを用意\n",
        "for n in range(5000): # 5000回ループ\n",
        "  x = pd.Series(np.random.uniform(0, 5, 10)) # 0以上5未満の一様乱数を10個\n",
        "  y = pd.Series(np.random.uniform(0, 5, 10))\n",
        "  res = x.corr(y) # 相関係数\n",
        "  distri.append(res) # リストに相関係数を追加\n",
        "\n",
        "plt.hist(distri, bins=400, range=(-1, 1)) # ループが完了したらヒストグラムを表示\n",
        "#plt.xticks(np.arange(-1.0, 1.1, step=0.1))\n",
        "plt.xticks([-1,-0.9, -0.5, 0, 0.5, 0.9, 1]) # x軸の刻みを設定\n",
        "plt.grid() #グリッドを表示\n",
        "plt.show()"
      ],
      "metadata": {
        "id": "CnYVs_o7J5xo"
      },
      "execution_count": null,
      "outputs": []
    },
    {
      "cell_type": "markdown",
      "source": [
        "\n",
        "\n",
        "---\n",
        "\n"
      ],
      "metadata": {
        "id": "e9FKtYUdRgK0"
      }
    },
    {
      "cell_type": "markdown",
      "source": [
        "#本日の内容"
      ],
      "metadata": {
        "id": "elviT3PjQNJp"
      }
    },
    {
      "cell_type": "markdown",
      "source": [
        "#棒グラフ"
      ],
      "metadata": {
        "id": "lZnLkB7r_txp"
      }
    },
    {
      "cell_type": "markdown",
      "source": [
        "* 演習問題文をコピペしてAIに依頼するときの、カットアンドペーストのショートカットキーまたは操作法の説明必要\n",
        "* TAまたは机間巡視で質問しやすくすることが必要\n",
        "\n"
      ],
      "metadata": {
        "id": "Bz2XxNxah7QM"
      }
    },
    {
      "cell_type": "code",
      "source": [
        "# prompt: 棒グラフを描くサンプルプログラムを作って。\n",
        "\n",
        "import matplotlib.pyplot as plt\n",
        "\n",
        "# データ\n",
        "label = [\"A\", \"B\", \"C\", \"D\", \"E\"]\n",
        "height = [20, 35, 15, 28, 12]\n",
        "\n",
        "# 棒グラフを作成\n",
        "plt.bar(label, height)\n",
        "\n",
        "# タイトルとラベルを設定\n",
        "plt.title(\"Bar Graph Example\")\n",
        "plt.xlabel(\"Category\")\n",
        "plt.ylabel(\"Value\")\n",
        "\n",
        "# グラフを表示\n",
        "plt.show()"
      ],
      "metadata": {
        "id": "Leznf4VhYgK9",
        "outputId": "27b9cdf4-a4c8-4346-8cf2-fba924263573",
        "colab": {
          "base_uri": "https://localhost:8080/",
          "height": 472
        }
      },
      "execution_count": null,
      "outputs": [
        {
          "output_type": "display_data",
          "data": {
            "text/plain": [
              "<Figure size 640x480 with 1 Axes>"
            ],
            "image/png": "[encoded data removed]"
          },
          "metadata": {}
        }
      ]
    },
    {
      "cell_type": "markdown",
      "source": [
        "#円グラフ"
      ],
      "metadata": {
        "id": "vbnhdYxOHOgF"
      }
    },
    {
      "cell_type": "code",
      "source": [
        "# prompt: 円グラフの描き方を示すサンプルプログラムを作って。\n",
        "\n",
        "# 円グラフ\n",
        "import matplotlib.pyplot as plt\n",
        "\n",
        "label = ['a', 'b', 'c', 'd', 'e']\n",
        "rate = [48.5, 73.2, 13.0, 34.5, 8.5]\n",
        "\n",
        "plt.pie(rate, labels=label, autopct=\"%1.1f%%\", startangle=90)\n",
        "plt.axis('equal')  # 円形にする\n",
        "plt.show()\n"
      ],
      "metadata": {
        "id": "TFW_-CjNXC0T",
        "outputId": "dc152698-2415-45b2-bf7f-e721a0045091",
        "colab": {
          "base_uri": "https://localhost:8080/",
          "height": 416
        }
      },
      "execution_count": null,
      "outputs": [
        {
          "output_type": "display_data",
          "data": {
            "text/plain": [
              "<Figure size 640x480 with 1 Axes>"
            ],
            "image/png": "[encoded data removed]"
          },
          "metadata": {}
        }
      ]
    },
    {
      "cell_type": "code",
      "source": [
        "# prompt: 時計回りにできますか？\n",
        "\n",
        "# 円グラフ\n",
        "\n",
        "label = ['a', 'b', 'c', 'd', 'e']\n",
        "rate = [48.5, 73.2, 13.0, 34.5, 8.5]\n",
        "\n",
        "plt.pie(rate, labels=label, autopct=\"%1.1f%%\", startangle=90, counterclock=False) # counterclockをFalseに\n",
        "plt.axis('equal')  # 円形にする\n",
        "plt.show()\n"
      ],
      "metadata": {
        "id": "05ACqNQFabVH",
        "outputId": "73f54d14-8153-4d63-f5e9-dd5585a3f7d4",
        "colab": {
          "base_uri": "https://localhost:8080/",
          "height": 416
        }
      },
      "execution_count": null,
      "outputs": [
        {
          "output_type": "display_data",
          "data": {
            "text/plain": [
              "<Figure size 640x480 with 1 Axes>"
            ],
            "image/png": "[encoded data removed]"
          },
          "metadata": {}
        }
      ]
    },
    {
      "cell_type": "code",
      "source": [
        "# prompt: plt.axis('equal')  は必要ですか？\n",
        "\n",
        "# 円グラフ\n",
        "\n",
        "label = ['a', 'b', 'c', 'd', 'e']\n",
        "rate = [48.5, 73.2, 13.0, 34.5, 8.5]\n",
        "\n",
        "plt.pie(rate, labels=label, autopct=\"%1.1f%%\", startangle=90, counterclock=False) # counterclockをFalseに\n",
        "# plt.axis('equal')  # 円形にする <- コメントアウト\n",
        "plt.show()\n"
      ],
      "metadata": {
        "id": "FUcGqYUWbT5h"
      },
      "execution_count": null,
      "outputs": []
    },
    {
      "cell_type": "markdown",
      "source": [
        "↓plt.axis('equal') がないと楕円として表示される具体例"
      ],
      "metadata": {
        "id": "iEHum7D5cQyX"
      }
    },
    {
      "source": [
        "import matplotlib.pyplot as plt\n",
        "\n",
        "label = ['a', 'b', 'c', 'd', 'e']\n",
        "rate = [48.5, 73.2, 13.0, 34.5, 8.5]\n",
        "\n",
        "# figure()で描画領域を指定\n",
        "plt.figure(figsize=(10, 5))  # 横長に設定\n",
        "\n",
        "plt.pie(rate, labels=label, autopct=\"%1.1f%%\", startangle=90, counterclock=False)\n",
        "plt.show()"
      ],
      "cell_type": "code",
      "metadata": {
        "id": "u_hYVEpgcJn3",
        "outputId": "120bb02b-8a86-4615-de49-33cb40da4646",
        "colab": {
          "base_uri": "https://localhost:8080/",
          "height": 422
        }
      },
      "execution_count": null,
      "outputs": [
        {
          "output_type": "display_data",
          "data": {
            "text/plain": [
              "<Figure size 1000x500 with 1 Axes>"
            ],
            "image/png": "[encoded data removed]"
          },
          "metadata": {}
        }
      ]
    },
    {
      "cell_type": "markdown",
      "source": [
        "https://qiita.com/hideh_hash_845/items/87de4bd30f0d33081034"
      ],
      "metadata": {
        "id": "MYA997IXeljc"
      }
    },
    {
      "cell_type": "code",
      "source": [
        "#!/usr/bin/env python\n",
        "# coding: utf-8\n",
        "\n",
        "# 必要なモジュールのインポート\n",
        "import matplotlib.pyplot as plt\n",
        "import japanize_matplotlib  # <- これ\n",
        "import numpy as np\n",
        "import pandas as pd\n",
        "\n",
        "# 不要な警告を非表示にする\n",
        "import warnings\n",
        "warnings.filterwarnings('ignore')\n",
        "\n",
        "# 入力Excelのファイル名、シート名\n",
        "in_file = 'data.xlsx'\n",
        "in_sheet1 = 'リスト'\n",
        "\n",
        "#----------\n",
        "# Excelの読込\n",
        "df_1 = pd.read_excel(in_file, sheet_name=in_sheet1, index_col=0, header=0)\n",
        "df_1 = df_1.drop('合計')\n",
        "\n",
        "print(df_1)\n",
        "\n",
        "\n",
        "# RGB値での色の指定（0から255の値）\n",
        "colors = [\n",
        "    (255, 170, 180),  # 赤\n",
        "    (255, 255, 128),  # 黄\n",
        "    (140, 255, 140),  # 緑\n",
        "    (128, 192, 255),  # 青\n",
        "    (128, 128, 128)   # 灰色\n",
        "]\n",
        "\n",
        "# RGB値を0から1にスケーリング\n",
        "colors = [(r / 256, g / 256, b / 256) for r, g, b in colors]\n",
        "\n",
        "# グラフの設定\n",
        "pie_num = len(df_1.columns)\n",
        "fig, axes = plt.subplots(1, pie_num)\n",
        "fig.suptitle('レベル分布')\n",
        "\n",
        "for i in range(pie_num):\n",
        "    axes[i].pie(df_1[df_1.columns[i]], labels=df_1.index, startangle=90, colors=colors, counterclock=False, labeldistance=None)\n",
        "    axes[i].axis('equal')  # 円を円形に保つ\n",
        "    axes[i].set_title(df_1.columns[i])\n",
        "\n",
        "\n",
        "# グラフを表示\n",
        "plt.show()\n"
      ],
      "metadata": {
        "id": "5hLKFh9Td8Tg"
      },
      "execution_count": null,
      "outputs": []
    },
    {
      "cell_type": "markdown",
      "source": [
        "デフォルトは3時の位置から始めて半時計回り"
      ],
      "metadata": {
        "id": "vWsjS1Tcf3Jk"
      }
    },
    {
      "cell_type": "code",
      "source": [
        "import matplotlib.pyplot as plt\n",
        "\n",
        "x = [10, 20, 20, 40]\n",
        "label = ['a', 'b', 'c', 'd']\n",
        "plt.pie(x, labels=label)"
      ],
      "metadata": {
        "id": "ULBtM-1pHSSU",
        "outputId": "03191e71-1446-43fd-d7db-48013c22d5b3",
        "colab": {
          "base_uri": "https://localhost:8080/",
          "height": 552
        }
      },
      "execution_count": null,
      "outputs": [
        {
          "output_type": "execute_result",
          "data": {
            "text/plain": [
              "([<matplotlib.patches.Wedge at 0x7ac62f5e3610>,\n",
              "  <matplotlib.patches.Wedge at 0x7ac62f5e1d50>,\n",
              "  <matplotlib.patches.Wedge at 0x7ac62f5e00a0>,\n",
              "  <matplotlib.patches.Wedge at 0x7ac62f5e11e0>],\n",
              " [Text(1.0336618818860421, 0.3762221603465248, 'a'),\n",
              "  Text(0.19101298416420226, 1.083288530300532, 'b'),\n",
              "  Text(-1.0336618906921569, 0.3762221361519225, 'c'),\n",
              "  Text(0.1910130348765973, -1.0832885213585677, 'd')])"
            ]
          },
          "metadata": {},
          "execution_count": 6
        },
        {
          "output_type": "display_data",
          "data": {
            "text/plain": [
              "<Figure size 640x480 with 1 Axes>"
            ],
            "image/png": "[encoded data removed]"
          },
          "metadata": {}
        }
      ]
    },
    {
      "cell_type": "markdown",
      "source": [
        "コードセル中のAIへの指示で、コード作成を頼まずに質問をすると、コメント行の形式で（つまり、プログラムの形式で）答えてくれる。"
      ],
      "metadata": {
        "id": "4dxU86WafG36"
      }
    },
    {
      "cell_type": "markdown",
      "source": [
        "#散布図"
      ],
      "metadata": {
        "id": "wO2OdEFpKWwo"
      }
    },
    {
      "cell_type": "code",
      "source": [
        "import matplotlib.pyplot as plt\n",
        "\n",
        "x = [32, 8, 300, 168, 1210]\n",
        "y = [15, 22, 3, 43, 10]\n",
        "plt.scatter(x, y)\n",
        "plt.grid()\n",
        "plt.show()\n",
        "plt.xscale('log') # x軸を対数軸に\n",
        "plt.scatter(x, y)\n",
        "plt.grid()\n",
        "plt.show()"
      ],
      "metadata": {
        "id": "cSNiR7ZKKagf"
      },
      "execution_count": null,
      "outputs": []
    },
    {
      "cell_type": "markdown",
      "source": [
        "#折れ線グラフ"
      ],
      "metadata": {
        "id": "DuEkvqxDL7IE"
      }
    },
    {
      "cell_type": "code",
      "source": [
        "import matplotlib.pyplot as plt\n",
        "\n",
        "x = [1, 2, 3, 4, 5]\n",
        "y = [5, 20, 30, 40, 10]\n",
        "plt.plot(x, y)\n",
        "plt.show()\n",
        "plt.plot(x, y, 'o--r') # データ点にoを付けて、破線--にして、赤色rに）"
      ],
      "metadata": {
        "id": "G78gKGK7MC0C"
      },
      "execution_count": null,
      "outputs": []
    },
    {
      "cell_type": "markdown",
      "source": [
        "#ヒートマップ"
      ],
      "metadata": {
        "id": "GCOv1JvgSI_x"
      }
    },
    {
      "cell_type": "code",
      "source": [
        "import numpy as np\n",
        "import seaborn as sns\n",
        "import pandas as pd\n",
        "import matplotlib.pyplot as plt\n",
        "\n",
        "data = pd.DataFrame(np.random.uniform(size = (4, 4)),\n",
        "  index=['r0', 'r1', 'r2', 'r3'], columns=['c0', 'c1', 'c2', 'c3'])\n",
        "  # 一様乱数を4x4個生成、DataFrameに格納し、行と列に名前をつける\n",
        "print(data)\n",
        "sns.heatmap(data)\n",
        "plt.show()"
      ],
      "metadata": {
        "id": "SITQGa01SLxx"
      },
      "execution_count": null,
      "outputs": []
    },
    {
      "cell_type": "markdown",
      "source": [
        "#箱ひげ図"
      ],
      "metadata": {
        "id": "QTaKVaTQp40V"
      }
    },
    {
      "cell_type": "code",
      "source": [
        "import matplotlib.pyplot as plt\n",
        "\n",
        "list1 = [1,2,3,4,5,6,7,8,9]\n",
        "list2 = [1,2,3,4,5,6,7,8,15]\n",
        "list3 = [1,3,5,7,9,11,13,15,17]\n",
        "\n",
        "plt.boxplot([list1, list2, list3], labels = ['list1', 'list2', 'list3'])\n",
        "plt.grid() #グリッドを表示；下記の演習問題で数値を確認しやすいように\n",
        "plt.show()"
      ],
      "metadata": {
        "id": "INZKQQAbp8Od"
      },
      "execution_count": null,
      "outputs": []
    },
    {
      "cell_type": "markdown",
      "source": [
        "##演習問題\n",
        "以下のプログラムを実行して四分位数（しぶんいすう）を表示させ、箱ひげ図との対応を確認しておこう。"
      ],
      "metadata": {
        "id": "Z96qi-t9-2rT"
      }
    },
    {
      "cell_type": "code",
      "source": [
        "import pandas as pd\n",
        "\n",
        "list1 = [1,2,3,4,5,6,7,8,9]\n",
        "list2 = [1,2,3,4,5,6,7,8,15]\n",
        "list3 = [1,3,5,7,9,11,13,15,17]\n",
        "\n",
        "s1 = pd.Series(list1) # pandasのSeriesに変換\n",
        "s2 = pd.Series(list2)\n",
        "s3 = pd.Series(list3)\n",
        "\n",
        "print(s1.describe()) # 四分位数を含む記述統計量（要約統計量）を表示\n",
        "print(s2.describe())\n",
        "print(s3.describe())"
      ],
      "metadata": {
        "id": "MNFx1lXKqjtc"
      },
      "execution_count": null,
      "outputs": []
    },
    {
      "cell_type": "markdown",
      "source": [
        "#ヒストグラム"
      ],
      "metadata": {
        "id": "hxAbpu3jETzP"
      }
    },
    {
      "cell_type": "code",
      "source": [
        "import numpy as np\n",
        "import pandas as pd\n",
        "import matplotlib.pylab as plt\n",
        "\n",
        "x = pd.Series(np.random.normal(50, 10, 20)) # 正規乱数を生成、データ数＝20\n",
        "plt.hist(x, bins=20, range=(0, 100)) # ビン数をいろいろ変えてみよう\n",
        "plt.show()\n",
        "\n",
        "x = pd.Series(np.random.normal(50, 10, 10000)) # データ数＝10000\n",
        "plt.hist(x, bins=20, range=(0, 100)) # ビン数をいろいろ変えてみよう\n",
        "plt.show()\n",
        "\n",
        "x = pd.Series(np.random.normal(50, 10, 1000000)) # データ数＝1000000\n",
        "plt.hist(x, bins=20, range=(0, 100)) # ビン数をいろいろ変えてみよう\n",
        "plt.show()"
      ],
      "metadata": {
        "id": "nIGyxyMxEZru"
      },
      "execution_count": null,
      "outputs": []
    },
    {
      "cell_type": "markdown",
      "source": [
        "##演習問題\n",
        "データ数20個、10000個、1000000個のそれぞれについて、適切なビン数は、どれくらいだろうか？教科書の160,161ページを参考に、いろいろなビン数を試してみよう。\n",
        "\n",
        "適切なビン数は、何を伝えたいかにより変わることに注意：正規分布に従って乱数が生成されていることを伝えたいのか、乱数なので滑らかな分布でなく細かくみると凸凹していることを伝えたいのか、など。"
      ],
      "metadata": {
        "id": "nwmlBsmUIEcj"
      }
    }
  ]
}