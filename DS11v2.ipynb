{
  "nbformat": 4,
  "nbformat_minor": 0,
  "metadata": {
    "colab": {
      "provenance": [],
      "toc_visible": true,
      "include_colab_link": true
    },
    "kernelspec": {
      "name": "python3",
      "display_name": "Python 3"
    },
    "language_info": {
      "name": "python"
    }
  },
  "cells": [
    {
      "cell_type": "markdown",
      "metadata": {
        "id": "view-in-github",
        "colab_type": "text"
      },
      "source": [
        "<a href=\"https://colab.research.google.com/github/okana2ki/intro-to-DS/blob/main/DS11v2.ipynb\" target=\"_parent\"><img src=\"https://colab.research.google.com/assets/colab-badge.svg\" alt=\"Open In Colab\"/></a>"
      ]
    },
    {
      "cell_type": "markdown",
      "source": [
        "#復習"
      ],
      "metadata": {
        "id": "qCxrBvNyBlxG"
      }
    },
    {
      "cell_type": "markdown",
      "source": [
        "#相関係数（と散布図）\n",
        "$相関係数 = \\dfrac{xとyの共分散}{xの標準偏差 \\times yの標準偏差}$\n",
        "\n",
        "$相関係数 = \\dfrac{\\dfrac{1}{n}\\displaystyle\\sum_{i=1}^n(x_i-\\overline{x})(y_i-\\overline{y})}{\\sqrt{\\dfrac{1}{n}\\displaystyle\\sum_{i=1}^n(x_i-\\overline{x})^2}\\sqrt{\\dfrac{1}{n}\\displaystyle\\sum_{i=1}^n(y_i-\\overline{y})^2}}$"
      ],
      "metadata": {
        "id": "x2uWiXrvQXny"
      }
    },
    {
      "cell_type": "code",
      "source": [
        "import pandas as pd\n",
        "import numpy as np\n",
        "import matplotlib.pyplot as plt\n",
        "\n",
        "x = pd.Series(np.random.uniform(0, 5, 10)) # 0以上5未満の一様乱数を10個\n",
        "y = pd.Series(np.random.uniform(0, 5, 10))\n",
        "plt.xlim(0,5) # 表示範囲\n",
        "plt.ylim(0,5)\n",
        "plt.scatter(x,y) # 散布図\n",
        "plt.show()\n",
        "res = x.corr(y) # 相関係数\n",
        "print(res)"
      ],
      "metadata": {
        "id": "nMh5ZDo7a7Ml"
      },
      "execution_count": null,
      "outputs": []
    },
    {
      "cell_type": "markdown",
      "source": [
        "##演習問題\n",
        "1.   上のプログラムを何回か実行して、データの分布と相関係数の関係を体感しよう。\n",
        "2.   相関が強い（１かー１に近い）ケースの散布図と相関係数を記録して残したいと思ったら、どうすればよいと思いますか？　ヒント：体力勝負でひたすら何回も試してもいいのですが、そのためのプログラムを書くと楽ちんですね。自分でプログラムが書ける人はぜひ書いてみて下さい。自分では書けない人も生成AIに相談すると簡単に書けますよ。"
      ],
      "metadata": {
        "id": "FG31QrQgjyag"
      }
    },
    {
      "cell_type": "markdown",
      "source": [
        "演習問題2.の解答例"
      ],
      "metadata": {
        "id": "vAgc8l_DWXov"
      }
    },
    {
      "cell_type": "markdown",
      "source": [
        "その１：基本のプログラム"
      ],
      "metadata": {
        "id": "Y9wnvBJaKTU_"
      }
    },
    {
      "cell_type": "code",
      "source": [
        "import pandas as pd\n",
        "import numpy as np\n",
        "import matplotlib.pyplot as plt\n",
        "\n",
        "while True: # インデントされた範囲を無限ループ\n",
        "  x = pd.Series(np.random.uniform(0, 5, 10)) # 0以上5未満の一様乱数を10個\n",
        "  y = pd.Series(np.random.uniform(0, 5, 10))\n",
        "  res = x.corr(y) # 相関係数\n",
        "  if abs(res) > 0.9: # 相関係数の絶対値が0.9を超えたらループから出る\n",
        "    break\n",
        "print(res) # 以下はループから出た時の処理\n",
        "plt.xlim(0,5) # 表示範囲\n",
        "plt.ylim(0,5)\n",
        "plt.scatter(x,y) # 散布図\n",
        "plt.show()"
      ],
      "metadata": {
        "id": "B6zSrZihJfxw"
      },
      "execution_count": null,
      "outputs": []
    },
    {
      "cell_type": "markdown",
      "source": [
        "その２：何回目に見つかったかも表示"
      ],
      "metadata": {
        "id": "5zqOJV9FKdrn"
      }
    },
    {
      "cell_type": "code",
      "source": [
        "import pandas as pd\n",
        "import numpy as np\n",
        "import matplotlib.pyplot as plt\n",
        "\n",
        "i = 0 # 何回目に見つかったかを数える変数\n",
        "while True: # インデントされた範囲を無限ループ\n",
        "  i += 1 # iを1増やす\n",
        "  x = pd.Series(np.random.uniform(0, 5, 10)) # 0以上5未満の一様乱数を10個\n",
        "  y = pd.Series(np.random.uniform(0, 5, 10))\n",
        "  res = x.corr(y) # 相関係数\n",
        "  if abs(res) > 0.9: # 相関係数の絶対値が0.9を超えたらループから出る\n",
        "    break\n",
        "print(i, res) # 以下はループから出た時の処理\n",
        "plt.xlim(0,5) # 表示範囲\n",
        "plt.ylim(0,5)\n",
        "plt.scatter(x,y) # 散布図\n",
        "plt.show()"
      ],
      "metadata": {
        "id": "zkUcag19SJCz"
      },
      "execution_count": null,
      "outputs": []
    },
    {
      "cell_type": "markdown",
      "source": [
        "その３：おまけ：相関係数の度数分布を調べる"
      ],
      "metadata": {
        "id": "97ul9aa8KsBf"
      }
    },
    {
      "cell_type": "code",
      "source": [
        "import pandas as pd\n",
        "import numpy as np\n",
        "import matplotlib.pyplot as plt\n",
        "\n",
        "distri = [] # 空のリストを用意\n",
        "for n in range(5000): # 5000回ループ\n",
        "  x = pd.Series(np.random.uniform(0, 5, 10)) # 0以上5未満の一様乱数を10個\n",
        "  y = pd.Series(np.random.uniform(0, 5, 10))\n",
        "  res = x.corr(y) # 相関係数\n",
        "  distri.append(res) # リストに相関係数を追加\n",
        "\n",
        "plt.hist(distri, bins=400, range=(-1, 1)) # ループが完了したらヒストグラムを表示\n",
        "#plt.xticks(np.arange(-1.0, 1.1, step=0.1))\n",
        "plt.xticks([-1,-0.9, -0.5, 0, 0.5, 0.9, 1]) # x軸の刻みを設定\n",
        "plt.grid() #グリッドを表示\n",
        "plt.show()"
      ],
      "metadata": {
        "id": "CnYVs_o7J5xo"
      },
      "execution_count": null,
      "outputs": []
    },
    {
      "cell_type": "markdown",
      "source": [
        "\n",
        "\n",
        "---\n",
        "\n"
      ],
      "metadata": {
        "id": "e9FKtYUdRgK0"
      }
    },
    {
      "cell_type": "markdown",
      "source": [
        "#本日の内容"
      ],
      "metadata": {
        "id": "elviT3PjQNJp"
      }
    },
    {
      "cell_type": "markdown",
      "source": [
        "#棒グラフ"
      ],
      "metadata": {
        "id": "lZnLkB7r_txp"
      }
    },
    {
      "cell_type": "code",
      "source": [
        "import matplotlib.pyplot as plt\n",
        "\n",
        "x = ['a', 'b', 'c', 'd', 'e']\n",
        "height = [48.5, 73.2, 13.0, 34.5, 8.5]\n",
        "\n",
        "plt.bar(x, height)"
      ],
      "metadata": {
        "id": "KTxpHYifDYHu"
      },
      "execution_count": null,
      "outputs": []
    },
    {
      "cell_type": "markdown",
      "source": [
        "#円グラフ"
      ],
      "metadata": {
        "id": "vbnhdYxOHOgF"
      }
    },
    {
      "cell_type": "code",
      "source": [
        "import matplotlib.pyplot as plt\n",
        "\n",
        "x = [10, 20, 20, 40]\n",
        "label = ['a', 'b', 'c', 'd']\n",
        "plt.pie(x, labels=label)"
      ],
      "metadata": {
        "id": "ULBtM-1pHSSU"
      },
      "execution_count": null,
      "outputs": []
    },
    {
      "cell_type": "markdown",
      "source": [
        "#散布図"
      ],
      "metadata": {
        "id": "wO2OdEFpKWwo"
      }
    },
    {
      "cell_type": "code",
      "source": [
        "import matplotlib.pyplot as plt\n",
        "\n",
        "x = [32, 8, 300, 168, 1210]\n",
        "y = [15, 22, 3, 43, 10]\n",
        "plt.scatter(x, y)\n",
        "plt.grid()\n",
        "plt.show()\n",
        "plt.xscale('log') # x軸を対数軸に\n",
        "plt.scatter(x, y)\n",
        "plt.grid()\n",
        "plt.show()"
      ],
      "metadata": {
        "id": "cSNiR7ZKKagf"
      },
      "execution_count": null,
      "outputs": []
    },
    {
      "cell_type": "markdown",
      "source": [
        "#折れ線グラフ"
      ],
      "metadata": {
        "id": "DuEkvqxDL7IE"
      }
    },
    {
      "cell_type": "code",
      "source": [
        "import matplotlib.pyplot as plt\n",
        "\n",
        "x = [1, 2, 3, 4, 5]\n",
        "y = [5, 20, 30, 40, 10]\n",
        "plt.plot(x, y)\n",
        "plt.show()\n",
        "plt.plot(x, y, 'o--r') # データ点にoを付けて、破線--にして、赤色rに）"
      ],
      "metadata": {
        "id": "G78gKGK7MC0C"
      },
      "execution_count": null,
      "outputs": []
    },
    {
      "cell_type": "markdown",
      "source": [
        "#ヒートマップ"
      ],
      "metadata": {
        "id": "GCOv1JvgSI_x"
      }
    },
    {
      "cell_type": "code",
      "source": [
        "import numpy as np\n",
        "import seaborn as sns\n",
        "import pandas as pd\n",
        "import matplotlib.pyplot as plt\n",
        "\n",
        "data = pd.DataFrame(np.random.uniform(size = (4, 4)),\n",
        "  index=['r0', 'r1', 'r2', 'r3'], columns=['c0', 'c1', 'c2', 'c3'])\n",
        "  # 一様乱数を4x4個生成、DataFrameに格納し、行と列に名前をつける\n",
        "print(data)\n",
        "sns.heatmap(data)\n",
        "plt.show()"
      ],
      "metadata": {
        "id": "SITQGa01SLxx"
      },
      "execution_count": null,
      "outputs": []
    },
    {
      "cell_type": "markdown",
      "source": [
        "#箱ひげ図"
      ],
      "metadata": {
        "id": "QTaKVaTQp40V"
      }
    },
    {
      "cell_type": "code",
      "source": [
        "import matplotlib.pyplot as plt\n",
        "\n",
        "list1 = [1,2,3,4,5,6,7,8,9]\n",
        "list2 = [1,2,3,4,5,6,7,8,15]\n",
        "list3 = [1,3,5,7,9,11,13,15,17]\n",
        "\n",
        "plt.boxplot([list1, list2, list3], labels = ['list1', 'list2', 'list3'])\n",
        "plt.grid() #グリッドを表示；下記の演習問題で数値を確認しやすいように\n",
        "plt.show()"
      ],
      "metadata": {
        "id": "INZKQQAbp8Od"
      },
      "execution_count": null,
      "outputs": []
    },
    {
      "cell_type": "markdown",
      "source": [
        "##演習問題\n",
        "以下のプログラムを実行して四分位数（しぶんいすう）を表示させ、箱ひげ図との対応を確認しておこう。"
      ],
      "metadata": {
        "id": "Z96qi-t9-2rT"
      }
    },
    {
      "cell_type": "code",
      "source": [
        "import pandas as pd\n",
        "\n",
        "list1 = [1,2,3,4,5,6,7,8,9]\n",
        "list2 = [1,2,3,4,5,6,7,8,15]\n",
        "list3 = [1,3,5,7,9,11,13,15,17]\n",
        "\n",
        "s1 = pd.Series(list1) # pandasのSeriesに変換\n",
        "s2 = pd.Series(list2)\n",
        "s3 = pd.Series(list3)\n",
        "\n",
        "print(s1.describe()) # 四分位数を含む記述統計量（要約統計量）を表示\n",
        "print(s2.describe())\n",
        "print(s3.describe())"
      ],
      "metadata": {
        "id": "MNFx1lXKqjtc"
      },
      "execution_count": null,
      "outputs": []
    },
    {
      "cell_type": "markdown",
      "source": [
        "#ヒストグラム"
      ],
      "metadata": {
        "id": "hxAbpu3jETzP"
      }
    },
    {
      "cell_type": "code",
      "source": [
        "import numpy as np\n",
        "import pandas as pd\n",
        "import matplotlib.pylab as plt\n",
        "\n",
        "x = pd.Series(np.random.normal(50, 10, 20)) # 正規乱数を生成、データ数＝20\n",
        "plt.hist(x, bins=20, range=(0, 100)) # ビン数をいろいろ変えてみよう\n",
        "plt.show()\n",
        "\n",
        "x = pd.Series(np.random.normal(50, 10, 10000)) # データ数＝10000\n",
        "plt.hist(x, bins=20, range=(0, 100)) # ビン数をいろいろ変えてみよう\n",
        "plt.show()\n",
        "\n",
        "x = pd.Series(np.random.normal(50, 10, 1000000)) # データ数＝1000000\n",
        "plt.hist(x, bins=20, range=(0, 100)) # ビン数をいろいろ変えてみよう\n",
        "plt.show()"
      ],
      "metadata": {
        "id": "nIGyxyMxEZru"
      },
      "execution_count": null,
      "outputs": []
    },
    {
      "cell_type": "markdown",
      "source": [
        "##演習問題\n",
        "データ数20個、10000個、1000000個のそれぞれについて、適切なビン数は、どれくらいだろうか？教科書の160,161ページを参考に、いろいろなビン数を試してみよう。\n",
        "\n",
        "適切なビン数は、何を伝えたいかにより変わることに注意：正規分布に従って乱数が生成されていることを伝えたいのか、乱数なので滑らかな分布でなく細かくみると凸凹していることを伝えたいのか、など。"
      ],
      "metadata": {
        "id": "nwmlBsmUIEcj"
      }
    }
  ]
}