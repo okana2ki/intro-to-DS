{
  "nbformat": 4,
  "nbformat_minor": 0,
  "metadata": {
    "colab": {
      "provenance": [],
      "authorship_tag": "ABX9TyPZBf97ckivEpMnTYj29pk+",
      "include_colab_link": true
    },
    "kernelspec": {
      "name": "python3",
      "display_name": "Python 3"
    },
    "language_info": {
      "name": "python"
    }
  },
  "cells": [
    {
      "cell_type": "markdown",
      "metadata": {
        "id": "view-in-github",
        "colab_type": "text"
      },
      "source": [
        "<a href=\"https://colab.research.google.com/github/okana2ki/intro-to-DS/blob/main/Colab_check.ipynb\" target=\"_parent\"><img src=\"https://colab.research.google.com/assets/colab-badge.svg\" alt=\"Open In Colab\"/></a>"
      ]
    },
    {
      "cell_type": "markdown",
      "source": [
        "# Colab動作確認"
      ],
      "metadata": {
        "id": "7myPgCPCa1s9"
      }
    },
    {
      "cell_type": "markdown",
      "source": [
        "## １．下のプログラムを実行してみて下さい。"
      ],
      "metadata": {
        "id": "y0KQhl_AAR45"
      }
    },
    {
      "cell_type": "code",
      "source": [
        "# prompt: 与えられたデータの平均を求める\n",
        "\n",
        "import numpy as np\n",
        "\n",
        "data = [1, 2, 3, 4, 5]  # ここにデータを入力してください。\n",
        "average = np.mean(data)\n",
        "\n",
        "print(f\"データの平均値: {average}\")\n"
      ],
      "metadata": {
        "id": "svsakJ-9HzOR"
      },
      "execution_count": null,
      "outputs": []
    },
    {
      "cell_type": "markdown",
      "source": [
        "## ２．上のプログラムを少し書き換えて、実行してみて下さい。たとえば、データの個数や数値を変えてみるとか、平均の代わりに中央値を求めるとか、標本分散を求めるとか。自分でプログラムを書き換えるのが難しい場合は、AIに質問するか、変更を頼んでみましょう。"
      ],
      "metadata": {
        "id": "PR2I437IAvHu"
      }
    },
    {
      "cell_type": "code",
      "source": [],
      "metadata": {
        "id": "xnDSiMdWJlx8"
      },
      "execution_count": null,
      "outputs": []
    },
    {
      "cell_type": "markdown",
      "source": [
        "## ３．生成AIに何かプログラム作成を頼んでみて下さい。たとえば、「データサイエンス入門」の期末試験に出題されそうなプログラムとか😄"
      ],
      "metadata": {
        "id": "0Zd-smxcAFoi"
      }
    },
    {
      "cell_type": "code",
      "source": [],
      "metadata": {
        "id": "5Z1Z0US3KsrM"
      },
      "execution_count": null,
      "outputs": []
    }
  ]
}