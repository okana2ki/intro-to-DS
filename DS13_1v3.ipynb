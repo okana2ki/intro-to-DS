{
  "nbformat": 4,
  "nbformat_minor": 0,
  "metadata": {
    "colab": {
      "provenance": [],
      "toc_visible": true,
      "include_colab_link": true
    },
    "kernelspec": {
      "name": "python3",
      "display_name": "Python 3"
    },
    "language_info": {
      "name": "python"
    }
  },
  "cells": [
    {
      "cell_type": "markdown",
      "metadata": {
        "id": "view-in-github",
        "colab_type": "text"
      },
      "source": [
        "<a href=\"https://colab.research.google.com/github/okana2ki/intro-to-DS/blob/main/DS13_1v3.ipynb\" target=\"_parent\"><img src=\"https://colab.research.google.com/assets/colab-badge.svg\" alt=\"Open In Colab\"/></a>"
      ]
    },
    {
      "cell_type": "markdown",
      "source": [
        "# SSDSE-B, SSDSE-Cデータの分析"
      ],
      "metadata": {
        "id": "_tv37-d7ubo1"
      }
    },
    {
      "cell_type": "markdown",
      "source": [
        "# ノートブックの保存／保存したものの再開\n",
        "\n",
        "## **保存のしかた**\n",
        "\n",
        "Colabで開いたら、まず、↑上部の**「ドライブにコピー」をクリック**して下さい。Googleドライブの [マイドライブ > Colab Notebooks] に保存され、その後加えた変更がそこに自動保存されるようになります。\n",
        "\n",
        "ヘッダーに表示されるはずの「ドライブにコピー」が表示されてない場合は、画面上部右端の「v」アイコンをクリックして、ヘッダーの表示／非表示を切り替えて下さい。\n",
        "\n",
        "スマホの場合は、左上の3本線を押して、「ファイル」-「ドライブにコピーを保存」のはず。\n",
        "\n",
        "## **再開のしかた**\n",
        "\n",
        "ヘッダー（上記参照）が表示されている状態で、左上の「ファイル」をクリック→「ノートブックを開く」をクリック→最近閲覧したノートブックの一覧が表示されるので、開きたいノートブック名をクリックするか、右端のいくつかのアイコンのうち目的に合ったものをクリック（または、左カラムの「Googleドライブ」をクリックするとドライブ中のノートブック一覧が表示されるのでそこから探す；一覧から探すときは、一覧上部の「↑」や「↓」をクリックすることでいろいろな条件で並べ替えできます）"
      ],
      "metadata": {
        "id": "1eiVNnCF5jK4"
      }
    },
    {
      "cell_type": "markdown",
      "source": [
        "# Gemini (Colab AI) の使い方\n",
        "\n",
        "* Googleアカウントでログインした状態で、**PCで**このコラボ・ノートブックを開くとAIが手伝ってくれます。\n",
        "\n",
        "次のようにAIに頼んでみよう。頼む手順：\n",
        "\n",
        "0. コードセルを新たに追加したい場合は、ノートブック画面上部の「+コード」をクリックする(現在カーソルがあるセルの下に追加される)か、または、セルの間あたりにカーソルをもってくると表示される「+コード」をクリックする(クリックした場所に追加される)。\n",
        "\n",
        "1. コードセルを作ったときの表示「コーディングを開始するか、AIで<u>生成</u>します。」中の**「<u>生成</u>」をクリック**すると、入力窓が現れるので、そこに以下の依頼を**コピー(Ctrl-C)・アンド・ペースト(Ctrl-V)**しよう←このショートカットキーはWindowsの場合（Ctrl-CはCtrlキーを押しながら同時にCキーを押すことを示す）；MacではCtrlの代わりにcommandキー）\n",
        "2. 入力窓への入力が済んだら、Enterキーを押すか、入力窓の左側の「生成」ボタンを押す。\n",
        "\n",
        "依頼の書き方の例：\n",
        "> (1, 2, 3) という3個のデータの（不偏分散ではなく）標本分散を求めて下さい。"
      ],
      "metadata": {
        "id": "uf87Y89w5mKt"
      }
    },
    {
      "cell_type": "code",
      "source": [],
      "metadata": {
        "id": "mcfF31Xj533q"
      },
      "execution_count": null,
      "outputs": []
    },
    {
      "cell_type": "markdown",
      "source": [
        "#ファイルの読み込み\n",
        "CSVファイルをpandasのDataFrame形式で読み込む。\n",
        "\n"
      ],
      "metadata": {
        "id": "EmyXqMWgaWwr"
      }
    },
    {
      "cell_type": "markdown",
      "source": [
        "## ヘッダー行の指定\n",
        "\n",
        "**ヘッダー行を行番号で指定する**必要がある。`SSDSE-B-2024.csv`や`SSDSE-C-2024.csv`の場合は、最初の2行がヘッダー（データは3行目から始まる）であるが、1行目は「項目コード」であるためAIに頼むときやプログラムを見たとき分かりにくく、2行目の「項目名」の方が分かりやすいので、下記のように2行目をヘッダーとして指定する。上から0行、1行と数えるので、**行番号1は2行目を示す**ことに注意。\n",
        "```\n",
        "header=1\n",
        "```\n",
        "なお、1, 2行目の両方をヘッダー行として指定することもできるが、プログラムが煩雑になるだけでメリットはあまり無さそうに思うので、このノートブックでは、2行目のみを指定する方式を採用する。唯一、メリットがあるとすると、「項目コード」は、`SSDSE-C-2024.csv`の場合、12個の中分類（小計）に該当する列がどれで、それはどの列の小計であるかを、コードだけから機械的に判断できることだと思う。例：LB01で始まるコードは中分類の「穀類」に入る品目である。`SSDSE-B-2024.csv`の場合も、同様に、「項目コード」により、小計に対応する列がどれで、それがどの列の小計であるかを機械的に判断できる。"
      ],
      "metadata": {
        "id": "4YKQXcU5Vpdu"
      }
    },
    {
      "cell_type": "markdown",
      "source": [
        "## 文字コードの指定\n",
        "\n",
        "日本語を含むファイルの場合は、encoding（文字コード）を適切に指定する必要がある。encodingを指定しないと、デフォルトのutf_8と見なされるが、それでエラーが出る場合は、shift_jisを指定する。\n",
        "```\n",
        "encoding=\"utf_8\"  # こちらがデフォルト（指定しないとこちらだと解釈される）\n",
        "encoding=\"shift_jis\"\n",
        "```\n",
        "\n"
      ],
      "metadata": {
        "id": "Y5dO8bgEb1JA"
      }
    },
    {
      "cell_type": "markdown",
      "source": [
        "## Webサイト（SSDSEのサイト）上のファイルの読み込み\n",
        "\n",
        "`SSDSE-B-2024.csv` を読み込んでみよう。"
      ],
      "metadata": {
        "id": "uekJz2h0ak7I"
      }
    },
    {
      "cell_type": "code",
      "source": [
        "import pandas as pd\n",
        "\n",
        "url = \"https://www.nstac.go.jp/sys/files/SSDSE-B-2024.csv\"\n",
        "df = pd.read_csv(url, header=1, encoding=\"shift_jis\")\n",
        "print(df)"
      ],
      "metadata": {
        "id": "WbSXto6wbPsh"
      },
      "execution_count": null,
      "outputs": []
    },
    {
      "cell_type": "markdown",
      "source": [
        "↑年度や人口に小数点が付いてしまうという問題と、沖縄の下にデータのない行が追加されてしまうという問題があるのですが、原因不明です。昨年度のデータ`https://www.nstac.go.jp/sys/files/SSDSE-B-2023.csv`だとこのようなことはありません。\n",
        "\n",
        "→その後、ダウンロードファイルを調べてみたところ、**2024年版では、沖縄の下にデータのない、カンマの連続と改行コードだけの行が複数行存在**するため、プログラムがそれらの行を読み込んで表示していることが判明しました。（年度や人口に小数点が付いてしまう問題は当面放置します。）余分な行はエクセルで開くと気づかないのですが、メモ帳などで開くと、確認できます（皆さんも確認してみて下さい）。\n",
        "\n",
        "以下では、2015年度だけを抜き出して分析するため、この問題による影響は軽微なので、そのまま放置してもいいのですが、データサイエンスの授業なので、以下のようにちゃんと対処することにします（データ分析において、最初に必要な前処理をしておくのは、基本中の基本です）：\n",
        "\n",
        "1. **まず、欠損値を見つけて、適切に対応する（今回の場合は、後ろに余分の空行があって、そこだけに欠損値があるので、該当行を削除する）**\n",
        "\n",
        "2. **その後、分析**"
      ],
      "metadata": {
        "id": "vJ7BWUNjrynB"
      }
    },
    {
      "cell_type": "markdown",
      "source": [
        "## 必要な前処理を行う（これもAIに依頼できます）"
      ],
      "metadata": {
        "id": "MGHYe82inYpt"
      }
    },
    {
      "cell_type": "code",
      "source": [
        "# prompt: dfにおいて、欠損値がある行を表示\n",
        "\n",
        "import pandas as pd\n",
        "\n",
        "url = \"https://www.nstac.go.jp/sys/files/SSDSE-B-2024.csv\"\n",
        "df = pd.read_csv(url, header=1, encoding=\"shift_jis\")\n",
        "\n",
        "# Find rows with missing values\n",
        "rows_with_missing_values = df[df.isnull().any(axis=1)]\n",
        "\n",
        "# Print rows with missing values\n",
        "rows_with_missing_values"
      ],
      "metadata": {
        "id": "So44oEM6mAs8"
      },
      "execution_count": null,
      "outputs": []
    },
    {
      "cell_type": "markdown",
      "source": [
        "↑これで、後ろに余分の空行が複数行あって、そこだけに欠損値があることが確認できたので、以下の前処理を実行"
      ],
      "metadata": {
        "id": "rNjXVKJEnqeQ"
      }
    },
    {
      "cell_type": "code",
      "source": [
        "# prompt: dfから欠損値がある行を削除\n",
        "\n",
        "# Drop rows with any missing values\n",
        "df = df.dropna()\n",
        "\n",
        "# Print the DataFrame after dropping rows with missing values\n",
        "df"
      ],
      "metadata": {
        "id": "R5Ty4h8xmW41"
      },
      "execution_count": null,
      "outputs": []
    },
    {
      "cell_type": "markdown",
      "source": [
        "# フィルタリング（条件に合うデータを抜き出す）"
      ],
      "metadata": {
        "id": "zCsGybHFkbb_"
      }
    },
    {
      "cell_type": "code",
      "source": [
        "# prompt: 2015年度のデータを抜き出して下さい。\n",
        "\n",
        "# 年度が数値型になっていると想定してフィルタリング\n",
        "df2015 = df[df['年度'] == 2015]\n",
        "\n",
        "df2015"
      ],
      "metadata": {
        "id": "OMXCYhmIvD-9"
      },
      "execution_count": null,
      "outputs": []
    },
    {
      "cell_type": "markdown",
      "source": [
        "この演習は、プログラムの詳しい理解が目的ではないので、このセルは読み飛ばして構わないのですが、このフィルタリングプログラム（上の方）について詳しく理解したい人は、以下を読んで下さい。ChatGPTに尋ねて解説してもらいました。\n",
        "\n",
        "---\n",
        "\n",
        "以下のプログラムを初心者向けに詳しく解説して下さい。\n",
        "\n",
        "`df2015 = df[df['年度'] == 2015]`\n",
        "\n",
        "ChatGPT\n",
        "\n",
        "もちろんです。このプログラム行 `df2015 = df[df['年度'] == 2015]` は、PandasというPythonライブラリを使用して、特定の条件を満たすデータを含む新しいDataFrameを作成しています。ここでの目的は、元のDataFrame df から2015年のデータのみを抽出することです。\n",
        "\n",
        "以下、各部分について詳しく説明します。\n",
        "\n",
        "`df`:\n",
        "\n",
        "df はDataFrameオブジェクトです。DataFrameは、表形式のデータを格納し、操作するためのPandasの基本的なデータ構造です。この例では、df はある種のデータセット（例えば、都道府県別の統計データ）を含んでいます。\n",
        "\n",
        "`df['年度']`:\n",
        "\n",
        "ここでは、df DataFrameから特定のカラムを選択しています。このカラムは、ヘッダー'年度'を持っています。\n",
        "\n",
        "`df['年度'] == 2015`:\n",
        "\n",
        "この式は、選択したカラム（'年度'）の各行が2015年に相当するかどうかを確認しています。結果は、真（True）または偽（False）の値を持つブール型シリーズ（Series）になります。\n",
        "\n",
        "`df[df['年度'] == 2015]`:\n",
        "\n",
        "ここで、**元のDataFrame df から、上記のブール型シリーズを使って行をフィルタリングしています。このシリーズが真（True）を持つ行のみが新しいDataFrameに含まれます。**つまり、この操作によって2015年のデータのみを含む新しいDataFrameが作成されます。\n",
        "\n",
        "`df2015 = ...`:\n",
        "\n",
        "最後に、この新しいDataFrameは変数 df2015 に代入されます。これにより、2015年のデータのみを含むDataFrameを後で参照することができます。\n",
        "要するに、このプログラム行は df DataFrameから2015年のデータのみを選択し、それを新しいDataFrame df2015 に代入しています。"
      ],
      "metadata": {
        "id": "y2sb5xymxaNg"
      }
    },
    {
      "cell_type": "markdown",
      "source": [
        "# 和、平均、中央値を求める"
      ],
      "metadata": {
        "id": "M0eXCjUb0TCa"
      }
    },
    {
      "cell_type": "markdown",
      "source": [
        "## 日本の総人口を求める"
      ],
      "metadata": {
        "id": "wXMLhRNw0UvU"
      }
    },
    {
      "cell_type": "code",
      "source": [
        "# prompt: 2015年度の総人口の列の合計を求めて下さい。\n",
        "\n",
        "# '総人口' 列の合計を計算\n",
        "total_population_2015 = df2015['総人口'].sum()\n",
        "\n",
        "print(f\"2015年度の総人口列の合計: {total_population_2015}\")"
      ],
      "metadata": {
        "id": "x_w9pTPc0eKg"
      },
      "execution_count": null,
      "outputs": []
    },
    {
      "cell_type": "markdown",
      "source": [
        "↑総人口列のデータに小数点がついているので、合計も小数点が付いてしまいます。`https://www.nstac.go.jp/sys/files/SSDSE-B-2023.csv`でやると整数で出力されます。\n",
        "\n"
      ],
      "metadata": {
        "id": "V5B4q7-z26CY"
      }
    },
    {
      "cell_type": "markdown",
      "source": [
        "## 消費支出の全国平均を求める\n",
        "\n"
      ],
      "metadata": {
        "id": "Gn1PfLfE0SsW"
      }
    },
    {
      "cell_type": "markdown",
      "source": [
        "### 興味がある人向けの演習問題\n",
        "\n",
        "消費支出の全国平均を求めて、とAIに頼むとどうなるか、試してみて下さい。\n",
        "\n",
        "生成されたプログラムを実行してエラーが出た場合、「エラーの説明」ボタンを押して下さい。"
      ],
      "metadata": {
        "id": "EvyJJuWd4Qpp"
      }
    },
    {
      "cell_type": "code",
      "source": [],
      "metadata": {
        "id": "dLKL0vdL541L"
      },
      "execution_count": null,
      "outputs": []
    },
    {
      "cell_type": "markdown",
      "source": [
        "↓「消費支出」という項目名は実は存在しないので、正確な項目名をまず見つけます。"
      ],
      "metadata": {
        "id": "Dm9XQ2D74xov"
      }
    },
    {
      "cell_type": "code",
      "source": [
        "# prompt: 消費支出という文字列を含む列を見つけて下さい。\n",
        "\n",
        "# '消費支出'を含む列名を探す\n",
        "consumption_columns = [col for col in df.columns if '消費支出' in col]\n",
        "\n",
        "consumption_columns"
      ],
      "metadata": {
        "colab": {
          "base_uri": "https://localhost:8080/"
        },
        "id": "y-3pQZ8H4JBP",
        "outputId": "37209ebe-7b00-4488-8a14-a0d8bf209c1d"
      },
      "execution_count": 8,
      "outputs": [
        {
          "output_type": "execute_result",
          "data": {
            "text/plain": [
              "['消費支出（二人以上の世帯）', 'その他の消費支出（二人以上の世帯）']"
            ]
          },
          "metadata": {},
          "execution_count": 8
        }
      ]
    },
    {
      "cell_type": "markdown",
      "source": [
        "↓'消費支出（二人以上の世帯）'の列の全国平均を求めます。"
      ],
      "metadata": {
        "id": "aDkVJ9dq2sfq"
      }
    },
    {
      "cell_type": "code",
      "source": [
        "# prompt: 2015年度の'消費支出（二人以上の世帯）'の全国平均を求めて下さい。\n",
        "\n",
        "# '消費支出（二人以上の世帯）' 列の全国平均を計算\n",
        "average_consumption_2015 = df2015['消費支出（二人以上の世帯）'].mean()\n",
        "\n",
        "print(f\"2015年度の消費支出（二人以上の世帯）の全国平均: {average_consumption_2015}\")"
      ],
      "metadata": {
        "id": "zZxL4uLPADhQ"
      },
      "execution_count": null,
      "outputs": []
    },
    {
      "cell_type": "markdown",
      "source": [
        "## 演習問題\n",
        "同様に、消費支出の中央値を求めて、教科書170ページで答え合わせをしよう。median()を使用するとよい。AIに頼んでもよいが、自力でも書けるでしょう。"
      ],
      "metadata": {
        "id": "3O15BzAkAwjS"
      }
    },
    {
      "cell_type": "code",
      "source": [],
      "metadata": {
        "id": "xREP_TlbBSEz"
      },
      "execution_count": null,
      "outputs": []
    },
    {
      "cell_type": "markdown",
      "source": [
        "# `SSDSE-C-2024.csv`の読み込み"
      ],
      "metadata": {
        "id": "uo3mL1sNBipt"
      }
    },
    {
      "cell_type": "code",
      "source": [
        "import pandas as pd\n",
        "\n",
        "url = \"https://www.nstac.go.jp/sys/files/SSDSE-C-2024.csv\"\n",
        "df = pd.read_csv(url, header=1, encoding=\"shift_jis\")\n",
        "print(df)"
      ],
      "metadata": {
        "id": "C0TbAixAB8KC"
      },
      "execution_count": null,
      "outputs": []
    },
    {
      "cell_type": "markdown",
      "source": [
        "## AIへのデータ解説\n",
        "\n",
        "**この後、AIにプログラム作成を依頼したときに、このデータを適切に解釈してもらえるように、↓下のセルで、コメント行の形で、このデータの形式と内容を（AIに対して）説明しておく。←これは重要です。これがあるのとないのとでは、適切なプログラムが生成される可能性が大きく変わるはず。**試しに、下記のセルよりも上のセルでAIに依頼して比べてみて下さい（AIは依頼したセルよりも下は読み込まないので）。（もちろん、プログラム作成を依頼するときに、このような情報を付けて依頼することもできる。）\n",
        "\n",
        "↓下のセル内の\n",
        "説明は、[サイト](https://www.nstac.go.jp/use/literacy/ssdse/) に掲載されている[データ解説PDFファイル](https://www.nstac.go.jp/sys/files/kaisetsu-C-2024.pdf) に基づいて書きました。（AIだけでなく）皆さんも、この解説PDFに目を通してからデータ分析するようにして下さい。\n",
        "\n",
        "`header=1`と指定したため、変数`df`は、元のCSVファイルから、1行目を削除した内容になっていることに注意して下さい。"
      ],
      "metadata": {
        "id": "gScDrhTDYC8u"
      }
    },
    {
      "cell_type": "code",
      "source": [
        "# dfデータの解説\n",
        "# データのレイアウト\n",
        "# 1行目は項目名、それ以下の48行がデータ。データ行は、「全国」と「47都道府県庁所在市」に対応。\n",
        "# 列は、最初の3列が地域情報を示す。1行目から順に「地域コード」「都道府県」「市」を示す。\n",
        "# 4列目以降がデータで、4列目から順に「世帯人員」「食料（合計）」と続くが、5列目は、食品（合計）に対する1世帯当たり年間支出金額で、\n",
        "# 6列目以降は、食品の品目ごとの1世帯当たり年間支出金額のデータである。\n",
        "# なお、次の12個の列は、それぞれ、それ以降の列の小計になっている：「穀類」「魚介類」「肉類」「乳卵類」「野菜・海藻」「果物」「油脂・調味料」「菓子類」「調理食品」「飲料」「酒類」「外食」"
      ],
      "metadata": {
        "id": "Tu7w1gdoX_D1"
      },
      "execution_count": null,
      "outputs": []
    },
    {
      "cell_type": "markdown",
      "source": [
        "# AIにいろいろな分析をお願いしてみよう！\n",
        "\n",
        "エクセルで演習したような分析はもちろん、もっと面白い分析、もっと複雑な分析でも、言葉でお願いするだけで、手軽にできるよ。やりたい分析や欲しい結果と違う場合は、それを指摘して繰り返しお願いしてみよう。"
      ],
      "metadata": {
        "id": "UoGs_doAKcSI"
      }
    },
    {
      "cell_type": "markdown",
      "source": [
        "### グラフ中の日本語表示を可能にする\n",
        "\n",
        "AIに依頼すると、グラフ中に日本語表示するプログラムを作成することがあるため、グラフ中に日本語が表示できるように、あらかじめ、下記の2つのコードセルを実行しておきましょう。"
      ],
      "metadata": {
        "id": "iY3MREwX6UCC"
      }
    },
    {
      "cell_type": "code",
      "source": [
        "!pip install japanize_matplotlib"
      ],
      "metadata": {
        "id": "OOLVxOpFEeEJ"
      },
      "execution_count": null,
      "outputs": []
    },
    {
      "cell_type": "code",
      "source": [
        "import japanize_matplotlib"
      ],
      "metadata": {
        "id": "ce-4AxHHE37j"
      },
      "execution_count": null,
      "outputs": []
    },
    {
      "cell_type": "markdown",
      "source": [
        "下のコードセルで、AIに分析を頼んでみて下さい。"
      ],
      "metadata": {
        "id": "h2_HWca6Wmxa"
      }
    },
    {
      "cell_type": "code",
      "source": [],
      "metadata": {
        "id": "ZU0b9_9kWmOO"
      },
      "execution_count": null,
      "outputs": []
    },
    {
      "cell_type": "markdown",
      "source": [
        "# データの並べ替え（ソート）"
      ],
      "metadata": {
        "id": "e0V9nBmGZmo7"
      }
    },
    {
      "cell_type": "markdown",
      "source": [
        "↓AIへの依頼と応答の例です。"
      ],
      "metadata": {
        "id": "CtkzqKWxqyos"
      }
    },
    {
      "cell_type": "code",
      "source": [
        "# prompt: ぎょうざの消費額が多い順にソートして下さい。\n",
        "\n",
        "import pandas as pd\n",
        "import japanize_matplotlib\n",
        "\n",
        "url = \"https://www.nstac.go.jp/sys/files/SSDSE-C-2024.csv\"\n",
        "df = pd.read_csv(url, header=1, encoding=\"shift_jis\")\n",
        "\n",
        "# ぎょうざの列名を取得 (列名はデータによって異なる可能性があるので注意)\n",
        "gyoza_column = \"ぎょうざ\"  # 列名を適切に設定してください\n",
        "if gyoza_column not in df.columns:\n",
        "  print(f\"Error: Column '{gyoza_column}' not found in the DataFrame.\")\n",
        "  # 列が存在しない場合は、エラー処理や代替列名を使用するなど、適切な対応をしてください\n",
        "else:\n",
        "  # ぎょうざの消費額が多い順にソート\n",
        "  sorted_df = df.sort_values(by=gyoza_column, ascending=False)\n",
        "sorted_df"
      ],
      "metadata": {
        "id": "4CH8uSgVpqY4"
      },
      "execution_count": null,
      "outputs": []
    },
    {
      "cell_type": "markdown",
      "source": [
        "↑ソートできているようですが、「市」と「ぎょうざ」の列だけを取り出してソート結果を表示するためには、AIにどう頼めばよいでしょうか？\n",
        "\n",
        "下のコードセルで依頼してみて下さい。"
      ],
      "metadata": {
        "id": "VAwHuftEq-WB"
      }
    },
    {
      "cell_type": "code",
      "source": [],
      "metadata": {
        "id": "6tq2jQMZYtxf"
      },
      "execution_count": null,
      "outputs": []
    },
    {
      "cell_type": "markdown",
      "source": [
        "下のコードセルは私が依頼してみた例です。"
      ],
      "metadata": {
        "id": "36nZo74DXbie"
      }
    },
    {
      "cell_type": "code",
      "source": [
        "# prompt: 「市」と「ぎょうざ」の列だけを取り出してソート結果を表示して下さい。\n",
        "\n",
        "#「市」と「ぎょうざ」の列だけを取り出してソート結果を表示\n",
        "# ぎょうざの列名を取得 (列名はデータによって異なる可能性があるので注意)\n",
        "gyoza_column = \"ぎょうざ\"  # 列名を適切に設定してください\n",
        "\n",
        "if gyoza_column not in df.columns:\n",
        "    print(f\"Error: Column '{gyoza_column}' not found in the DataFrame.\")\n",
        "else:\n",
        "    # 「市」と「ぎょうざ」の列を選択\n",
        "    selected_columns = df[[\"市\", gyoza_column]]\n",
        "\n",
        "    # ぎょうざの消費額が多い順にソート\n",
        "    sorted_df = selected_columns.sort_values(by=gyoza_column, ascending=False)\n",
        "\n",
        "    # 結果を表示\n",
        "sorted_df"
      ],
      "metadata": {
        "id": "Eid9YJCu1my9"
      },
      "execution_count": null,
      "outputs": []
    },
    {
      "cell_type": "markdown",
      "source": [
        "\n",
        "\n",
        "---\n",
        "\n"
      ],
      "metadata": {
        "id": "y4N_NGvtcESA"
      }
    },
    {
      "cell_type": "markdown",
      "source": [
        "ここで、クイズを出してくれるようインストラクションを書いたコードセルを挿入しておきましょう。クイズがじゃまだったら、↓下のコードセルを消すか、下方に移動して下さい。下方に移動するとそこより下のAIへの依頼のときだけ、このインストラクションが参照されます。\n",
        "\n",
        "セルの消去は、セルをクリックして右上に現れるアイコンの中から「ゴミ箱」をクリック。下方への移動は、現れたアイコンの中から「↓」をクリック。"
      ],
      "metadata": {
        "id": "0h-njcBZ1XoT"
      }
    },
    {
      "cell_type": "code",
      "source": [
        "# system instruction:\n",
        "# ユーザはプログラミング初心者です。\n",
        "# あなたの役割は、ユーザのコーディング依頼に応じる際、ユーザがプログラミングを習得できるようにすることです。\n",
        "# ユーザのコーディング依頼に対してコードを生成する場合、依頼されたコードの実行後に、\n",
        "# 「Pythonコードの書き方に関してユーザは何が分かってないかを自覚させるquiz」を日本語で出題するコードを生成して下さい。\n",
        "# quizの解答に応じてユーザに日本語でフィードバックするコードも追加して下さい"
      ],
      "metadata": {
        "id": "HwaYsJPY1NhC"
      },
      "execution_count": null,
      "outputs": []
    },
    {
      "cell_type": "markdown",
      "source": [
        "以下で、いろいろなデータ分析を試してみて下さい。"
      ],
      "metadata": {
        "id": "bQp5aLMyaSNO"
      }
    },
    {
      "cell_type": "code",
      "source": [],
      "metadata": {
        "id": "YLxzaMsE1oIB"
      },
      "execution_count": null,
      "outputs": []
    }
  ]
}